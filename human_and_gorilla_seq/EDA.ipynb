{
  "cells": [
    {
      "cell_type": "markdown",
      "metadata": {
        "id": "ELX0RAT2MObw"
      },
      "source": [
        "## EDA"
      ]
    },
    {
      "cell_type": "code",
      "execution_count": null,
      "metadata": {},
      "outputs": [],
      "source": [
        "import pandas as pd\n",
        "import tensorflow as tf\n",
        "import numpy as np"
      ]
    },
    {
      "cell_type": "code",
      "execution_count": null,
      "metadata": {
        "colab": {
          "base_uri": "https://localhost:8080/",
          "height": 206
        },
        "id": "FVpkDqALAYVW",
        "outputId": "349b7102-5ee8-462a-ecc3-57e62d078a62"
      },
      "outputs": [
        {
          "data": {
            "text/html": [
              "\n",
              "  <div id=\"df-3e475a7d-8171-4f38-976d-fa6dff06b7c3\">\n",
              "    <div class=\"colab-df-container\">\n",
              "      <div>\n",
              "<style scoped>\n",
              "    .dataframe tbody tr th:only-of-type {\n",
              "        vertical-align: middle;\n",
              "    }\n",
              "\n",
              "    .dataframe tbody tr th {\n",
              "        vertical-align: top;\n",
              "    }\n",
              "\n",
              "    .dataframe thead th {\n",
              "        text-align: right;\n",
              "    }\n",
              "</style>\n",
              "<table border=\"1\" class=\"dataframe\">\n",
              "  <thead>\n",
              "    <tr style=\"text-align: right;\">\n",
              "      <th></th>\n",
              "      <th>Unnamed: 0</th>\n",
              "      <th>id</th>\n",
              "      <th>genome_sequence</th>\n",
              "      <th>species</th>\n",
              "    </tr>\n",
              "  </thead>\n",
              "  <tbody>\n",
              "    <tr>\n",
              "      <th>0</th>\n",
              "      <td>0</td>\n",
              "      <td>11408003</td>\n",
              "      <td>ccacatcccctccagcacctgttgtttcctgactttttaatgattg...</td>\n",
              "      <td>Gorilla_gorilla</td>\n",
              "    </tr>\n",
              "    <tr>\n",
              "      <th>1</th>\n",
              "      <td>1</td>\n",
              "      <td>18639873</td>\n",
              "      <td>tgtttacttgccaatctttgtttagctgtcagagtggcttgctaaa...</td>\n",
              "      <td>Gorilla_gorilla</td>\n",
              "    </tr>\n",
              "    <tr>\n",
              "      <th>2</th>\n",
              "      <td>2</td>\n",
              "      <td>9869298</td>\n",
              "      <td>tctgtgaagaaagacattggtagcttgatggggatgacattgaatc...</td>\n",
              "      <td>Homo_sapiens</td>\n",
              "    </tr>\n",
              "    <tr>\n",
              "      <th>3</th>\n",
              "      <td>3</td>\n",
              "      <td>10762804</td>\n",
              "      <td>ttgtgagaattacgtgagatgatagatttagggactatagaatagt...</td>\n",
              "      <td>Gorilla_gorilla</td>\n",
              "    </tr>\n",
              "    <tr>\n",
              "      <th>4</th>\n",
              "      <td>4</td>\n",
              "      <td>13724428</td>\n",
              "      <td>gcaaaaaataagttgataagttgattgatatgttattagcttaatt...</td>\n",
              "      <td>Gorilla_gorilla</td>\n",
              "    </tr>\n",
              "  </tbody>\n",
              "</table>\n",
              "</div>\n",
              "      <button class=\"colab-df-convert\" onclick=\"convertToInteractive('df-3e475a7d-8171-4f38-976d-fa6dff06b7c3')\"\n",
              "              title=\"Convert this dataframe to an interactive table.\"\n",
              "              style=\"display:none;\">\n",
              "        \n",
              "  <svg xmlns=\"http://www.w3.org/2000/svg\" height=\"24px\"viewBox=\"0 0 24 24\"\n",
              "       width=\"24px\">\n",
              "    <path d=\"M0 0h24v24H0V0z\" fill=\"none\"/>\n",
              "    <path d=\"M18.56 5.44l.94 2.06.94-2.06 2.06-.94-2.06-.94-.94-2.06-.94 2.06-2.06.94zm-11 1L8.5 8.5l.94-2.06 2.06-.94-2.06-.94L8.5 2.5l-.94 2.06-2.06.94zm10 10l.94 2.06.94-2.06 2.06-.94-2.06-.94-.94-2.06-.94 2.06-2.06.94z\"/><path d=\"M17.41 7.96l-1.37-1.37c-.4-.4-.92-.59-1.43-.59-.52 0-1.04.2-1.43.59L10.3 9.45l-7.72 7.72c-.78.78-.78 2.05 0 2.83L4 21.41c.39.39.9.59 1.41.59.51 0 1.02-.2 1.41-.59l7.78-7.78 2.81-2.81c.8-.78.8-2.07 0-2.86zM5.41 20L4 18.59l7.72-7.72 1.47 1.35L5.41 20z\"/>\n",
              "  </svg>\n",
              "      </button>\n",
              "      \n",
              "  <style>\n",
              "    .colab-df-container {\n",
              "      display:flex;\n",
              "      flex-wrap:wrap;\n",
              "      gap: 12px;\n",
              "    }\n",
              "\n",
              "    .colab-df-convert {\n",
              "      background-color: #E8F0FE;\n",
              "      border: none;\n",
              "      border-radius: 50%;\n",
              "      cursor: pointer;\n",
              "      display: none;\n",
              "      fill: #1967D2;\n",
              "      height: 32px;\n",
              "      padding: 0 0 0 0;\n",
              "      width: 32px;\n",
              "    }\n",
              "\n",
              "    .colab-df-convert:hover {\n",
              "      background-color: #E2EBFA;\n",
              "      box-shadow: 0px 1px 2px rgba(60, 64, 67, 0.3), 0px 1px 3px 1px rgba(60, 64, 67, 0.15);\n",
              "      fill: #174EA6;\n",
              "    }\n",
              "\n",
              "    [theme=dark] .colab-df-convert {\n",
              "      background-color: #3B4455;\n",
              "      fill: #D2E3FC;\n",
              "    }\n",
              "\n",
              "    [theme=dark] .colab-df-convert:hover {\n",
              "      background-color: #434B5C;\n",
              "      box-shadow: 0px 1px 3px 1px rgba(0, 0, 0, 0.15);\n",
              "      filter: drop-shadow(0px 1px 2px rgba(0, 0, 0, 0.3));\n",
              "      fill: #FFFFFF;\n",
              "    }\n",
              "  </style>\n",
              "\n",
              "      <script>\n",
              "        const buttonEl =\n",
              "          document.querySelector('#df-3e475a7d-8171-4f38-976d-fa6dff06b7c3 button.colab-df-convert');\n",
              "        buttonEl.style.display =\n",
              "          google.colab.kernel.accessAllowed ? 'block' : 'none';\n",
              "\n",
              "        async function convertToInteractive(key) {\n",
              "          const element = document.querySelector('#df-3e475a7d-8171-4f38-976d-fa6dff06b7c3');\n",
              "          const dataTable =\n",
              "            await google.colab.kernel.invokeFunction('convertToInteractive',\n",
              "                                                     [key], {});\n",
              "          if (!dataTable) return;\n",
              "\n",
              "          const docLinkHtml = 'Like what you see? Visit the ' +\n",
              "            '<a target=\"_blank\" href=https://colab.research.google.com/notebooks/data_table.ipynb>data table notebook</a>'\n",
              "            + ' to learn more about interactive tables.';\n",
              "          element.innerHTML = '';\n",
              "          dataTable['output_type'] = 'display_data';\n",
              "          await google.colab.output.renderOutput(dataTable, element);\n",
              "          const docLink = document.createElement('div');\n",
              "          docLink.innerHTML = docLinkHtml;\n",
              "          element.appendChild(docLink);\n",
              "        }\n",
              "      </script>\n",
              "    </div>\n",
              "  </div>\n",
              "  "
            ],
            "text/plain": [
              "   Unnamed: 0        id                                    genome_sequence  \\\n",
              "0           0  11408003  ccacatcccctccagcacctgttgtttcctgactttttaatgattg...   \n",
              "1           1  18639873  tgtttacttgccaatctttgtttagctgtcagagtggcttgctaaa...   \n",
              "2           2   9869298  tctgtgaagaaagacattggtagcttgatggggatgacattgaatc...   \n",
              "3           3  10762804  ttgtgagaattacgtgagatgatagatttagggactatagaatagt...   \n",
              "4           4  13724428  gcaaaaaataagttgataagttgattgatatgttattagcttaatt...   \n",
              "\n",
              "           species  \n",
              "0  Gorilla_gorilla  \n",
              "1  Gorilla_gorilla  \n",
              "2     Homo_sapiens  \n",
              "3  Gorilla_gorilla  \n",
              "4  Gorilla_gorilla  "
            ]
          },
          "execution_count": 12,
          "metadata": {},
          "output_type": "execute_result"
        }
      ],
      "source": [
        "train_ds = pd.read_csv('./train.csv')\n",
        "train_ds.head()"
      ]
    },
    {
      "cell_type": "code",
      "execution_count": null,
      "metadata": {
        "colab": {
          "base_uri": "https://localhost:8080/",
          "height": 424
        },
        "id": "LKpyx7cnKiuH",
        "outputId": "df7c5c95-8a41-4620-cedf-e6600d7147ff"
      },
      "outputs": [
        {
          "data": {
            "text/html": [
              "\n",
              "  <div id=\"df-cef6bfbc-77bc-4032-911d-89ab928c8bdd\">\n",
              "    <div class=\"colab-df-container\">\n",
              "      <div>\n",
              "<style scoped>\n",
              "    .dataframe tbody tr th:only-of-type {\n",
              "        vertical-align: middle;\n",
              "    }\n",
              "\n",
              "    .dataframe tbody tr th {\n",
              "        vertical-align: top;\n",
              "    }\n",
              "\n",
              "    .dataframe thead th {\n",
              "        text-align: right;\n",
              "    }\n",
              "</style>\n",
              "<table border=\"1\" class=\"dataframe\">\n",
              "  <thead>\n",
              "    <tr style=\"text-align: right;\">\n",
              "      <th></th>\n",
              "      <th>genome_sequence</th>\n",
              "      <th>species</th>\n",
              "    </tr>\n",
              "  </thead>\n",
              "  <tbody>\n",
              "    <tr>\n",
              "      <th>0</th>\n",
              "      <td>ccacatcccctccagcacctgttgtttcctgactttttaatgattg...</td>\n",
              "      <td>Gorilla_gorilla</td>\n",
              "    </tr>\n",
              "    <tr>\n",
              "      <th>1</th>\n",
              "      <td>tgtttacttgccaatctttgtttagctgtcagagtggcttgctaaa...</td>\n",
              "      <td>Gorilla_gorilla</td>\n",
              "    </tr>\n",
              "    <tr>\n",
              "      <th>2</th>\n",
              "      <td>tctgtgaagaaagacattggtagcttgatggggatgacattgaatc...</td>\n",
              "      <td>Homo_sapiens</td>\n",
              "    </tr>\n",
              "    <tr>\n",
              "      <th>3</th>\n",
              "      <td>ttgtgagaattacgtgagatgatagatttagggactatagaatagt...</td>\n",
              "      <td>Gorilla_gorilla</td>\n",
              "    </tr>\n",
              "    <tr>\n",
              "      <th>4</th>\n",
              "      <td>gcaaaaaataagttgataagttgattgatatgttattagcttaatt...</td>\n",
              "      <td>Gorilla_gorilla</td>\n",
              "    </tr>\n",
              "    <tr>\n",
              "      <th>...</th>\n",
              "      <td>...</td>\n",
              "      <td>...</td>\n",
              "    </tr>\n",
              "    <tr>\n",
              "      <th>19799995</th>\n",
              "      <td>agaggtgaagcacttaaattgtgccaggcacataatatatattaaa...</td>\n",
              "      <td>Homo_sapiens</td>\n",
              "    </tr>\n",
              "    <tr>\n",
              "      <th>19799996</th>\n",
              "      <td>tctaaagttctggaatttcaggcatagagccaccacatccagccga...</td>\n",
              "      <td>Homo_sapiens</td>\n",
              "    </tr>\n",
              "    <tr>\n",
              "      <th>19799997</th>\n",
              "      <td>tttttgttaaagtgaagaaataactttctttttttgttttttttga...</td>\n",
              "      <td>Gorilla_gorilla</td>\n",
              "    </tr>\n",
              "    <tr>\n",
              "      <th>19799998</th>\n",
              "      <td>gagccatgtgttatgaagagcagggcctccattggctgtgtccctg...</td>\n",
              "      <td>Gorilla_gorilla</td>\n",
              "    </tr>\n",
              "    <tr>\n",
              "      <th>19799999</th>\n",
              "      <td>tttttatcacaaactttaatgccataaattaatatgtaacacatat...</td>\n",
              "      <td>Gorilla_gorilla</td>\n",
              "    </tr>\n",
              "  </tbody>\n",
              "</table>\n",
              "<p>19800000 rows × 2 columns</p>\n",
              "</div>\n",
              "      <button class=\"colab-df-convert\" onclick=\"convertToInteractive('df-cef6bfbc-77bc-4032-911d-89ab928c8bdd')\"\n",
              "              title=\"Convert this dataframe to an interactive table.\"\n",
              "              style=\"display:none;\">\n",
              "        \n",
              "  <svg xmlns=\"http://www.w3.org/2000/svg\" height=\"24px\"viewBox=\"0 0 24 24\"\n",
              "       width=\"24px\">\n",
              "    <path d=\"M0 0h24v24H0V0z\" fill=\"none\"/>\n",
              "    <path d=\"M18.56 5.44l.94 2.06.94-2.06 2.06-.94-2.06-.94-.94-2.06-.94 2.06-2.06.94zm-11 1L8.5 8.5l.94-2.06 2.06-.94-2.06-.94L8.5 2.5l-.94 2.06-2.06.94zm10 10l.94 2.06.94-2.06 2.06-.94-2.06-.94-.94-2.06-.94 2.06-2.06.94z\"/><path d=\"M17.41 7.96l-1.37-1.37c-.4-.4-.92-.59-1.43-.59-.52 0-1.04.2-1.43.59L10.3 9.45l-7.72 7.72c-.78.78-.78 2.05 0 2.83L4 21.41c.39.39.9.59 1.41.59.51 0 1.02-.2 1.41-.59l7.78-7.78 2.81-2.81c.8-.78.8-2.07 0-2.86zM5.41 20L4 18.59l7.72-7.72 1.47 1.35L5.41 20z\"/>\n",
              "  </svg>\n",
              "      </button>\n",
              "      \n",
              "  <style>\n",
              "    .colab-df-container {\n",
              "      display:flex;\n",
              "      flex-wrap:wrap;\n",
              "      gap: 12px;\n",
              "    }\n",
              "\n",
              "    .colab-df-convert {\n",
              "      background-color: #E8F0FE;\n",
              "      border: none;\n",
              "      border-radius: 50%;\n",
              "      cursor: pointer;\n",
              "      display: none;\n",
              "      fill: #1967D2;\n",
              "      height: 32px;\n",
              "      padding: 0 0 0 0;\n",
              "      width: 32px;\n",
              "    }\n",
              "\n",
              "    .colab-df-convert:hover {\n",
              "      background-color: #E2EBFA;\n",
              "      box-shadow: 0px 1px 2px rgba(60, 64, 67, 0.3), 0px 1px 3px 1px rgba(60, 64, 67, 0.15);\n",
              "      fill: #174EA6;\n",
              "    }\n",
              "\n",
              "    [theme=dark] .colab-df-convert {\n",
              "      background-color: #3B4455;\n",
              "      fill: #D2E3FC;\n",
              "    }\n",
              "\n",
              "    [theme=dark] .colab-df-convert:hover {\n",
              "      background-color: #434B5C;\n",
              "      box-shadow: 0px 1px 3px 1px rgba(0, 0, 0, 0.15);\n",
              "      filter: drop-shadow(0px 1px 2px rgba(0, 0, 0, 0.3));\n",
              "      fill: #FFFFFF;\n",
              "    }\n",
              "  </style>\n",
              "\n",
              "      <script>\n",
              "        const buttonEl =\n",
              "          document.querySelector('#df-cef6bfbc-77bc-4032-911d-89ab928c8bdd button.colab-df-convert');\n",
              "        buttonEl.style.display =\n",
              "          google.colab.kernel.accessAllowed ? 'block' : 'none';\n",
              "\n",
              "        async function convertToInteractive(key) {\n",
              "          const element = document.querySelector('#df-cef6bfbc-77bc-4032-911d-89ab928c8bdd');\n",
              "          const dataTable =\n",
              "            await google.colab.kernel.invokeFunction('convertToInteractive',\n",
              "                                                     [key], {});\n",
              "          if (!dataTable) return;\n",
              "\n",
              "          const docLinkHtml = 'Like what you see? Visit the ' +\n",
              "            '<a target=\"_blank\" href=https://colab.research.google.com/notebooks/data_table.ipynb>data table notebook</a>'\n",
              "            + ' to learn more about interactive tables.';\n",
              "          element.innerHTML = '';\n",
              "          dataTable['output_type'] = 'display_data';\n",
              "          await google.colab.output.renderOutput(dataTable, element);\n",
              "          const docLink = document.createElement('div');\n",
              "          docLink.innerHTML = docLinkHtml;\n",
              "          element.appendChild(docLink);\n",
              "        }\n",
              "      </script>\n",
              "    </div>\n",
              "  </div>\n",
              "  "
            ],
            "text/plain": [
              "                                            genome_sequence          species\n",
              "0         ccacatcccctccagcacctgttgtttcctgactttttaatgattg...  Gorilla_gorilla\n",
              "1         tgtttacttgccaatctttgtttagctgtcagagtggcttgctaaa...  Gorilla_gorilla\n",
              "2         tctgtgaagaaagacattggtagcttgatggggatgacattgaatc...     Homo_sapiens\n",
              "3         ttgtgagaattacgtgagatgatagatttagggactatagaatagt...  Gorilla_gorilla\n",
              "4         gcaaaaaataagttgataagttgattgatatgttattagcttaatt...  Gorilla_gorilla\n",
              "...                                                     ...              ...\n",
              "19799995  agaggtgaagcacttaaattgtgccaggcacataatatatattaaa...     Homo_sapiens\n",
              "19799996  tctaaagttctggaatttcaggcatagagccaccacatccagccga...     Homo_sapiens\n",
              "19799997  tttttgttaaagtgaagaaataactttctttttttgttttttttga...  Gorilla_gorilla\n",
              "19799998  gagccatgtgttatgaagagcagggcctccattggctgtgtccctg...  Gorilla_gorilla\n",
              "19799999  tttttatcacaaactttaatgccataaattaatatgtaacacatat...  Gorilla_gorilla\n",
              "\n",
              "[19800000 rows x 2 columns]"
            ]
          },
          "execution_count": 13,
          "metadata": {},
          "output_type": "execute_result"
        }
      ],
      "source": [
        "train_ds = train_ds[['genome_sequence','species']]\n",
        "train_ds"
      ]
    },
    {
      "cell_type": "markdown",
      "metadata": {
        "id": "m-eXpMWFK70f"
      },
      "source": [
        "총 19,800,000개의 데이터"
      ]
    },
    {
      "cell_type": "code",
      "execution_count": null,
      "metadata": {
        "colab": {
          "base_uri": "https://localhost:8080/"
        },
        "id": "5QNqQK82Ktw8",
        "outputId": "286e8d9d-a517-4941-a227-a856bb7a22dc"
      },
      "outputs": [
        {
          "data": {
            "text/plain": [
              "9899415"
            ]
          },
          "execution_count": 14,
          "metadata": {},
          "output_type": "execute_result"
        }
      ],
      "source": [
        "len(train_ds[train_ds['species']=='Gorilla_gorilla'])"
      ]
    },
    {
      "cell_type": "code",
      "execution_count": null,
      "metadata": {
        "colab": {
          "base_uri": "https://localhost:8080/"
        },
        "id": "Kb84OwsSLeaV",
        "outputId": "58a7a2a7-5c87-48f6-d542-f3448af6bd50"
      },
      "outputs": [
        {
          "data": {
            "text/plain": [
              "9900585"
            ]
          },
          "execution_count": 15,
          "metadata": {},
          "output_type": "execute_result"
        }
      ],
      "source": [
        "len(train_ds[train_ds['species']=='Homo_sapiens'])"
      ]
    },
    {
      "cell_type": "markdown",
      "metadata": {
        "id": "I6ev7XzfMmhV"
      },
      "source": [
        "Gorilla_gorilla = 9,899,415\n",
        "\n",
        "Homo_Sapiens = 9,900,585\n",
        "\n",
        "약 1:1의 비율로 구성."
      ]
    },
    {
      "cell_type": "code",
      "execution_count": null,
      "metadata": {
        "colab": {
          "base_uri": "https://localhost:8080/",
          "height": 424
        },
        "id": "_03iN6H2NAeI",
        "outputId": "547e8f18-d704-4087-967b-d6c1db262428"
      },
      "outputs": [
        {
          "data": {
            "text/html": [
              "\n",
              "  <div id=\"df-9e2baa13-1ab8-4de6-9afd-97a90a898395\">\n",
              "    <div class=\"colab-df-container\">\n",
              "      <div>\n",
              "<style scoped>\n",
              "    .dataframe tbody tr th:only-of-type {\n",
              "        vertical-align: middle;\n",
              "    }\n",
              "\n",
              "    .dataframe tbody tr th {\n",
              "        vertical-align: top;\n",
              "    }\n",
              "\n",
              "    .dataframe thead th {\n",
              "        text-align: right;\n",
              "    }\n",
              "</style>\n",
              "<table border=\"1\" class=\"dataframe\">\n",
              "  <thead>\n",
              "    <tr style=\"text-align: right;\">\n",
              "      <th></th>\n",
              "      <th>genome_sequence</th>\n",
              "      <th>species</th>\n",
              "      <th>length</th>\n",
              "    </tr>\n",
              "  </thead>\n",
              "  <tbody>\n",
              "    <tr>\n",
              "      <th>0</th>\n",
              "      <td>ccacatcccctccagcacctgttgtttcctgactttttaatgattg...</td>\n",
              "      <td>Gorilla_gorilla</td>\n",
              "      <td>80</td>\n",
              "    </tr>\n",
              "    <tr>\n",
              "      <th>1</th>\n",
              "      <td>tgtttacttgccaatctttgtttagctgtcagagtggcttgctaaa...</td>\n",
              "      <td>Gorilla_gorilla</td>\n",
              "      <td>80</td>\n",
              "    </tr>\n",
              "    <tr>\n",
              "      <th>2</th>\n",
              "      <td>tctgtgaagaaagacattggtagcttgatggggatgacattgaatc...</td>\n",
              "      <td>Homo_sapiens</td>\n",
              "      <td>80</td>\n",
              "    </tr>\n",
              "    <tr>\n",
              "      <th>3</th>\n",
              "      <td>ttgtgagaattacgtgagatgatagatttagggactatagaatagt...</td>\n",
              "      <td>Gorilla_gorilla</td>\n",
              "      <td>80</td>\n",
              "    </tr>\n",
              "    <tr>\n",
              "      <th>4</th>\n",
              "      <td>gcaaaaaataagttgataagttgattgatatgttattagcttaatt...</td>\n",
              "      <td>Gorilla_gorilla</td>\n",
              "      <td>80</td>\n",
              "    </tr>\n",
              "    <tr>\n",
              "      <th>...</th>\n",
              "      <td>...</td>\n",
              "      <td>...</td>\n",
              "      <td>...</td>\n",
              "    </tr>\n",
              "    <tr>\n",
              "      <th>19799995</th>\n",
              "      <td>agaggtgaagcacttaaattgtgccaggcacataatatatattaaa...</td>\n",
              "      <td>Homo_sapiens</td>\n",
              "      <td>80</td>\n",
              "    </tr>\n",
              "    <tr>\n",
              "      <th>19799996</th>\n",
              "      <td>tctaaagttctggaatttcaggcatagagccaccacatccagccga...</td>\n",
              "      <td>Homo_sapiens</td>\n",
              "      <td>80</td>\n",
              "    </tr>\n",
              "    <tr>\n",
              "      <th>19799997</th>\n",
              "      <td>tttttgttaaagtgaagaaataactttctttttttgttttttttga...</td>\n",
              "      <td>Gorilla_gorilla</td>\n",
              "      <td>80</td>\n",
              "    </tr>\n",
              "    <tr>\n",
              "      <th>19799998</th>\n",
              "      <td>gagccatgtgttatgaagagcagggcctccattggctgtgtccctg...</td>\n",
              "      <td>Gorilla_gorilla</td>\n",
              "      <td>80</td>\n",
              "    </tr>\n",
              "    <tr>\n",
              "      <th>19799999</th>\n",
              "      <td>tttttatcacaaactttaatgccataaattaatatgtaacacatat...</td>\n",
              "      <td>Gorilla_gorilla</td>\n",
              "      <td>80</td>\n",
              "    </tr>\n",
              "  </tbody>\n",
              "</table>\n",
              "<p>19800000 rows × 3 columns</p>\n",
              "</div>\n",
              "      <button class=\"colab-df-convert\" onclick=\"convertToInteractive('df-9e2baa13-1ab8-4de6-9afd-97a90a898395')\"\n",
              "              title=\"Convert this dataframe to an interactive table.\"\n",
              "              style=\"display:none;\">\n",
              "        \n",
              "  <svg xmlns=\"http://www.w3.org/2000/svg\" height=\"24px\"viewBox=\"0 0 24 24\"\n",
              "       width=\"24px\">\n",
              "    <path d=\"M0 0h24v24H0V0z\" fill=\"none\"/>\n",
              "    <path d=\"M18.56 5.44l.94 2.06.94-2.06 2.06-.94-2.06-.94-.94-2.06-.94 2.06-2.06.94zm-11 1L8.5 8.5l.94-2.06 2.06-.94-2.06-.94L8.5 2.5l-.94 2.06-2.06.94zm10 10l.94 2.06.94-2.06 2.06-.94-2.06-.94-.94-2.06-.94 2.06-2.06.94z\"/><path d=\"M17.41 7.96l-1.37-1.37c-.4-.4-.92-.59-1.43-.59-.52 0-1.04.2-1.43.59L10.3 9.45l-7.72 7.72c-.78.78-.78 2.05 0 2.83L4 21.41c.39.39.9.59 1.41.59.51 0 1.02-.2 1.41-.59l7.78-7.78 2.81-2.81c.8-.78.8-2.07 0-2.86zM5.41 20L4 18.59l7.72-7.72 1.47 1.35L5.41 20z\"/>\n",
              "  </svg>\n",
              "      </button>\n",
              "      \n",
              "  <style>\n",
              "    .colab-df-container {\n",
              "      display:flex;\n",
              "      flex-wrap:wrap;\n",
              "      gap: 12px;\n",
              "    }\n",
              "\n",
              "    .colab-df-convert {\n",
              "      background-color: #E8F0FE;\n",
              "      border: none;\n",
              "      border-radius: 50%;\n",
              "      cursor: pointer;\n",
              "      display: none;\n",
              "      fill: #1967D2;\n",
              "      height: 32px;\n",
              "      padding: 0 0 0 0;\n",
              "      width: 32px;\n",
              "    }\n",
              "\n",
              "    .colab-df-convert:hover {\n",
              "      background-color: #E2EBFA;\n",
              "      box-shadow: 0px 1px 2px rgba(60, 64, 67, 0.3), 0px 1px 3px 1px rgba(60, 64, 67, 0.15);\n",
              "      fill: #174EA6;\n",
              "    }\n",
              "\n",
              "    [theme=dark] .colab-df-convert {\n",
              "      background-color: #3B4455;\n",
              "      fill: #D2E3FC;\n",
              "    }\n",
              "\n",
              "    [theme=dark] .colab-df-convert:hover {\n",
              "      background-color: #434B5C;\n",
              "      box-shadow: 0px 1px 3px 1px rgba(0, 0, 0, 0.15);\n",
              "      filter: drop-shadow(0px 1px 2px rgba(0, 0, 0, 0.3));\n",
              "      fill: #FFFFFF;\n",
              "    }\n",
              "  </style>\n",
              "\n",
              "      <script>\n",
              "        const buttonEl =\n",
              "          document.querySelector('#df-9e2baa13-1ab8-4de6-9afd-97a90a898395 button.colab-df-convert');\n",
              "        buttonEl.style.display =\n",
              "          google.colab.kernel.accessAllowed ? 'block' : 'none';\n",
              "\n",
              "        async function convertToInteractive(key) {\n",
              "          const element = document.querySelector('#df-9e2baa13-1ab8-4de6-9afd-97a90a898395');\n",
              "          const dataTable =\n",
              "            await google.colab.kernel.invokeFunction('convertToInteractive',\n",
              "                                                     [key], {});\n",
              "          if (!dataTable) return;\n",
              "\n",
              "          const docLinkHtml = 'Like what you see? Visit the ' +\n",
              "            '<a target=\"_blank\" href=https://colab.research.google.com/notebooks/data_table.ipynb>data table notebook</a>'\n",
              "            + ' to learn more about interactive tables.';\n",
              "          element.innerHTML = '';\n",
              "          dataTable['output_type'] = 'display_data';\n",
              "          await google.colab.output.renderOutput(dataTable, element);\n",
              "          const docLink = document.createElement('div');\n",
              "          docLink.innerHTML = docLinkHtml;\n",
              "          element.appendChild(docLink);\n",
              "        }\n",
              "      </script>\n",
              "    </div>\n",
              "  </div>\n",
              "  "
            ],
            "text/plain": [
              "                                            genome_sequence          species  \\\n",
              "0         ccacatcccctccagcacctgttgtttcctgactttttaatgattg...  Gorilla_gorilla   \n",
              "1         tgtttacttgccaatctttgtttagctgtcagagtggcttgctaaa...  Gorilla_gorilla   \n",
              "2         tctgtgaagaaagacattggtagcttgatggggatgacattgaatc...     Homo_sapiens   \n",
              "3         ttgtgagaattacgtgagatgatagatttagggactatagaatagt...  Gorilla_gorilla   \n",
              "4         gcaaaaaataagttgataagttgattgatatgttattagcttaatt...  Gorilla_gorilla   \n",
              "...                                                     ...              ...   \n",
              "19799995  agaggtgaagcacttaaattgtgccaggcacataatatatattaaa...     Homo_sapiens   \n",
              "19799996  tctaaagttctggaatttcaggcatagagccaccacatccagccga...     Homo_sapiens   \n",
              "19799997  tttttgttaaagtgaagaaataactttctttttttgttttttttga...  Gorilla_gorilla   \n",
              "19799998  gagccatgtgttatgaagagcagggcctccattggctgtgtccctg...  Gorilla_gorilla   \n",
              "19799999  tttttatcacaaactttaatgccataaattaatatgtaacacatat...  Gorilla_gorilla   \n",
              "\n",
              "          length  \n",
              "0             80  \n",
              "1             80  \n",
              "2             80  \n",
              "3             80  \n",
              "4             80  \n",
              "...          ...  \n",
              "19799995      80  \n",
              "19799996      80  \n",
              "19799997      80  \n",
              "19799998      80  \n",
              "19799999      80  \n",
              "\n",
              "[19800000 rows x 3 columns]"
            ]
          },
          "execution_count": 16,
          "metadata": {},
          "output_type": "execute_result"
        }
      ],
      "source": [
        "train_ds['length'] = train_ds['genome_sequence'].apply(len)\n",
        "train_ds"
      ]
    },
    {
      "cell_type": "code",
      "execution_count": null,
      "metadata": {
        "colab": {
          "base_uri": "https://localhost:8080/"
        },
        "id": "8zp7nLGLP0uM",
        "outputId": "ddee71e5-0a88-4645-e09a-33ab688afd72"
      },
      "outputs": [
        {
          "data": {
            "text/plain": [
              "array([80, 39, 37,  2, 30, 25, 16,  3, 15, 57, 48, 32, 31, 43, 60, 50])"
            ]
          },
          "execution_count": 17,
          "metadata": {},
          "output_type": "execute_result"
        }
      ],
      "source": [
        "train_ds['length'].unique()"
      ]
    },
    {
      "cell_type": "markdown",
      "metadata": {
        "id": "hPAaZ2Cnjomr"
      },
      "source": [
        "✨ 꼭 기억하자 value_counts()\n",
        "\n",
        "https://www.codeit.kr/community/threads/5941"
      ]
    },
    {
      "cell_type": "code",
      "execution_count": null,
      "metadata": {
        "colab": {
          "base_uri": "https://localhost:8080/"
        },
        "id": "t_IKN5rDhiMx",
        "outputId": "d70c9b3a-8943-4b2b-c290-8bb0936ce937"
      },
      "outputs": [
        {
          "data": {
            "text/plain": [
              "80    19799984\n",
              "37           2\n",
              "39           1\n",
              "2            1\n",
              "30           1\n",
              "25           1\n",
              "16           1\n",
              "3            1\n",
              "15           1\n",
              "57           1\n",
              "48           1\n",
              "32           1\n",
              "31           1\n",
              "43           1\n",
              "60           1\n",
              "50           1\n",
              "Name: length, dtype: int64"
            ]
          },
          "execution_count": 18,
          "metadata": {},
          "output_type": "execute_result"
        }
      ],
      "source": [
        "train_ds['length'].value_counts()"
      ]
    },
    {
      "cell_type": "code",
      "execution_count": null,
      "metadata": {
        "colab": {
          "base_uri": "https://localhost:8080/"
        },
        "id": "J0YHC4VifaPr",
        "outputId": "8f4c6774-1d33-402b-d5b0-c3aaee62eaf8"
      },
      "outputs": [
        {
          "data": {
            "text/plain": [
              "80    9899411\n",
              "30          1\n",
              "3           1\n",
              "57          1\n",
              "48          1\n",
              "Name: length, dtype: int64"
            ]
          },
          "execution_count": 19,
          "metadata": {},
          "output_type": "execute_result"
        }
      ],
      "source": [
        "train_ds[train_ds['species']=='Gorilla_gorilla']['length'].value_counts()"
      ]
    },
    {
      "cell_type": "code",
      "execution_count": null,
      "metadata": {
        "colab": {
          "base_uri": "https://localhost:8080/"
        },
        "id": "l_DXEsTPhvhz",
        "outputId": "a8875f1f-e4d4-451e-ecc6-32a260f08041"
      },
      "outputs": [
        {
          "data": {
            "text/plain": [
              "80    9900573\n",
              "37          2\n",
              "39          1\n",
              "2           1\n",
              "25          1\n",
              "16          1\n",
              "15          1\n",
              "32          1\n",
              "31          1\n",
              "43          1\n",
              "60          1\n",
              "50          1\n",
              "Name: length, dtype: int64"
            ]
          },
          "execution_count": 20,
          "metadata": {},
          "output_type": "execute_result"
        }
      ],
      "source": [
        "train_ds[train_ds['species']=='Homo_sapiens']['length'].value_counts()"
      ]
    },
    {
      "cell_type": "code",
      "execution_count": null,
      "metadata": {
        "colab": {
          "base_uri": "https://localhost:8080/",
          "height": 81
        },
        "id": "Rc6aOZSiOr83",
        "outputId": "8219f1c1-8648-44dc-807d-8ce143daebe8"
      },
      "outputs": [
        {
          "data": {
            "text/html": [
              "\n",
              "  <div id=\"df-3e8feb11-468c-490f-9c04-0e3b63317cd8\">\n",
              "    <div class=\"colab-df-container\">\n",
              "      <div>\n",
              "<style scoped>\n",
              "    .dataframe tbody tr th:only-of-type {\n",
              "        vertical-align: middle;\n",
              "    }\n",
              "\n",
              "    .dataframe tbody tr th {\n",
              "        vertical-align: top;\n",
              "    }\n",
              "\n",
              "    .dataframe thead th {\n",
              "        text-align: right;\n",
              "    }\n",
              "</style>\n",
              "<table border=\"1\" class=\"dataframe\">\n",
              "  <thead>\n",
              "    <tr style=\"text-align: right;\">\n",
              "      <th></th>\n",
              "      <th>genome_sequence</th>\n",
              "      <th>species</th>\n",
              "      <th>length</th>\n",
              "    </tr>\n",
              "  </thead>\n",
              "  <tbody>\n",
              "    <tr>\n",
              "      <th>5862575</th>\n",
              "      <td>tat</td>\n",
              "      <td>Gorilla_gorilla</td>\n",
              "      <td>3</td>\n",
              "    </tr>\n",
              "  </tbody>\n",
              "</table>\n",
              "</div>\n",
              "      <button class=\"colab-df-convert\" onclick=\"convertToInteractive('df-3e8feb11-468c-490f-9c04-0e3b63317cd8')\"\n",
              "              title=\"Convert this dataframe to an interactive table.\"\n",
              "              style=\"display:none;\">\n",
              "        \n",
              "  <svg xmlns=\"http://www.w3.org/2000/svg\" height=\"24px\"viewBox=\"0 0 24 24\"\n",
              "       width=\"24px\">\n",
              "    <path d=\"M0 0h24v24H0V0z\" fill=\"none\"/>\n",
              "    <path d=\"M18.56 5.44l.94 2.06.94-2.06 2.06-.94-2.06-.94-.94-2.06-.94 2.06-2.06.94zm-11 1L8.5 8.5l.94-2.06 2.06-.94-2.06-.94L8.5 2.5l-.94 2.06-2.06.94zm10 10l.94 2.06.94-2.06 2.06-.94-2.06-.94-.94-2.06-.94 2.06-2.06.94z\"/><path d=\"M17.41 7.96l-1.37-1.37c-.4-.4-.92-.59-1.43-.59-.52 0-1.04.2-1.43.59L10.3 9.45l-7.72 7.72c-.78.78-.78 2.05 0 2.83L4 21.41c.39.39.9.59 1.41.59.51 0 1.02-.2 1.41-.59l7.78-7.78 2.81-2.81c.8-.78.8-2.07 0-2.86zM5.41 20L4 18.59l7.72-7.72 1.47 1.35L5.41 20z\"/>\n",
              "  </svg>\n",
              "      </button>\n",
              "      \n",
              "  <style>\n",
              "    .colab-df-container {\n",
              "      display:flex;\n",
              "      flex-wrap:wrap;\n",
              "      gap: 12px;\n",
              "    }\n",
              "\n",
              "    .colab-df-convert {\n",
              "      background-color: #E8F0FE;\n",
              "      border: none;\n",
              "      border-radius: 50%;\n",
              "      cursor: pointer;\n",
              "      display: none;\n",
              "      fill: #1967D2;\n",
              "      height: 32px;\n",
              "      padding: 0 0 0 0;\n",
              "      width: 32px;\n",
              "    }\n",
              "\n",
              "    .colab-df-convert:hover {\n",
              "      background-color: #E2EBFA;\n",
              "      box-shadow: 0px 1px 2px rgba(60, 64, 67, 0.3), 0px 1px 3px 1px rgba(60, 64, 67, 0.15);\n",
              "      fill: #174EA6;\n",
              "    }\n",
              "\n",
              "    [theme=dark] .colab-df-convert {\n",
              "      background-color: #3B4455;\n",
              "      fill: #D2E3FC;\n",
              "    }\n",
              "\n",
              "    [theme=dark] .colab-df-convert:hover {\n",
              "      background-color: #434B5C;\n",
              "      box-shadow: 0px 1px 3px 1px rgba(0, 0, 0, 0.15);\n",
              "      filter: drop-shadow(0px 1px 2px rgba(0, 0, 0, 0.3));\n",
              "      fill: #FFFFFF;\n",
              "    }\n",
              "  </style>\n",
              "\n",
              "      <script>\n",
              "        const buttonEl =\n",
              "          document.querySelector('#df-3e8feb11-468c-490f-9c04-0e3b63317cd8 button.colab-df-convert');\n",
              "        buttonEl.style.display =\n",
              "          google.colab.kernel.accessAllowed ? 'block' : 'none';\n",
              "\n",
              "        async function convertToInteractive(key) {\n",
              "          const element = document.querySelector('#df-3e8feb11-468c-490f-9c04-0e3b63317cd8');\n",
              "          const dataTable =\n",
              "            await google.colab.kernel.invokeFunction('convertToInteractive',\n",
              "                                                     [key], {});\n",
              "          if (!dataTable) return;\n",
              "\n",
              "          const docLinkHtml = 'Like what you see? Visit the ' +\n",
              "            '<a target=\"_blank\" href=https://colab.research.google.com/notebooks/data_table.ipynb>data table notebook</a>'\n",
              "            + ' to learn more about interactive tables.';\n",
              "          element.innerHTML = '';\n",
              "          dataTable['output_type'] = 'display_data';\n",
              "          await google.colab.output.renderOutput(dataTable, element);\n",
              "          const docLink = document.createElement('div');\n",
              "          docLink.innerHTML = docLinkHtml;\n",
              "          element.appendChild(docLink);\n",
              "        }\n",
              "      </script>\n",
              "    </div>\n",
              "  </div>\n",
              "  "
            ],
            "text/plain": [
              "        genome_sequence          species  length\n",
              "5862575             tat  Gorilla_gorilla       3"
            ]
          },
          "execution_count": 21,
          "metadata": {},
          "output_type": "execute_result"
        }
      ],
      "source": [
        "train_ds[train_ds['length']==3]"
      ]
    },
    {
      "cell_type": "markdown",
      "metadata": {
        "id": "FygA7oHYidX6"
      },
      "source": [
        "model의 정확도를 위해 이런 outlier들은 제거하고 training을 할 계획"
      ]
    },
    {
      "cell_type": "code",
      "execution_count": null,
      "metadata": {
        "colab": {
          "base_uri": "https://localhost:8080/"
        },
        "id": "IooWBmYNi71M",
        "outputId": "211c162d-a7d4-4ac9-be1b-743ac2301a0b"
      },
      "outputs": [
        {
          "data": {
            "text/plain": [
              "19799984"
            ]
          },
          "execution_count": 22,
          "metadata": {},
          "output_type": "execute_result"
        }
      ],
      "source": [
        "train_final = train_ds[train_ds.length == 80]\n",
        "len(train_final)"
      ]
    },
    {
      "cell_type": "code",
      "execution_count": null,
      "metadata": {
        "id": "sqbDX4_kmuyY"
      },
      "outputs": [],
      "source": [
        "train_final = train_final.reset_index(drop = True)"
      ]
    },
    {
      "cell_type": "markdown",
      "metadata": {
        "id": "G8kd8hXvjQw4"
      },
      "source": [
        "이제 train_fianl로 학습 돌리면 됨."
      ]
    },
    {
      "cell_type": "code",
      "execution_count": null,
      "metadata": {
        "id": "xo5rNUZjjdvS"
      },
      "outputs": [],
      "source": [
        "train_final = train_final[['genome_sequence','species']]"
      ]
    },
    {
      "cell_type": "code",
      "execution_count": null,
      "metadata": {
        "colab": {
          "base_uri": "https://localhost:8080/",
          "height": 424
        },
        "id": "CJJoF1o2mAWu",
        "outputId": "f0e9cc1d-6588-4354-ab69-feffb38ec8b4"
      },
      "outputs": [
        {
          "data": {
            "text/html": [
              "\n",
              "  <div id=\"df-d2ddbda8-ee46-4883-abcf-ad6e81f5576a\">\n",
              "    <div class=\"colab-df-container\">\n",
              "      <div>\n",
              "<style scoped>\n",
              "    .dataframe tbody tr th:only-of-type {\n",
              "        vertical-align: middle;\n",
              "    }\n",
              "\n",
              "    .dataframe tbody tr th {\n",
              "        vertical-align: top;\n",
              "    }\n",
              "\n",
              "    .dataframe thead th {\n",
              "        text-align: right;\n",
              "    }\n",
              "</style>\n",
              "<table border=\"1\" class=\"dataframe\">\n",
              "  <thead>\n",
              "    <tr style=\"text-align: right;\">\n",
              "      <th></th>\n",
              "      <th>genome_sequence</th>\n",
              "      <th>species</th>\n",
              "    </tr>\n",
              "  </thead>\n",
              "  <tbody>\n",
              "    <tr>\n",
              "      <th>0</th>\n",
              "      <td>ccacatcccctccagcacctgttgtttcctgactttttaatgattg...</td>\n",
              "      <td>Gorilla_gorilla</td>\n",
              "    </tr>\n",
              "    <tr>\n",
              "      <th>1</th>\n",
              "      <td>tgtttacttgccaatctttgtttagctgtcagagtggcttgctaaa...</td>\n",
              "      <td>Gorilla_gorilla</td>\n",
              "    </tr>\n",
              "    <tr>\n",
              "      <th>2</th>\n",
              "      <td>tctgtgaagaaagacattggtagcttgatggggatgacattgaatc...</td>\n",
              "      <td>Homo_sapiens</td>\n",
              "    </tr>\n",
              "    <tr>\n",
              "      <th>3</th>\n",
              "      <td>ttgtgagaattacgtgagatgatagatttagggactatagaatagt...</td>\n",
              "      <td>Gorilla_gorilla</td>\n",
              "    </tr>\n",
              "    <tr>\n",
              "      <th>4</th>\n",
              "      <td>gcaaaaaataagttgataagttgattgatatgttattagcttaatt...</td>\n",
              "      <td>Gorilla_gorilla</td>\n",
              "    </tr>\n",
              "    <tr>\n",
              "      <th>...</th>\n",
              "      <td>...</td>\n",
              "      <td>...</td>\n",
              "    </tr>\n",
              "    <tr>\n",
              "      <th>19799979</th>\n",
              "      <td>agaggtgaagcacttaaattgtgccaggcacataatatatattaaa...</td>\n",
              "      <td>Homo_sapiens</td>\n",
              "    </tr>\n",
              "    <tr>\n",
              "      <th>19799980</th>\n",
              "      <td>tctaaagttctggaatttcaggcatagagccaccacatccagccga...</td>\n",
              "      <td>Homo_sapiens</td>\n",
              "    </tr>\n",
              "    <tr>\n",
              "      <th>19799981</th>\n",
              "      <td>tttttgttaaagtgaagaaataactttctttttttgttttttttga...</td>\n",
              "      <td>Gorilla_gorilla</td>\n",
              "    </tr>\n",
              "    <tr>\n",
              "      <th>19799982</th>\n",
              "      <td>gagccatgtgttatgaagagcagggcctccattggctgtgtccctg...</td>\n",
              "      <td>Gorilla_gorilla</td>\n",
              "    </tr>\n",
              "    <tr>\n",
              "      <th>19799983</th>\n",
              "      <td>tttttatcacaaactttaatgccataaattaatatgtaacacatat...</td>\n",
              "      <td>Gorilla_gorilla</td>\n",
              "    </tr>\n",
              "  </tbody>\n",
              "</table>\n",
              "<p>19799984 rows × 2 columns</p>\n",
              "</div>\n",
              "      <button class=\"colab-df-convert\" onclick=\"convertToInteractive('df-d2ddbda8-ee46-4883-abcf-ad6e81f5576a')\"\n",
              "              title=\"Convert this dataframe to an interactive table.\"\n",
              "              style=\"display:none;\">\n",
              "        \n",
              "  <svg xmlns=\"http://www.w3.org/2000/svg\" height=\"24px\"viewBox=\"0 0 24 24\"\n",
              "       width=\"24px\">\n",
              "    <path d=\"M0 0h24v24H0V0z\" fill=\"none\"/>\n",
              "    <path d=\"M18.56 5.44l.94 2.06.94-2.06 2.06-.94-2.06-.94-.94-2.06-.94 2.06-2.06.94zm-11 1L8.5 8.5l.94-2.06 2.06-.94-2.06-.94L8.5 2.5l-.94 2.06-2.06.94zm10 10l.94 2.06.94-2.06 2.06-.94-2.06-.94-.94-2.06-.94 2.06-2.06.94z\"/><path d=\"M17.41 7.96l-1.37-1.37c-.4-.4-.92-.59-1.43-.59-.52 0-1.04.2-1.43.59L10.3 9.45l-7.72 7.72c-.78.78-.78 2.05 0 2.83L4 21.41c.39.39.9.59 1.41.59.51 0 1.02-.2 1.41-.59l7.78-7.78 2.81-2.81c.8-.78.8-2.07 0-2.86zM5.41 20L4 18.59l7.72-7.72 1.47 1.35L5.41 20z\"/>\n",
              "  </svg>\n",
              "      </button>\n",
              "      \n",
              "  <style>\n",
              "    .colab-df-container {\n",
              "      display:flex;\n",
              "      flex-wrap:wrap;\n",
              "      gap: 12px;\n",
              "    }\n",
              "\n",
              "    .colab-df-convert {\n",
              "      background-color: #E8F0FE;\n",
              "      border: none;\n",
              "      border-radius: 50%;\n",
              "      cursor: pointer;\n",
              "      display: none;\n",
              "      fill: #1967D2;\n",
              "      height: 32px;\n",
              "      padding: 0 0 0 0;\n",
              "      width: 32px;\n",
              "    }\n",
              "\n",
              "    .colab-df-convert:hover {\n",
              "      background-color: #E2EBFA;\n",
              "      box-shadow: 0px 1px 2px rgba(60, 64, 67, 0.3), 0px 1px 3px 1px rgba(60, 64, 67, 0.15);\n",
              "      fill: #174EA6;\n",
              "    }\n",
              "\n",
              "    [theme=dark] .colab-df-convert {\n",
              "      background-color: #3B4455;\n",
              "      fill: #D2E3FC;\n",
              "    }\n",
              "\n",
              "    [theme=dark] .colab-df-convert:hover {\n",
              "      background-color: #434B5C;\n",
              "      box-shadow: 0px 1px 3px 1px rgba(0, 0, 0, 0.15);\n",
              "      filter: drop-shadow(0px 1px 2px rgba(0, 0, 0, 0.3));\n",
              "      fill: #FFFFFF;\n",
              "    }\n",
              "  </style>\n",
              "\n",
              "      <script>\n",
              "        const buttonEl =\n",
              "          document.querySelector('#df-d2ddbda8-ee46-4883-abcf-ad6e81f5576a button.colab-df-convert');\n",
              "        buttonEl.style.display =\n",
              "          google.colab.kernel.accessAllowed ? 'block' : 'none';\n",
              "\n",
              "        async function convertToInteractive(key) {\n",
              "          const element = document.querySelector('#df-d2ddbda8-ee46-4883-abcf-ad6e81f5576a');\n",
              "          const dataTable =\n",
              "            await google.colab.kernel.invokeFunction('convertToInteractive',\n",
              "                                                     [key], {});\n",
              "          if (!dataTable) return;\n",
              "\n",
              "          const docLinkHtml = 'Like what you see? Visit the ' +\n",
              "            '<a target=\"_blank\" href=https://colab.research.google.com/notebooks/data_table.ipynb>data table notebook</a>'\n",
              "            + ' to learn more about interactive tables.';\n",
              "          element.innerHTML = '';\n",
              "          dataTable['output_type'] = 'display_data';\n",
              "          await google.colab.output.renderOutput(dataTable, element);\n",
              "          const docLink = document.createElement('div');\n",
              "          docLink.innerHTML = docLinkHtml;\n",
              "          element.appendChild(docLink);\n",
              "        }\n",
              "      </script>\n",
              "    </div>\n",
              "  </div>\n",
              "  "
            ],
            "text/plain": [
              "                                            genome_sequence          species\n",
              "0         ccacatcccctccagcacctgttgtttcctgactttttaatgattg...  Gorilla_gorilla\n",
              "1         tgtttacttgccaatctttgtttagctgtcagagtggcttgctaaa...  Gorilla_gorilla\n",
              "2         tctgtgaagaaagacattggtagcttgatggggatgacattgaatc...     Homo_sapiens\n",
              "3         ttgtgagaattacgtgagatgatagatttagggactatagaatagt...  Gorilla_gorilla\n",
              "4         gcaaaaaataagttgataagttgattgatatgttattagcttaatt...  Gorilla_gorilla\n",
              "...                                                     ...              ...\n",
              "19799979  agaggtgaagcacttaaattgtgccaggcacataatatatattaaa...     Homo_sapiens\n",
              "19799980  tctaaagttctggaatttcaggcatagagccaccacatccagccga...     Homo_sapiens\n",
              "19799981  tttttgttaaagtgaagaaataactttctttttttgttttttttga...  Gorilla_gorilla\n",
              "19799982  gagccatgtgttatgaagagcagggcctccattggctgtgtccctg...  Gorilla_gorilla\n",
              "19799983  tttttatcacaaactttaatgccataaattaatatgtaacacatat...  Gorilla_gorilla\n",
              "\n",
              "[19799984 rows x 2 columns]"
            ]
          },
          "execution_count": 27,
          "metadata": {},
          "output_type": "execute_result"
        }
      ],
      "source": [
        "train_final"
      ]
    }
  ],
  "metadata": {
    "accelerator": "GPU",
    "colab": {
      "collapsed_sections": [],
      "machine_shape": "hm",
      "name": "seq_classification.ipynb",
      "provenance": []
    },
    "gpuClass": "standard",
    "kernelspec": {
      "display_name": "Python 3",
      "name": "python3"
    },
    "language_info": {
      "name": "python"
    }
  },
  "nbformat": 4,
  "nbformat_minor": 0
}
