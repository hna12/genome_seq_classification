{
  "nbformat": 4,
  "nbformat_minor": 0,
  "metadata": {
    "colab": {
      "name": "seq_classification.ipynb",
      "provenance": [],
      "collapsed_sections": [],
      "machine_shape": "hm"
    },
    "kernelspec": {
      "name": "python3",
      "display_name": "Python 3"
    },
    "language_info": {
      "name": "python"
    },
    "accelerator": "GPU",
    "gpuClass": "standard"
  },
  "cells": [
    {
      "cell_type": "code",
      "source": [
        "!nvidia-smi"
      ],
      "metadata": {
        "colab": {
          "base_uri": "https://localhost:8080/"
        },
        "id": "pl53r7WW5LOZ",
        "outputId": "6ca8a2c7-a46f-4228-8171-8743c675f5e0"
      },
      "execution_count": null,
      "outputs": [
        {
          "output_type": "stream",
          "name": "stdout",
          "text": [
            "Fri Aug 26 07:33:55 2022       \n",
            "+-----------------------------------------------------------------------------+\n",
            "| NVIDIA-SMI 460.32.03    Driver Version: 460.32.03    CUDA Version: 11.2     |\n",
            "|-------------------------------+----------------------+----------------------+\n",
            "| GPU  Name        Persistence-M| Bus-Id        Disp.A | Volatile Uncorr. ECC |\n",
            "| Fan  Temp  Perf  Pwr:Usage/Cap|         Memory-Usage | GPU-Util  Compute M. |\n",
            "|                               |                      |               MIG M. |\n",
            "|===============================+======================+======================|\n",
            "|   0  Tesla P100-PCIE...  Off  | 00000000:00:04.0 Off |                    0 |\n",
            "| N/A   48C    P0    29W / 250W |      0MiB / 16280MiB |      0%      Default |\n",
            "|                               |                      |                  N/A |\n",
            "+-------------------------------+----------------------+----------------------+\n",
            "                                                                               \n",
            "+-----------------------------------------------------------------------------+\n",
            "| Processes:                                                                  |\n",
            "|  GPU   GI   CI        PID   Type   Process name                  GPU Memory |\n",
            "|        ID   ID                                                   Usage      |\n",
            "|=============================================================================|\n",
            "|  No running processes found                                                 |\n",
            "+-----------------------------------------------------------------------------+\n"
          ]
        }
      ]
    },
    {
      "cell_type": "markdown",
      "metadata": {
        "id": "WG4FOpmImNoP"
      },
      "source": [
        "#download dataset"
      ]
    },
    {
      "cell_type": "markdown",
      "metadata": {
        "id": "gKwt0II00Y0k"
      },
      "source": [
        "kaggle.json 파일 업로드하기"
      ]
    },
    {
      "cell_type": "code",
      "source": [
        "!cp /content/drive/MyDrive/KDT/offline/kaggle.json ."
      ],
      "metadata": {
        "id": "CPxBjHpG-hen"
      },
      "execution_count": null,
      "outputs": []
    },
    {
      "cell_type": "code",
      "execution_count": null,
      "metadata": {
        "id": "JbJa-NQgYFTO"
      },
      "outputs": [],
      "source": [
        "!pip install -q kaggle"
      ]
    },
    {
      "cell_type": "code",
      "execution_count": null,
      "metadata": {
        "colab": {
          "base_uri": "https://localhost:8080/"
        },
        "id": "nx9dt3WJYI9L",
        "outputId": "181d7289-989e-4b94-c459-d55645e435c0"
      },
      "outputs": [
        {
          "output_type": "stream",
          "name": "stdout",
          "text": [
            "Looking in indexes: https://pypi.org/simple, https://us-python.pkg.dev/colab-wheels/public/simple/\n",
            "Collecting split-folders\n",
            "  Downloading split_folders-0.5.1-py3-none-any.whl (8.4 kB)\n",
            "Installing collected packages: split-folders\n",
            "Successfully installed split-folders-0.5.1\n"
          ]
        }
      ],
      "source": [
        "!pip install split-folders"
      ]
    },
    {
      "cell_type": "code",
      "execution_count": null,
      "metadata": {
        "id": "PZJdsNsxvoft"
      },
      "outputs": [],
      "source": [
        "!mkdir -p ~/.kaggle/\n",
        "!cp kaggle.json ~/.kaggle/\n",
        "!chmod 600 ~/.kaggle/kaggle.json"
      ]
    },
    {
      "cell_type": "code",
      "execution_count": null,
      "metadata": {
        "colab": {
          "base_uri": "https://localhost:8080/"
        },
        "id": "G1jpmBsnXOPm",
        "outputId": "12d5f916-62ca-41e9-d290-b9bce928b48b"
      },
      "outputs": [
        {
          "output_type": "stream",
          "name": "stdout",
          "text": [
            "kaggle.json\n"
          ]
        }
      ],
      "source": [
        "!ls ~/.kaggle"
      ]
    },
    {
      "cell_type": "code",
      "source": [
        "!kaggle competitions download -c ml-olympiad-gdscuiz-and-tfugagadir"
      ],
      "metadata": {
        "colab": {
          "base_uri": "https://localhost:8080/"
        },
        "id": "IqaOrS279-Yb",
        "outputId": "a08e546b-9c94-4c19-8d09-0cff71f8ad98"
      },
      "execution_count": null,
      "outputs": [
        {
          "output_type": "stream",
          "name": "stdout",
          "text": [
            "Downloading ml-olympiad-gdscuiz-and-tfugagadir.zip to /content\n",
            "100% 672M/675M [00:07<00:00, 51.1MB/s]\n",
            "100% 675M/675M [00:07<00:00, 94.1MB/s]\n"
          ]
        }
      ]
    },
    {
      "cell_type": "code",
      "source": [
        "!unzip -qq ml-olympiad-gdscuiz-and-tfugagadir.zip"
      ],
      "metadata": {
        "id": "WmrnESwL--6r"
      },
      "execution_count": null,
      "outputs": []
    },
    {
      "cell_type": "code",
      "source": [
        "!rm ml-olympiad-gdscuiz-and-tfugagadir.zip"
      ],
      "metadata": {
        "id": "uyeem5Zk_G9j"
      },
      "execution_count": null,
      "outputs": []
    },
    {
      "cell_type": "markdown",
      "source": [
        "#importing library"
      ],
      "metadata": {
        "id": "H_gt98Yf_2TE"
      }
    },
    {
      "cell_type": "code",
      "source": [
        "import pandas as pd\n",
        "import tensorflow as tf\n",
        "import numpy as np"
      ],
      "metadata": {
        "id": "u7Eo1r9I_WzT"
      },
      "execution_count": null,
      "outputs": []
    },
    {
      "cell_type": "code",
      "source": [
        "from tensorflow.keras.preprocessing.text import Tokenizer\n",
        "from tensorflow.keras.preprocessing.sequence import pad_sequences"
      ],
      "metadata": {
        "id": "UOrqsOgZAEmP"
      },
      "execution_count": null,
      "outputs": []
    },
    {
      "cell_type": "markdown",
      "source": [
        "![image.png](data:image/png;base64,iVBORw0KGgoAAAANSUhEUgAAA2MAAAJcCAYAAAB0anzFAAAAAXNSR0IArs4c6QAAAARnQU1BAACxjwv8YQUAAAAJcEhZcwAAEnQAABJ0Ad5mH3gAAP+lSURBVHhe7P0PfBTVvT/+v6Suf4IN8CGXbyKNSlD+9AZvVz8NKniLqUCNVaxgK6jxQ+NH4zVwGzFGIJWgAQyI8UK8RD6mfIzypzVyBa+xEBqwEIV4ZXtxWwJKUFKa/NL4AaIEcRV/58yfZHZ2Znd2s8mG8Ho+HpPszr+dnZ05c97nnDlz3rcCiIiIiIiIqEf10/4TERERERFRD2IwRkREREREFAMMxoiIiIiIiGKAwRgREREREVEMMBgjIiIiIiKKAQZjREREREREMcBgjIiIiIiIKAYYjBEREREREcUAgzEiIiIiIqIYYDBGREREREQUAwzGiIiIiIiIYuC8bwXtNYXj4yos/4/9ysvRP5uDjCuVl9QHeFb+GI+9KV6kzsHa5zKQqI4mIiIiIooq1oxFqtWDxx5/TBk8rdo46hO+PF6DmmoxfHIcp7RxRERERETRxmCM8OWfXsDUq85D0ph78MKfvtTGno3ew6LzzsN5joepWPeJtigRERERUQ/rQjD2JZq3v4AH0pPUjO3P16FZm9It/roOUwMy0+EMi0RWnQI1o+q5HGz8WLzyrkPOc1Xd+zsSEREREZEizGDsSxx+8wUU/Mut+H7SxUhKz0H5dmbdz24DMfB7nXdFJX5PvNden32ux/xvv4W8DTLo8F6RNj8RERERUeyEGYwdx3uv5GDRqirs7+kYLCEdBTV/wB8shtd/na7NBGT9u/U8f6i5E6O1ecjoIqQ/5cEffvMsnv3NH+B5Kl2MISIiIiKi7hZmb4pfovm/3sVfPtfeYj/Wydox+fKutWj63YyY9DzXvH4qkmZsVF4Xvfct5l+nvOxeuxfhvOsLlJc99pkUHR2/3Z1Ye/h1zLhCHa177+nzcMOT4sXP1qJh4wwMU0cTEREREUVVmDVjFyHxf6Yj/SZ9uIYZVSIiIiIiogic270pHj+MqjWP4YFJNyBFdvJx1Q348c9zsHz9e2j+WpunK754D4uu1zoQuX4R3vtCG2+mb0f695Ek5k0a82P8+JeLsG538LagsgZHrvvH/+ewNkas6uMqvPAvU3HDVeq0lOunImdlTfDvI2uK5DaKYdFubVyHcHooDNJJytfNeG/9cuT83H9fv/D2YRzXZrES+B2PY/9/LMID16don5mDqo4VONxWrUaTiIiIiCiWztFg7EvsX5+DGwal4NZfLkd59XtQsvofv4ea117AYzNuQNLoqVi+K1iYEMphrPuXO1Egg5vEGVi7fj6uv0SdYnT4zcfw49Hadmzfr/Rk2OytQc2aAtxzfRJSfrlR3bYgaprlUsdR8+SPMfqqW5GzaiPe+1iddnj3Rrww+8dw/3JdyPV02XXWnX8oXeePTsINMx7DC6/57+ucjBSMTg8SqGrU73gYG395Db5/ZwHKd2vfZqIbo7urx5H/uEcNHPXhzh7Yh0RERER0zjgHg7Ev8d6SW5E+4wW1FufKO1G07g/4S9MxHDu8F6+vyEK6vPHt44147MYMFFRHFpAd/j85uOcVGUAkYsaK5QH3JUmHX3sAP759uQg0gGF3PYs/HD6GU7K3v1PH8JeN85XtOLxmKu55+j2x1UF8WINFmaPx46drcPEtj6B0o9ppyeu/mYM7r1RnaX5lDpa/Gcl3uR5zjol9YzP84dd6tyhuzF+WFdBJype7F+HWW9Su8xNvmoO1niac8onv6DuFhvdKkSW2r3l7Ae78l1CBzil4ltyDqWsOY1jHd3wLa2ddgyRtDqM7KxoCe1EMGALvFyMiIiIi6jEiU9oF735bJFYhV4O71n7bpI3taU3r7lS3QQxF72kjbZx6v+jb67V5E+976du/fK5NMDr81rePXKd9r8QZ377eqI03eq/I9jNPiWn6Z1z/1LvfigArUOPab+80zHNMG23UuZ7rv33Wo400ePcpdXl1GPZt1m/+EvhZhzs/B/e9bv0bBfkuQXme7dyXeX8I/OxT4vj4gTb9vrXfNvi08UZi+2YkynkSv31kc+Be6PiOiYnfitjUdl+pOo9HEYxp48LX8Zk/E9usjSMiIiIiirZzrGbsMNY+WaDWiCXOwAuLszDaoukgrsjAsyuLIAINoHkdHvn3muA1U0afrEPWz9TPEAEI1v76eouu4r9Ezb/PgdL/4w/mY3nu9ZbN+y66bg4KZslX72FttUcZZ+16zN+6Fy/NHB34WeK7ZD2svX5lfxSb2R1G+bzHtH05R+zXwC7xD68vQsGf5Ks7sfypGRh2vjLa3xUzUCCWFTsaL/xHjf39Y83NaL5L3Z9n73PQiIiIiIg6nVvB2Mc1WPe2+jJxZhYyvqe+tnLR/5yBrFvU181LqvCuo2jsMNY9fg/WydaJ1xVh47/bdIt+vAYbl8iZgPR/ybK8l0x1EW6Y+IjyylO9N0ggdStunWgXogzEaLf+HDaxjr9qL7vo8CuP4QFlXybikdUFSA/4Dh5sXFGlvsx7BHcGaQ44+voMuOWLNe9ir+1+duPZeV3vZv7L48dxXAzN9e+hZrv4HdYsx/InczD10Srlfj0iIiIiop5yTgVjzZ4a1Giv77npBosaK6NhSP+ZHsSsxXte7aWtL/He0/fgntfk6+vx7CrrDjsU3nfxgvIiHTNuCh5eDEwepgYq1c0RBwsXXxLluqRP1uGxTPW5bokPl6PoNov1f7If7yq1YsCciSH29RWjcYPy4jCaW5UXFqbihh9oLx3YmKn3tug/XDxoEAaJIWn0Dfhx+o8x9ZeP4bGnX8DGt/ejSVuWiIiIiKgnnFPBWNPHeih2J665KngoJg0brTRUFJrxl8PBQ6Hm17Jw55N6x+5f4tgX9lVpzY37tVduDAtSO6dISNJqg6JXq9U1h7HuSa2JpWzqOS/Dutlg82F1HhFwjh4WYl8PFMGR8mJjN37HYbh+YjrSleFOPPLrZ/Hs0mfxkuwI5L2/oOm9wM5HiIiIiIi60zkVjH35tSGgsrp/yez8i7UXclnthYVTH63DnNnrlJqrxETZFaMHi/KWw2MTjx3+WA1TgOX48cWBtTd+Q/I9WlDTOzS/VoA5ei+RzxXhTptgsvnwXu1VDR7QnnlmP9yA6Dz563rMt+w1UQ4NeHerCLyU4XWUPjUHc/LmIOtnIji7bjQSBw4MUVNKRERERBRd51QwdtH5MlAKw9entBdyWe2FhUWZ6n1issOOd7cXIUOO3F2Aglei+VSqJAy0vbesh7RWoUgLOnHXchRN7+odXGZuXMSIiIiIiIjOEedUMJZ0pX4P2Eb85RPtZRCH9+vNDhPx/WEhAjm9w45RWSh6Tm3eWPXgY1hn8TmJifp2zMEfTlnV4lgNpciIaTeCx1H1ZBZeUCKxDLy0OHhnGgMT9KnpeOkjq+9jNezFnDDuCwtF76zjeIgHShMRERERxcI5FYwlutNFaKCqei9YV/FSM96r7ujuA9enai+tJM7A2vWdHXa4/3cR5iix20bMWVoV0F170hVKlxxCDTz12ste7svqImStUiIxZKxWH9YczEXDRmv7ugbvfRjZg7O7phkbH1Q76xi0VA+qiYiIiIh6j5gEY18ed/zUrui6Mh0ztO7qPc+Vo8q25z6xjf9VjlKlZ0QRa83NwA1Bms898ptyzDB23X5JOgpWPwIZjzWvykJRtf/3vejGDMxXgjUPnl0XxjPMYuWL91D0+HK1eeJ1z6LofztonmjY1+X/5/Ug3fL3PqPv+gP+UCOGx6/XOhYhIiIiIoq+ng3GvvRgeXoSLh50Mc67fpFtBxfdZxjumTdf7Sq++QVkPboOh6065mitQdEsw8Oh/yXwgcZGSYMCpw68bQ6KlGCkGctFIPOe8btelI6sp5Q7y9C87B5kRfXesmj7Eu8tfQSLlG7qr0fRykfU/ReS2Ne5c5SAFG8/gHuefs/+gc69zMBR6Ui/SXbsMYydehARERFRtwkrGOu4B6djOIaOLi6+PoVjpunmWOt4dTke2642dZMdXLzwds9nzy8aLz53cbpaa/XKPUgZPRWL1tdgf7P6IOCNKx/Aj8f8GIt2y7mHIWuFfY+BwYllFz8rwhfhTwWYs8q/WeSw/12KtfcpW4F1mSlI+flybPzTYXRUGn79JY5/8h7WPX0Pvp8ei8BV9eV/Lcecp9VtH51XgKwrxXaZfmfjYOx18qKJRdj4lHr/3HtP3oDR6Y+hfPt+NHfcwyXW1bwfVStzcOuYe7CxV3TdT0RERETUM8IIxgz34HQMt2KRNhX/8QC+7zctKyBzfZFfV3mJGHhJLOodLsL1c99CzW+y1A4oPt6Ighk/xveT1AcBT51djhoZLyZmoGjnXrx0Vxd6DPzBIyjKU+qG8N6jBSj/WHmpGYYZFfvx7tI7le04/NpjmOpOwSC9q3vXxRg07Abc8+Q67G/ci3e9sYjG9qNcryGU75bdiiS/3zhwWP5f2swKsa9/XYO/rJuDdLEbmrcvxwPp30fSd/Uu7cV3TPo+bp39Aqpam1Hz/tnUmJGIiIiIqGt6tJniRRMfwVt5GSL4GIaMvBfwyE2xagR2EUbPfAkNf/8L3vrNHGRNvF4NzK68Hul3PYJn172Lpsa3MH98V7svvAjpj5fjESUeq8ID89aZ7p0aiOvzXjdsRzpGK/MmYvRN6cjKK8Xa9xpwav/reOR/xmJfHcdxpYawK8S+nv4s/nC4Ce+uexaP3JWO67XOP4Zdl447H56Pl6r+gmOH/4DSn3Uh8CUiIiIiOsuc963sU5yoz2nGup8n4R6tE5bIzce73xapzU2JiIiIiKIoJr0pEhERERERnetYM0ZERERERBQDrBkjIiIiIiKKAQZjREREREREMcBgjIiIiIiIKAYYjBEREREREcUAgzEiIiIiIqIYYDBGREREREQUAwzGiIiIiIiIYoDBGBERERERUQwwGCMiIiIiIooBBmNEREREREQxwGCMiIiIiIgoBhiMERERERERxQCDMSIiIiIiohhgMEZERERERBQDDMaIiIiIiIhigMEYERERERFRDDAYIyIiIiIiigEGY0RERERERDHAYIyIiIiIiCgGGIwRERERERHFAIMxIiIiIiKiGGAwRkREREREFAMMxoiIiIiIiGKAwRgREREREVEMMBgjIiIiIiKKAQZjREREREREMcBgjIiIiIiIKAYYjBEREREREcUAgzEiIiIiIqIYYDBGREREREQUAwzGiIiIiIiIYoDBGBERERERUQwwGCMiIiIiIooBBmNEREREREQxwGCMiIiIiIgoBhiMERERERERxQCDMSIiIiIiohhgMEZERERERBQDDMaIiIiIiIhigMEYERERERFRDDAYIyIiIiIiigEGY0RERERERDHAYIyIiIiIiCgGGIwRERERERHFAIMxIiIiIiKiGIhpMHZ8+3LkzM7B8u3HtTF0dvKh5c8eeD44jC79kl+2wPuBB95mnzYiSr7x4eTnJ3HyS+19b6J9Z88nXTwHovIdj+Ow3JY/t4hfNHK+k2I7Po/ybyh97sWba8pR/sej2ogIHT8sjlUPDkcz2YnW7ygc/yQK55KJr9kbne+sH2fd8PNSF0Xr/IjKsXwS3s1iW9bsQhe3xl8vS8t9clt68clwcH2OyGNtwEHtffgc/o5fyjT/JHzfaO+NfEGmhUHPL26o10ZEosvHdjcd13TOi2kw9tWXx9DS3IJjX36ljelhSsIe+4RUZpS2vLwE+bMfxD0//zl+rg33ZImEdOEKbKwVGbMuJmSW/r4FBfKzXvJqIyJ1DJ51S7CkuAZ/1cY41fJ2gfiuBdjyd/Hmcw82FC/BBs8xdaJT2oXA9gL9/2qwJGsmZr5q8T2jlYGJlPadl2wLd8+ZBPuOBmqgZLev/ooauS3rPOIXjVQLahaL7ciqQNhHVaiM1pdHseftLdhyMPyt874kz6lydZuOiH0lvmfNEWVSUB37y3IwpB1d+R0/q8FyQ6HUX7dFdi4Fc8yzwfF3DurPFeK3nSm+Z4s2opN6LnemX8EH7bc4W8kMZgwy4fo+Lt+njTDqwvnhx+GxHLzQ5SSO7hHb8vYBR2mJ4/MsRDoX7WMweADgRYXclsU1ItUz86Lc8jOth4K3A9dgxSq48i+80T5Xu6Z/dbJF5LFOIvIclrPf0fuqTPNF+vL/tBEGLSI9k2lGxZ+1EXZCFMbq+cWT5i+jXzfsBuP1pMvX2/COayKnHARjzhMVpwlK73AUbz5+j0gk7kHu5tiVcbRsfQr/a/ZTqPjjSQy7JRNzl5ZiTfkaMZRgwb/cifEXHcbr/5aPR2aLC8dJbaFwNO5CuQg2djVq7x1ydFFzEsSdPIwt/5arBpn3zETBy56oBZbHPa+gQPx+P8+UFwIxZIoANncFthwKY0dFKwPjpwVb5pv2lXGYv8Xi4m3j88OoebEAM++Ry4rjdU6Y309ztLYM+XL/zDTsq0eWYOOfIzmogvjmuLhgyhdH0RJu4aPDgNLSZx688uRM9TjLzMWKtw+Ly2ZX6YGl3eAw4NQLCwIGLdNxxodjkRRK6YUpNkNY6fHfZSZFO0/Fcfbgwlfg+Uyb5tCQW4rwu9/9LuTw5CRtAUd88Kzpaul+lH25Byv+l/j9Z/4vrKjr+YAsEmphhN2gFYaFpQuFLgGidJ51GIa7l8hrqP0w+5+1WUOwDQBCSkWWxbEfMLyQhRHaEk5YBVdhF97sK7c4BgyDg+u6OXg+rgQ8Iihq8x8fVnlFpIWxWgGR3fDg+tDfJ2R+p8sF1kTBOQjGvof0/LmY2zFkIz1RnZL6C+P4ubjbPUidcFboj0FJLvHfhe8N7q+O6mnHa1AmTnLfVfehZHURsm8Zj9QrhqD/d/uLYShGXJuOu/NLsHpuOi4QGa/llRFkR44dwBYRbBwIM30bcvNcw8WrGHdfIceOx2zDBW3NvanKvPZEUFJcgPLak7jm3tnIvnkIDr+1BI9XiO+szRGpk3Ur8MiSN9EyOhNFq9cqF7a1K+Yi3bUH5XMLsDHM4LN7mPaXPsxLxxBtjqC+9KL88XyU/aEFw27PxtyHb8OwdhFcz81F+Z+d78GWrQV4/N9qcOzqLLGv1EyAsq/6e7FhYXjrCqVlawV+/7l8JdZd6Y1CQOSA3E8FS/DmoSFIf3g27rv6JHatKcCSrVEqHLoqC6XGDJQYwgko1FJjqyEaGVnhn2cHHmNimCvON0dkUPcrEZjvuwA3zpyN2TNvxKCDb2LJ7Egy6dEmMsMfd7V0P8pcgzBkoLh2yP+D5DWkuwQW6uSsUa8BW4r8xzsLvAPTo+Lpw8R4UyZavI5JiNnF86yTC/3j5TXUfhh4kTarmbmW5Ut1T/iNE0NXm9z1BsOmF/sdCx2Dg+u6OXhe8Uc5/jA2zPUfX/5fPXAkieua8ZjpGES+SRqW6DAdFMb/q8X+cLRPiLrGQTA2EMOudcPdMaRi2HfVKUOvMo53IzWxOy9M0TYQ4x+Tmfi1mDNuoDauhx05rGTGRowfiyHfUUdZ6e8eLy6j4oJw8LBIBnuIy//ipf6yF6B/nGG83QVNt+9NVNT7MGJmEebcPh7p4v/cSf1x/O0NqOlSJq8Fuzbtgi/5bizInYwRMmMkuBLdyFowG+NdR/H6lt5QkiUu+oZ92DH0d3aeHN1aji2f9Uf63BI8+Yt0uG+6G08+K4Ko7x7Hlt/83mGb9YPY8tuDSsBfpOwrday6rx5T17V5T1SCppbaFSiQmcVRWZh9+0Ac37oET70qArJuzri0bN+g7KfJ+UXIumk8bntM/L/Kh4MvvwlvT2eavjwekGFLfSAwozD3JjEhcRCiUnx10cDAY0wOjg4zH/b8tgIHfSNw3/JipUBo/C3ZKF5+H0b4DqLit3scZ8ydNhF7aqu2wNnqOyNw9wvi2rG2FHdfpY3rFkOQPs8iY2gxOAu8LdKji+RBYspEz90gxvRyW5/SjqcoFxiYalny16t7Yte/GfaPTXM8fw5bFD1SHkGN7xY8ZVhHpOeT6yLTsdBxTGgz2BqCyYv807O12nG4dr3/+NnXO7vWdYeDf94j/vbHyCudB2OW+0MOIfcJUdd0zz1jf/diy4tPIefBe5SmaTlzl2BD7VFnmbJvWrDlSbHcz2ei7ANDFvGbkzi8/RUsmSvvq7oHMx/Jx5LfetBiXKdW/S5LCU8eqkGZ3mxJzJ/7b1tw2C/HqZc6GhPz4M3L/Nrp/92Djf8mvqPSTO5B5CwsQ42p+Zixff/R7SuQmynXMxOvfKTNkPQ9pYnCwV17/L+HyUnPLuwS/13DhjqrUYm24154PpEv9sCrb7tfE6kclOvjDQ7uEwET3PjJeH2rXUj9UbpIHg9i7/6uZP9b8Ff5eaNHYKg5iO0/DCOvEFnMw0fDC1wNmeigQ3cV9AVk4o9izzYRbl11N+50G2pu+7tx5zRx1DRuwR4ntX9/P4wDnwPDbrAI+MW6xv5P8d9zoEuZL1+zBxuW5IhzbBdOXp2FpQsmY/y9JSi6/Xv46+an8ODs5XhzX0s3lSafxME/iezMd9Nx49X6hX8Ixk92iw3bBU+DNqqn/HGFgwybOH7lDh8oLvLqiB7TcRzrB/KXe7Hnjz64Jt2N27QWD4rE23D3JBd8f9yDvXb38FkagawX/DNk1kMWQpU1y/t1HszU0xZDBlRvMqQ3twpoQqRnhI33BOlpuxj3zVHU6E2ns15RMsPGtPq4vL8uV16DxHTLptVW69fGySbIJ41Ni4M0nf5cNuHOV68h4hp1jza/PshtcfU3ZQrthi7leU2/WZhN52KiozZ4LtL/hzaug0VzOdOgNquzYK5lKZisjJ5cYBj3uyJM/gdldGiTnjQsZz8U3RLOld2/hlNtcqmfH0+JVz1F5MneVvM192iB6j3TRd7syfCbOCu++Uop+PGdUd864pPnmrzfXjZl1gf13vuCzeKcE9eFsSnavES9WNSDsZPiApnzq6eUpmlj7y9C6dI5mDzkKN4UF7/ckl1Bgw7p6BtLUF7vw8BJc3DftXpW5SS8a3KRv+r3OD4iE0UvLMWcyUNw+PUlyF0oLn6mdR4VF/HcueUidHAj/ZZ0uEXCebS2HE+tD9U8LrAksjRnvJphSr4bP/lHZSagWW3Ws6G+Pyb/61KUPpUJ98mdKJPNx/YFXnSPyqZ5q/bggmsnI/3adKQmaxP+YTJmP5AK10evIHf2Erzy9i4cPKpfMFpw+M81IuDLx4NLavCVmHfu9PCrymXbbqkrN5sf/M8NIqvhgst1Em++8qa6v/9HOuZ27Ce9GaPRSbQ0is9OHNlRk6pIHiF+FbHOI125T28IvidLpPcfxFHz8SQyQgdE4Bh24NqRiQ4+WHVcEBXmTLzIqB1oFvHS6GEB32PIlSPFMdmCA/6lC9a0M1xvbuPPh69k268IM3LHxTbLjOQ94th98+OB+El+KdaKzIsaIPfHiHuLsXpJNm6M34tXinJwT+ZM5BRb3eyuERGKUkq8T/yu8r/5nijLUuSjOPyx+Hf1CMgGV7r+w0aK/XYSf21ysI+iqSPzFSTD9vlBeMUx2n/EMPR0nXxHCb/e6UDjQXjEv1SxLWbDRsj0xoODYTX5PYjyRwy/WZDBshMKg4Hjs1HywmylVYBfBrRLTYbEtWjp4yj74AKMldeGm1L9jhvvq/lq8+fEGzH5lvEY9h0R7Iv0+1mnTV6ba7D8sXyU1wHum0V67xZn79FdKF8s0lBjAHBSBG+Pa/P9sgglSx9G+lD1RBz6iyLle2bq1xtJCfCeEsGpuu/uycpVCiO7pWMnJ0RAe1gJkvXjw1yQaV1AFzWG2mBXQKuSwOZy5kFtVtcDOmrwQgzh3Ecs0lZjDafa5FI/P/TzJTSf5b2szvMJMv0vWCPyNTfNRelaNahcvSgTqX9/E0sKXsHBMI9N3+HDSqHg4Y8Ph8inGbgGYdCQIRhx/W24+/4sZIkh+9EiPHarTFldGPGLyRgRpNURUW9xvvY/Or45KIIHkaj4huLuZ4pxpxZ03JZbjCH9HsTy2lUiSEvF3H+2zoLIQG7hb4/CNSoLRTNTO0qNfXXlWLL1uAjQnsST+vjb56DoOwXIebkCGz5Ix+y0zhzlyU+OYXzuC5h9vfY5PxuBpx4sg3f7HhwQwU+wS7ksiexYk/w+63eJLN1ATP7lbVomU1zMl8lM4QhkLRCBplKaPFS87g+fyJRuebkGP1ku5pWjNV7PYUwuWI2sqwPLwYeI7/R/r/aiZsubqHm7Ar9fs6IjIXJ9dwgGXTYCU/81G+nXiYxbBInK4UMyqyUumQdFMne9TXmnViujkE0XDJlz+Zs8u/k4XOPmYKm7Bo+XvoKCVUOw9OGx4oKgz2hVMisS9i/EP3mxVEeo5PrFv5ObC/DzzeooWTIbniEYP2U8Kp7dgIUl/fHYA+lKU0XZK+Xr/74Cu+TxN9lhhk0EuUW/U0s/Y0pm4sWx2eHvYv+Jf0MHW5wrA4cox5endCZ+XqqOsjU4FWPFefjKtt/D+5MspBoPQZFxfFNkBl3Xp2KkNiocA6++Eek/TcUI9zVIvcL6nO4/PB3ZS9KRdVwElx4Pjn7vRtsg+eA+2axEaN6JvUfvxNBEGfAbshYtW/BUQBOqr/CVvEfNeN5K4jiTW+RoH4Widc1sDOtsS9YdOP5fNUoA5E4aqJ532j06AadQN5Al/FlXa2+kU18p32vIwMC0qb84zmRm+02RyX5THRWUcp+p05ygcEGc9sKObCrtEplu5Y2WAVVed4UXniOT8eQq07mgOXrUhbuXrMadw7WJ1w/CzCffxMH3ROBzy+TQwfPnh3Hsn+fgBZk+Kun1cYwoehBl+2qw55D4TC3AOvoH2QRZBMEPz0WW0kx+GLLmfYWj8jpVtQdHp97XmSrKwO2xp7ClbRgm/0sxbrv6AqVpbtlvl+CRP2ehZMFk/1pvQ3p+QZxVsGKmBtDl2jtHPvJCPVtbsNNzVFzrhyoFmeM7ajVEcPZ0PjYoLSoc+qgcOT8PaysCKJ3I3KK9iYKTx9UQqeW43J/hHH2pyBTB0d3au5D6XdDFY1s/P/TzJbTD6/Mxc732poM4NwqAp4pC1a8dx55tHvgS78bsme6ONH3gVZMxO/MA7in5PXbWi2PYUKCgBnvihfyuARkGH/Z+oKX/dbI2fizGOmoaOBDun2UpBby6lj8uR8FbIs8im8v/2O5q01WyJlLbR/Jex0XiHFTfEUUkujVjf96p3rx/9W1I12t/FP0xdvJPxF8fPFv2WJcAndyD8uItOO4agcxZxovLcdT8p2zuloq7p3UGaNKQtBvFBcuHPX8+oI3RTJrdGYhJA1PhljU3vsM4Gkb1ecvvK/CmmN81Lgt3/6OWePz599jQKL7RpEwtENP0d2O8bB/duAde02e4/jkLmRaBmM6VmIrJ989F8YrVWGtourC2vBSlC2bjznGRBWIymNyzXb0on/zjHvuSKkOtkLHmR6lhFIny8cGTMfeBsRj6z7Mx95YhYl3L8cjsMtR05Tk0WjMT9Qby8PVPm40X5t6GIfsrUCCbw/7857hn9lN48/OxyFpS1FEQEFsncVy5AKlDyyfqs55q/qMcZcX5KHtP/W2CsWyyoTXnkDVPas2kGJbc7VfC30lkku4XmcjPtmDJ47K54FGxLS04XPsK8h9XCxUyp42NLBAY6MadP0u3DcSMXAOHIfWmOzH5KptPEuf/77eehOuKYWKLj2LjtoPAd1wdpb/KEG8KuBzQb1J32nuapU82IN9Qqt6lknVxTr75O7Vxm+fFHHV9Xb1Hx6+JraxRl11d12DjmjIsmVuGPUqHKsFZNiH9Rg0R0x/TjjE5/KtFtKU3F7zHfx+FGu6ZLmsFQncvHl0ujJ+ZaRmISSPuFemtHohJV6VirPx/6K8Oe6sTmdEcPRCTBiLVLc9MHw4f1dPLk+I3knW/w+AebXGd+vwADhuuIWrgphZwZolrwZDvDkXq7XNQnCN+i3pZGGmqRzCk5/7difunR8qg1Jibeh+0TUt0J7Fny+9x0jUMw0Q6e3RTjXJtCWhS6fhkDXVvnPi9tDlt6QUmEQ2m/dfBB+8+7Vz1OO10qrOGUG+652iYqV7DnHXE4v87RlowNGJmaUdeo3OQBQaZhn1v1epFEmnzxfL/V/jKlHZ8dUbuqQtwwQXqe11ArbzR8T2oec+H/kOHor9vFza8FUHLmW9asGtVDnJL93Q0lw92L37XGGrqnXbIRRREVIOxox95lARryOiRgSWIV6jN0/CRuNCYE48zR7GlWNZoiATi/tmm5j3iIiif8XGFG6nmlf7DUOWi4fs49P1BF+gXBqftkY/vQvk6kSF0ufHw/WM7gsCWI2oV+tirA2tzhgyVW3MQfzWlI8OGDwvIRCoPi4x0cHZVwMm634vgWGQ+JqWj/+dvouL3NnvJ0K5dbbsuLihP3oPcVSJRk80jl+qlyP2RKhLwpQ+Px5DPa1D+m2D3ug2Bsjs+EgGwcZ5mtSnaiOEj1Au2cgN5ZAa670NR+Vr8rkJLFCtEAFsijh9jZspOiG7BQw2hmlipdmGF4YKbM385yl8ux8btR/HVEHE8f890tTKSx7bYNVZNNtTmHC7luOrI+AQJVPqLC1OJ2C8/GXIYG4tzxbbkIP/FncC19+HJFUX+hQoOBe8qO8QQ0CRHZHp+Vy7O//74yS+fxN3jXDj51rOd91YGpTVZNXduozV5HKHtI9ve04IKvFHdfxDnhTanU0pvkyKjPfQXJZ3r6eo9OobMt/xtC54rF8fZRtQc+QpDrk7F94KdYkPV+1a9DYGZn6MNMiMqMtzifOo4zsQQwC/zFu7gIKMdVcMwUp5YTn3HpZ5XDtNcS/20z/vGaX+QYj93JA0t8O4Rv80V6RhvKmDqn3YjbhQbtmufuTCyMz33qwU1pUdyUDuoMPU+GKLQw/fnDSivFRnnSVl4ctp4uMS15dn1gQ2IwxH83jjD1ujN401NVfVnWUU22PRqenIv9ogAweUSn1/7psNOp5x3umI1OOuIxf93jHqTS3MhmOXB0B/uCeK3b96IJSVvwqvcXiEL+crx1L/vAZJvQ7rpXq2O++4CapFOwrO+HB7fUNz52FylU5yjG1dhi/KIFAeOH8au3y5BTmYOVmw/hu9NfRKr5+rN5buLVhMpB+elDkS2ohqMHTumZocGxlkcnFrzNHlxOW4qqT287lnlPjHp4G/FiW0M1v5+VC01/uQV5ARk7LrrZtWT2PPyKpE4iMzcjCyMNwSBLUfVi07NEvO2dHY7HJr2sMgIB0f3LZ304JWXdsE3+Cf4ycw7lQTu4LoVDhO4IRg/IxN3/2sJVq/Igtt4z5cw9KbZKFmzFqt/HbzkadgIGX4bOv0Qju/3iN8zvB6OQnJpOReLbVGC3u/KpojiImBsBuh3z1v4g9/9HAFsMvFr16B0RakYnsTsmXeLzFWwRHwkUmVNa10N9vhVQB7Hnh3iYucai9Th2igH+g8dj/sWlGKN1rb/dxWrUfyvtyF1sDZDmFLvtd4vclBroYI868dUknhyXwVWvH0cLncWbhvVH2PFsTfCdRxvPrcCe0LWZA/BsNEiZfnEA69hP6lNHt0i462+73Y2mUQj2eRX9jYpe7ace4exIXOElCa2huNLG5QadXmcLZiNrOnjMTRYIKo1Y23ZptZudPjmIGpkOpMsjrNQx4ieeQsz4JVN6Pwy2ueM/hj2j/L3PwzPfsNBq3eUlJxquM9W7KNLxL/PjgfeH/b5MaUAov9FQQp1NFY9enYOYXRIcVJcu0plCxY3sqaMQP/r70bmKBeOb34WK97rQksJyUkBmewgQl4HTc8iDPaMO7V7/GAdy1gVqugFRENxd/7DcLsOomJl4P3pVvTAMvSvYqD3XhzidLD/HfXvcAH6Jw7BkM5ovtv0v17kA/Jl65QNeCpX5k1ykP9vNfgqLQvFhXc6DoZa3l6CZ7efRP+bMpE+VFw7Z6k9uZYvFAFayFr949i1qgArNh/EwH/OVh5zU/yLVPTv1kCMKPqiGowNGqRmsaybVvm0wsUhGGjK3Pt8PuWepOKZI8QFZgtWGJ+npQdxV9yNYnOmTh+iXE2sl/xh8G3I/In/mi8Q2yPZPo9CDMEz6pLDB0LaDCF7XvrmKN4sfhY1n/dH+oN3YsR3ZAInS99lArccNQ5aAPQfNRl3jhuqJGpKQGOujpMZsBAXjv7XpmO87PTjxVfglYnq0S1YJS+iFqVmXaI9LDgwSNWCXquHCJtL/8IcQt+HIR3H4Q888Py5JYKCdRfGTpmKoT4PVj23EQdlPueb4zj4+rNY5fFh6J1THbap7ybyvLTYL3JQa6HE/rV71o/hwDn+XhnyZfNk2RR29ni1Rl3WxubLppW7sDw3H698ELzwYcSP5D2aXryyaotSC3vyz69g1VsnRZqSHlCQEBG9GV6wQc8kZlo3uzvpKde+53jMeVRkYKKZWTguMvXiOPM2h3+UKc1YZe3GZ2/i2VW70CJX4ZPNfZ7Fm5+5MH5aunJ/ohPh1U446R687xr64yxMFkGu96UlKP/gKE4e9aB8sTx2BmLy/cZ93h9jbxfngqx9KtmipgOC7MFUmd81AndPDqNeVWvOF1HPpp/tQdnjS7DlM7GN+bO1QkpxbcmfK76LyBSXPIL8l009HIfDUQGZgw4qvmmB923Z83KO0sGQ2vW7vC9O9sKcg6f+bSN2yc6lgjj+3iqlgGjgLVn4ydXjkXWv2Mf1FXiqwuPwUR1hFriG+6B72wfJD8Vti4pR/NOhyvthv5D7zFnts/og56M4KJvS/9HZMyKHXKu2TukMeNei5F8n+3faZUf2kL35KeTKAiqR/s/JdKt5vcTb1Ka+smn9I6HSf/mIotVYW7EGRb8cKwLACI9tK/oz544ehKd2Czas2YUIGk8SORLVYGxoinrKH953MPBEbtBu+L1iGIaZM5HaPUnDJmXiNnGBOr65orO7+e8Ow0jZjOqTv6LF9Owrq8xdl8lA5jci0ySShckP3x3QE8+w4eqtogebxRxW2yIGZxl16Sh2rSlH+eYoPhz37+IiPfdxvFIvSwvn4D69W/REPYMrL6g5WFHntBRTu6hYtfPucAFcCUMwJNFUGth/LLLEZw5peRNPZYkMa65siiAC0TznpWaOfNaiJJJHPzN9p+PqePz9uP3+1Utju+UJ+39FTfESLFnnge0zt/u5MMiuJDP5TswVF6VBhzag4EGZ4X8QBb89jEHXz3Zcs2LZHFZeXGSQKIZdb29AuXJvkcgcR/C8HrW5YmTP+vF99AoKSsRxFT8WsxfoTWFVStPKBXdiGA5jp6cl+Pkh99MDqfhKBDy503+OmQvfRIsM6ESaYlhl5AKa4ZUi+1p1kvuhUtM0U8ZHZAw9L8seUbfg2MB0zCmajbER1kbaOlKDJeI42+Cxf7L7BRcNEufnEEPzt079r8/CgqnDcFL2jim7V79HpA9/FBm5qQuQdb3zPRisdsI4lMpCt+7UUfDXi100BN/7BxdcF53Enn/LxczcZ7HrG3m/a0lAR0+uf8zC0o77Y+X5Ju+PFeerT8z/lAiEnNZqCXrA7H8vmQO+g3jlyeUijRDBYU6R/zb2F2n60idx53Bx7d+9Fy1d6Nymy2RnJzki4Hq1BievuA13P7G089x8oQhzZMHDJ69jxRyRllrdnyWOHXmv9OMlu5Qm+rN/nqo02Rxyy1zlGZmyFufBglfgCZneOS1wfRKRdB9l/yB5q8G6GebBNTl+BUr3zJTz5mLhv5djo3wUkTafc52PFFDvj96FLXX24cvxHctRIINQv1shVEP+eY7z9F/kC2Wey9GxHex6K/g9TF0vYMstwLMvv4ldB/+KY70+YaGzVXQ78Lg6HbfJEhHP69ji1x2yuOBU/V45oVJvCexNbcTtt6kn4ndG4M5MkVjiICpe2iUCImkoxt4sM567UC5O3PATiPC0bF2ldNDhGpeNuzueW9TJ5R6L8WJ0Szhtmm0dw4G3t2DLnkgSPhsi83dYpH+p9xah2NAjpSQzuKtLsjF+xFikXx1wV18XDER6rmwaJYJXbYxOfmbp/y1FUb64mC0oxuo14uITwT1K9rSbyeWr7f6dlBz9w5vqRSjgeOxFBosMumxSNt06gyovSqUVa1GySOy//CdRvPr/ojR3vMOalaN4c77xoqwODy5cody7Joeag3LPDcHYaT9R7lGLhgv6y8B8EFwhUheXfBD1kiKUls7BeItjov8/3o3iNWvxguk4tiJ7JV27uhhPyuNsUSn+7wr/i3uXmGtRT+5BzQfqJE/NHpw0Pgjdotldy6G/igA6G0tXZEc/EHNo4E3iOBLH2d2jtBF++mPEL4qxdu1qFC+Qx1kRSsQxV/yLEWEFs04f+uy8Obc0SGSe5H+RyTNn8rX73bDPi8Md5718DMoq1Gjveiv5uJPy+kGYWliK1RUyU74Wa5bb3+8acH/s2jDujw2X3vzV2KzbNQL3PVWMohdWY84/W7TM+G4q7l6yFmu7ct5pLRzM6ZX/sEJ55qado78vUx+U/5i45jw0GeOvGtp5bv6D7ETobsx9tgT3yYfCr9mAPaZj6vgO9TE0J4ffiQV+AUJ/pD5QIq6pYzHoyE7sDfnIDP1ZdKGGyG61CN7sVB9KkWX1UHKbezz1BzYrzZznmu/rMvh8F5aYvoda+6g/UuBB5C8rQ3nlThz+XO1sysrAH8/B0kXWt0JI4aT/jtlcb5WeYAP2iTjftH25drVYZsndSA12jZSPn1gvAlmP04Juok7RDcZkMPWv4iR2HcWG+fl4pfYwWo568WZJPlbU+uASGfNsm27tdf2vz8TDbhd8nnJs8KgJ3tBb5yJLBEbHty5Bfsmb8HzSopTu79q8HDmZS7ArWse+7LTjVZlRGIqpGeJCZK5RkKnKRVptj2z28Lj4jtsP4qj2TLBX5t6DB5XlYyhxMhb837V48vZh1gnY0HTMXnAfUnuyiZtrCEZc64b7HyPsFdLWSeVZcytqRUB//VilKY/eSYn+mIT+48QF+bvieFzspP15LyWCgaFXif13bSqGDQwnYhqKO1cYL86GC4ty71opnvzXLGTNvBPp4vcZFqX4fMR0ue45SHcQeAwcPiJ4YCm+u+OaZtljozzOrhoSRu10eE4eehNPPf4KDg6ejNkirRsonxE4V2uGa0U2EX5qrQig07v5hvIocA3EsH+Ux9mI4PeZBeX0oc9O71MaihFKodgubHjVg6Mi3e9oQjXYjRtlZlN2IlC0ATW1W1A290E89YFIb6Ja4BN9J9vkResY9u7y4LB8jIX5OmNHbx4cpYKTsAwehhEhfjPZ10VXWffyZxqMgaLByVPyyOiPgfFBsu/f6Y9Bg+SLk/CZ9rUSICwtxVqR8R4RsIr+GHbLHJT+3xcCai9tGTpTCTrYfJ9uYdNE33Ga+d3xeCwgcOkM5pSChRdk8DIX2T8O7LysU39xXVNvhbAVTvrfFZatrsI7mA/+x1Mo+48t2LDkWeWxFUThiG4wJig1Ic/Pxd3X9seelwuQ8/hybGkZittkZxCytCXkiTUQ4++dKi7BJ1GzeqNa0yEzNHNXo/jhn2BoyxasmJ+DmXOfxYb3vsLYmVOjVgLe8t7vlU47ZI3CBosaBf2eJL/vuH4hcrNy8dS/b8ThxKl4+KYIegxw2i2vw24Uo3FBDOB0G51tYtf93SOC3weR/9uD6D9pLubmZmP2pIE4+HIu8peIoL14i9LMZM4DItiYJy6sbVuwJDsHyzd7rR+U6tc9eJAhki/ocN9Fra17j+tsnhJqOBu/o08WtnwgMvpPzsSDIvA6MPROPLk0C+PHqU0pv9csm+Heg/wXtygFRbH6jtYPcTUPPXWCRk/q9CKlS/eTf1yCx59cgY1/PKq1mhDXhUfn4rZ/HALfwY0oe/F1tFyRheJnZ+PGaNwr2I1G/GwOJg/2iQycSKseMV1r7rkHM5/cAKXSuptYHxvm4ew7VkbcLNJ6Vws2PvsUNsjCYGPNl7wH6KgXW1Y9hVV1Iqcx6TaLGhkRIFwR4p7sbrnAnl1cAYFLOLdndC/rYzlwiHY6PcydjiHi0HBdfSPc0Wx4ROeE874VtNfU42RThjCaKUT74YLyfqlHynHQ/MBhP+FtoyzVDNnBiJEMVMQFU3k46f9TtwdO1tG4EfmFe5H6L7Nx37XavN+chLfyKSx5XTYLy8ScBydjmB6of34YW36zAm9ekCmCeu1GYUnfB9rbkML6DcLbdwEP5A2Ho98yFG17w/iO8p4xtYmKE7LWJIye28y68h1loOK7QC3tlB1yFG1xuL992FP6v7D8jyLz9o83YurP7sTkq017RnYYsHUjNv7HTqVHx/G5qzE7jHut8FkNli/cCPysCHNuGqjt08l40mnX+dr3cSaM9VrRPsvqPJfNFMNqgtilY/VsJtKpl3Lx1HvXYO7z2f4BgUjDPKtzsGT7Sbhz1mDuP4dxHDk4P8L7jbpyrMjnbeWg/KMw1hFmWmx7/v7dgw2/2YCaPx+2eAaXC/3/YSTGTrsP9/3zsC72uhcsvQzz2t7VtNFSBL9BgK6vQz/munR9E0KtJ7xjO9L9HY19ShSIwdi5TMsEHr5+tu09S3SWkKW+7V+JvEb/sLsY7yQ7lPk9Dgwei7tvj2I7/bOdbMvktDQ8nHltHP1jOX5/aCR+MnM8nPZk2GP040w2lzN/Ta1gxbEuHatnsc9E0PGwCDpumovfPax2CGV08OWZKHjrK5HpXNulzOtZRz+2HFIK8EIFU37HpFYYEzXB00vZeZLzb+Pw+4RFBP2bN2DPZ11LS2Qvi1+diXzf+Zq98B71YeDw6DWFjx0fWv7sxdEvB2LYtcPU3n+JooDBGBERUY+RD9XPRXl9f6ROzcR96W4MEUHpyc8OwvP2BlRs/ysG3TI3oAMmIiLqmxiMERER9ST5yIPKcmz440H89e8n1R7nLpIdqNyIyXfehvSrWOZORHSuYDBGREREREQUA1HvTZGIiIiIiIhCYzBGREREREQUAwzGiIiIiIiIYoDBGBERERERUQwwGCMiIiIiIooBBmNEREREREQx4Khr+9OnT2uviIiIiIiIKBpYM0ZERERERBQDDMaIiIiIiIhigMEYERERERFRDDAYIyIiIiIiigEGY0RERERERDHAYIyIiIiIiCgGGIwRERERERHFAIMxIiIiIiKiGGAwRkREREREFAMMxoiIiIiIiGKAwRgRnXPGjRunvSIiIiKKnagHY04yOXIefXCKmSfSxfJY6O7PjnT9cjm7wQmn80VDT36WFfn5tbW12jsiIiKi2OnxmjE9I6QPRNR15nPK/J5UDMSIiIioN2EzRTrrMDN9duPvR0RERKQ6q4OxWDd3IurL+tr5xVoxIiIi6m3O+1bQXts6ffq09sqeXcZNz/yEmh6KOSNll7Eyfo55ur6M3TzG8ZLV8kZWn28n1GdLTufRGad19/p1xulSOMuHs6xk9fmSnM9qWTku2OdL+nR9XrvPMDOu18hqO3TGaXafpY93un4n7D5Lcrp9dusItbzddCOrdRuXMwo2n9W0YNtg9blEREREsRS1YEwXKsMTaYbIuJzdOszjrd5LTpaVjONCTQ/F6rPNy1vNY2Q1v/6+u9cvmd9LxnHB5g93WclqnGQ3r2Qcb57P+N5qfiesPlsX7POkUO+lYOt3ym4dwT7f7rVRqOUlu+lGduPNgn2eZPVeslu3088lIiIi6ilnXTNFuwyV1Xj5Xs+g6ewyY5Fk0sJdpivb5+T7def6raZL+rhQy1uxWp9RqOlmweY3b1+46w7Fyfc3vreavzs52T7JbrucLG+1XKTMn+fk86VobgMRERFRdzurgjGrDJmRnG4ewhFsWT3jZx7fk4zbFuttsRJs+0Ltv96wf7tK337jYKZ/z2DHcayE2i7j99KH7iDXa7Ud5s+WAxEREdHZ7KwKxvSMrB053WpwQq431HL6+FhlBI3bZhx6C6ttk4NOf2+3/0JN7+307TcPZwu5rcH2u/l76UM0yc+3W6f5c/WBiIiI6Gx11jVTlJmvWGfU9UxguNthnj9YxjMS3b3+aAm1/0JNj4R5fdFcdzj03yRWnx9KLLdN3zfdpTfvdyIiIjo39cpgLFSGySpTZZfRilbmK5z12M2rb6M+hJPxdPL9or1+4zpCfX6o6VbTjEJNjwZ9G+Wgfy8rkWxLqO8vGT/Xbn4norV9xu0xsprXbnsj2RYrdtui6+7PJyIiIoqFqPemKBkzSOYMVqhMl2Q1TzjjjIzTQ3221bLGZYKt28jqc0J9tuR0HiPjtkV7/Vbz2n2+Ltj0rixrJOezWjbYOKfLSHbjdXK6zmqdRsE+X7IaH2z9kt26dMGm263bbjusxhnp050uLzlZr87p50t2n2fmdD4iIiKi7tYtwRgF6u4MIDOYoQXLyNO5hecLERER9QYMxoiIiIiIiGLgrOvAg4iIiIiIqC9gMEZERERERBQDDMaIiIiIiIhigMEYERERERFRDDAYIyIiIiIiigEGY0RERERERDHAYOwsZ352VqQueuYZ7ZU/u/FERERERNQ1DMaoAwMvIiIiIqKew2CMiIiIiIgoBhiMUYcvn3iCtWNERERERD2kzwRj+r1T8r8+GFndW2UcZ17O+NoJu3nN4/X1Ws2vjws1j5Np5unmacYhHDJY0wcj/b3ddF2o6URERERE54rzvhW017ZOnz6tveq99KCitrZW+S/Jcfp742ud3fRQy1mJZF1W7yXjOKNg85unSVbj7MjgSNaMOX0tmadJdtOlUO+JiIiIiM4lfaqZotPAIxasAiM9iDKy+w52ywcTano4rAIn+V4PwqRggZWT5YmIiIiIziW8Z6yP0AM7c3Cn06dZDWbdFSTJdZoHIiIiIqJzFYOxKJPBjR4Y9TT5uXZBmT7NaugpMsizGoiIiIiIzkUMxqJEBjXmAEgPzHqaHmR1JSCUQRJrroiIiIiIug+DsSjTgy9zEGYVHIUTrNktr+tK4OWEVXAm3zut2bIL7qzGdfd3ISIiIiLqDc6ZYEwPZoxDTzNvg9NATBdseavvF+76zcyBlh5Q6YPTQExnXj6SdRARERER9RV9pmv77iaDGztdDXqoUzSCSCIiIiKiswGDMSIiIiIiohjgPWNEREREREQxwGCMiIiIiIgoBhiMERERERERxQCDMSIiIiIiohhgMEZERERERBQDDMYo6o4m/VR71X2sPqMnPpe6l/wNjUO0hLPeSD83nOWCbYfV+GDzExER0dmrTwZjxgcfWwn2zDAp2PRQy/YGoTJtTjKBkcwj3+vjjK91duOMrOYxk9OHNv2n9q6THBdq2bPJ2fhd9N/PbttDTZfk76gPOuP8Vq9DTbdapxU5v5zHuA6nnC6nf0aobTHS549kuyTjcnavJbv1O13eiUiWISIi6qv6XDAmgyX50GB9oJ4hM1jGDKY582icbpcZC2ceO8GWJX/h7Ccn8+q/jd1vGGp6rOnbJ0W6fb3xexEREVHvdU42U2SQ1jsYM7+9SW/ITNvtGyfbFmoeOd1u/Xb0IMNu3Vbr05eRQk3vDay2LxKRLkdERETnHt4zRo7ITLMxY218HYxdxlQuF26m1ekych677Qq1vX2dvg/D3feSvlxX96FcPpx16PMalzO/1v9bvT7XdXX/dHV5IiIisnfet4L22tbp06e1V72X3b1cVrVgelNGO1bTna7fOJ/VNDnObh7zZwSbZmT+nFBkJiqSzLhxOat16OPs1i/HS07nMbNbxop5Xv29+b+VcD6nO3TH58t1SsG+sx2rZUKtTzJ+D/213X+d+b3OON7qdajpRlbjelKozw82PdQ0yThdn9+4nNVrfVmzYMsYX1utR5+HiIiI7PWZYEynBzzBhJon2PRwplm9l6yWt1pvsM/qCmNmKhxWmTAzPTMWbP3BPt+8vJPPtGI1r75uKdg0Myef2dXljcL5nk5Ee31Gdus2j9ff2/3Xmd/rQi0f6r+R1bieID9XCvXZobbPaj3GZfTpknGcfG33X2d+rwu1vPwvGZfVpxEREZE9NlOMEqvASb7XAzBdOMFVdwRi3U3PfOmZM7NgGTR9mhzslu8qu8/WP1efbn4finF+8xCO7sjAyvXJ9UZzn+rrs9rW7vgOfYHcJ/pvESl935r3r/G9Pt08T3fr6c8jIiLqCxiMRZEMvMyDU3rgZreMcZ3moTeSGbNgmU45zThdz2R2F+P6Q21bXyS/c7DvLcfbDWZynL4+IiIiIoocg7EokgGV1eCUPr9VkGVcn3kIV09los2Zfz0Tb8zMW2X2JeN80WBeT7TWG01Ovq/d/jIKNo++X83zyPF2g05fzjguXHJZfR3mbQjGuFwk7891Xd0/XV2eiIiIrDEY64X0IKu31HrJTJccrF7rjK+tyOldzbjpGcBQuvpZfT2DKb+f032p0/epk30Tah59utP1EREREfVVDMaixC54chpQ9WTgFU4mXLLKPHd3RlrP/Ie7rT2hq9tktbz+fUOJ5j4PZ13hzGv1/ex+y67uS+p7ekshFBERUU9gMBYmPejSByPzNDnIcU50ZdneQM9s65lr/bWeiTdm5o3zGqfr44zjzfT57ARb9lzQm7+/+Tc+13+r3sj8GxEREVH36nNd21P3MGacQ2WiQ02PBqvPiNXnUvTI/WsUrX3d1fWalzeKZBv19Vkta3WMBZu/LznbCqGIiIi6isEYERERERFRDLCZIhERERERUQwwGCMiIiIiIooBBmNEREREREQxwGCMiIiIiIgoBhiMERERERERxQCDMSIiIiIiohhgMEZERERERBQDffI5Y2fjg0MveuYZ7VWgL594QntFRERERER9BYOxXkgGZgzAiIiIiIj6NjZTJCIiIiIiigEGY0RERERERDFwzgVjsgmjPhiZ3+us5rNaXtLHWc1jHGcenNLvK5P/9UFnfK2zG2deloiIiIiIet45FYzJwEfeS6YPdoFQsPGhljfPozOOMw/hkEGUvJ9MH8JhXpYBGRERERFR7JwzwZgeJBnJ93aBl5nT5cMNrsIVbgCm0wMxIwZkRERERESxw3vGwiADL/PglNWy+tBTZOBlHoiIiIiIKDYYjJnI4MiuxkyOtxqcsFpOH3qK3jzRPBARERERUc9jMKaRQZE5ANMDMyIiIiIiomg7Z4Ixp8GW/t5qvFVtmdW43kjWgFk1S7Qad7Z8JyIiIiKis9l53wraa1unT5/WXp0drIIsnTHQMM9jXs5qPeZAJdT8kZABklXzQbvxOqvAyjy/eR6r9UXrexARERERkb0+GYxR5BiIERERERH1DAZjREREREREMcAOPIiIiIiIiGKAwRgREREREVEMMBgjIiIiIiKKAQZjREREREREMcBgjIiIiIiIKAYYjBEREREREcUAgzEL5gc7mwWbHmpZJ44m/VR7FZmuLk9ERERERN2PwRgREREREVEMMBiLQG1trfaKiIiIiIgoMgzGiIiIiIiIYuC8bwXtta3Tp09rr3o38/1axhosOU2+N85jV8Olz2vHarr5s3X6fHbTpWCfRUREREREfVOfCcbsAiRzMGScx2oZyW68Ltj0UMsSERERERFJfbqZojkosnqvB2lEREREREQ9qc8EY3pg1VuDK33brAYiIiIiIjr39KmaMRmQ9dagTN82q4GIiIiIiM49fbKZoh7kmAMyq/cMhoiIiIiIKBb6TDDmpCZMD9D04VwNxJzsKyIiIiIi6l7nXNf2ToSa18l0XW8M+MLZF0RERERE1D36VDAWDAMQFfcDEREREVHvcM4EY0RERERERL1Jn37OGBERERERUW/FYIyIiIiIiCgGGIwRERERERHFAIMxIiIiIiKiGGAwRkREREREFAMMxoiIiIiIiGKAzxmLgVhvSySff9Ezz2ivAn35xBPaK2fkusJdhoiIiIior2HNGDkmAyirgYiIiIiIwsdgjIiIiIiIKAYYjBEREREREcVAn7tnTN4PZaTfG6XfJ2Wcbr5vym5ZnZN1OKGvx4rduu2WMY93sm1W6zIuZybndXKfl/m+Mrv57dblZHnjPGwiSURERERnsz4VjNkFGXKcHmwYpxvnD7aszmodkbD6LMnq8/T3TpYJtryR3fhgzIGSTg+IrAKsYEGXk3nN40K9JyIiIiI6m/SZZop2AYZxXLAAxGlwEm4Q45TV9sv3crz5tc64TKjlo0EGPuZBZ3wdLcZ1WgVe8r0cT0RERER0NuI9YwYycDEOPc38+eFuQ1eWt1pWH5ySgZFxCIceWAVbzrjuUPMSEREREfV2faaZogwazDVDRlbTjeNCTZdCfYZTTj7Ljj5fV7YtnHl1MvAJVvtlNd1uGSfrkozzhFqGiIiIiOhsw5ox6nVk0CUHPSgjIiIiIuqL+kwwptcWmVmN642cbr8+n7lm62z//qECL7vgzGrc2fKdiYiIiOjcds51bW9kHme1rHEeq3VEIth6rLbBrDuXt+OkmaA5MNIDKPNyduuyWt7MyTyRfD8iIiIiop7W54KxWDEHQUYMDHoOAzEiIiIiOlswGCMiIiIiIooBduBBREREREQUAwzGiIiIiIiIYoDBGBERERERUQwwGCMiIiIiIooBBmNEREREREQxwGCMiIiIiIgoBhiMERERERERxQCDsSgL9vDnYCJdLloueuYZ7ZU/u/FERERERNQ1DMaoAwMvIiIiIqKew2CMiIiIiIgoBhiM9WI93XTxyyeeYO0YEREREVEPOe9bQXtt6/Tp09qr3s8YwNTW1mqvOtlNl+Pt5rcab2YXOJmXdfr5wbZHZzV/sOl25HwyCNODMflfZ/VeZzWf3XRdqOlEREREROeKPhWMmQOYcN6bp+nsxtsJNr/Tz7dbR6jlJbvpoRiDLievJfM0yW66FOo9EREREdG5pM80U7QKPOR7PUgJNd34Wme1TKRCfb7O7jOdLG+1XLRYBU7yvR6EScECKyfLExERERGdS3jPWC9iF4jp5HTz4JTVsvpg1l1BklyneSAiIiIiOlcxGDMw1jTJ/91Z02TFXNNlJqdbDU5YLacPPUUGeVYDEREREdG5iMFYLyODo2ABWU+RQRJrroiIiIiIuk+fCcasghhj7Vao6Tp9PvP4rnL6+ZLVvFbjJKtx3cEqOJPvndZs2QV3VuN66jsREREREcUSu7a3IOexm+ZEsM+wm2b1mXbjjPTpTpe3YxdYmccbgyfzePPyduOMrD4znO0mIiIiIjpb9blgrLuYgyAjBg7Rw0CMiIiIiM4VDMaIiIiIiIhigB14EBERERERxQCDMSIiIiIiohhgMEZERERERBQDDMaIiIiIiIhigMEYERERERFRDDAYIyIiIiIiioE+H4wFez7Y2ehs/z5d3X750Gh9ICIiIiI6m7FmjM4aMgD78oknOgYGZERERER0NmMwRmcFPRAzYkBGRERERGczBmNEREREREQxcN63gvba1unTp7VXvZ/xnqTa2lrlvfyvM083M9/TpM9jXo9kHGder/7eahmdcZq+rmDTrZjXH4p5PeFun5FxnP462PJWjMvbkfNY1YxJduOJiIiIiHq7PhWMGYMDSc/gGzP85unB3kv6uGDTInktmadJdtN1VuOcCrU+8/Rg0yTzdMlueZ3VOCcYjBERERFRX9NnmilaZfJDBQbyvR5E2AUJVuMiEerzpWh9lpVQ38/J9oXSndtPRERERNTX8J6xHiQDG/NAKqt9ow9ERERERH0Rg7EeJGuOrAay3zdyICIiIiLqixiMERERERERxUCfCcZkDYq5SZvxvd10vebFarpkNS4S3b3+UEJ9fqj9E2tWzxSz67yjp/YpEREREVFXsGt7E3NG3m5ZnT7d+Dl2ryW79Zvnk6zGScZ1WE0Pxu7zdcHWbV5W0uex2larcVKwzwjFGJDZ9aJo97lERERERL1JnwvGzlVWgZLuXApMGIgRERER0dmCwRgREREREVEMsAMPIiIiIiKiGGAwRkREREREFAMMxoiIiIiIiGKAwRgREREREVEMMBgjIiIiIiKKAQZjREREREREMcBgTBPsOV1ERERERETRxmCMiIiIiIgoBhiMERERERERxUCfC8ZCNTcMpzkimy4SEREREVF36TPBmDlwCve9mZxeW1urvbOf3zhevjYOZvq4UPMY5zPSpxnnISIiIiKis9N53wraa1unT5/WXvVuxgDFGEjpgk2X0/Rxxtc6u+n661DLSPK9ZJ5PZ16vZHwfav1ERERERHT26HPNFEMFJ6GmRxrgOF3Gbj7z5zpZXyTbSUREREREvUOfaqaoByfyv3xvFGq6ZA6IwiWXNw7RpG9ztNdLRERERESx0WeCMXMQFe57SQ94gpHTrebTxxuHaNPXKz8r1HYSEREREVHv1ueaKXaVHuyYWY3XA7BoMK8/WLAl57XbTiIiIiIiOjswGLMQLNDRgy/9fzTpnysH8/oZeBERERER9S0MxmwEC8isGAMpfQhnHfp8chlzICbZrZ+IiIiIiM5Ofapr+7OdHpDpGGwREREREfVdDMaIiIiIiIhigM0UiYiIiIiIYoDBGBERERERUQwwGCMiIiIiIooBBmNEREREREQxwGCMiIiIiIgoBhiMERERERERxUBUgzHzc7KIiIiIiIjIWlSDMfmQYgZkREREREREoUW9mSIDMiIiIiIiotB4zxgREREREVEMdEswxtoxIiIiIiKi4FgzRkREREREFAMMxoiIiIiIiGKAwRgREREREVEMMBgjIiIiIiKKAQZjREREREREMdAtwZjsSVH2qEhERERERETWWDNGREREREQUA1EPxlgrRkREREREFFpUgzEGYkRERERERM6c962gvbZ1+vRp7RURERERERFFA+8ZIyIiIiIiigEGY0RERERERDHAYIyIiIiIiCgGGIwRERERERHFAIMxIiIiIiKiGGAwRkREREREFAMMxoiIiIiIiGKAwRgREREREVEMMBgjIiIiIiKKAQZjREREREREMXDet4L2moiIiIiIiHoIa8aIiIiIiIhigMEYERERERFRDDAYIyIiIiIiigEGY0RERERERDHAYIyIiIiIiCgGGIwRERERERHFAIMx6h7HGlD3fh3qGtq0Eb1PW4PYvve9aDqtjYiQr70NbW3t8J3RRkTLGR/a28S6233aiL7Gi/VP5CHv+R1o1cbEku8L7XfU3kdNmxeb1pSj/J1GbQT1Fb6/eZV0zvu3bj5HtfS04Zj2Pmw+NHlleteA6KbIbWiQ6by3qcvnTbedf2eZYNcl/XiL/DgQPt2BcpEebdrXe6/NROcaPmeMuoenDA+VeYBrs/Hig25tZO/iWf0Qyj5IwpSFhchI1EZGIFrrCdBchcIFm9AU430Y7veTwempr7U3Ac7HxZfEwaUUA3lQ9lAZPIlTULgwA0nKdDOfkjnZ+tZ27DnSLDJrnVk11yXxSEgchbSbMzDxn5K0dUaqCVULCrGp2Y3sF7MR1t6WQfMXp/D1+RcjPs6ljTQI9jvqy2pvQzn/wnjEXai9oZhreqsQhZubkHS7+H+r9REcGe3c0I8ZLT11Z7+IbJuDs+O86yeOw0vMx2EXju+gnJzDTgTbPu0ztHehhPNbqPtMpEnxIk3Sxlk63Y42ERx1pl2dgqd3VoJ/XrD0Vj/egh0HIWnHUvSPWSKKFIMx6h5RDcba0bBtE7afGI4pP0tDQrBMt/65NowXseBBhg+tuytR/kYtGo6JAMAVh+QfTkf2fYGfH06wol5METivlmGH8QIZLBOvT9PehhJw4Q0VBBgydOEGY+r82psAxvWEysi1w7NmAcp2t8E1KAXjbr4J7pGjcOkAMenLVhw5UI9dNVXw/M0H1+VTMP8JsY5IA7IzXlTMWYna9mRMe6YAEwdp450IFTR35+9IMRVxMOYTmXubHPz5F4uA2+U8GGvbV4lVr1TDrxGCKwnuu7KQ9aNkLdMfXjAW/Bw2riPEOXymDfU167Bhs0et6bkwAamTxXbdmoI4dQ5NFIJF7VzyS0NDUL9n6M+0TbeF4PvKivHzZOsH/3T4w1fyULEvARMfzcckw9eQx8WJrerxFngchApYDekugzGiXqdLZclEPWJ/JVa+tgN1W8tRtsVZg7aEm3OxbNmygCEzVZshhKa3izF/zQ40uFIx5d5MTEmNQ+O75Zi/uMpxxrlHXJ1p+T3Nw+M3my66LdVYmpeHPLthWXUXv6fMcLyIFw1D4e1hXvi9lagQgVicOwtLn8nH9JvTMCo5HvHxYhiSgtQbM5C9oFTJUPg+3YTymsib3TS9/YYIxOSrRlS95hFhYA9JzEChaT9ZDgundKHWgXodb4X1eSeGCq82jwO+feVY8IIIxC5KQ5Y4F+SxUvpMLqaknIBnXRGK3+7KWSwDAqv0JBPOklEfvC8vQIk4n04kTsC0B6ZhQmI7vJtl2urtM80R3Q8Gnq/5N8erEwdNRL5p2ot+gZ8XFebff58c34rq50zjnRwXQyYiN+D3ksPjmDhEm4eIeh0GY9T7pVwDt7y2uZJxzT8lqONCcMUNUDPtpsGqFVmA03Wo3NyoZpQXZiPjxnHIyF6kliI2bkLl7i7fHYH2E/L+CMNwIsJ7JVxxlt/TPAQ0bbMLAlZoGa1L4tBfmbEHNG9C4UMP4SExGCs1mz5tUIKikWPTTKXo/pLS0pRApbHhkDoiLD607lyJpfL3Tp6C6TfGof2DMix61Yu2aN8DSKRzZweeew/ILHo8EmTNryNtqN1Sh/Y4N7LmZiHtUjVxcw0ahYxfPa7UgjRurUa9MjYSLsQNsEpPQjTp04m0cv3udqUwZdG86Zj4w4mYPm8RstziHNu9Hpsc30Ipa33U9CHoEEYNsz9ZO2VKj03DiXDu222vw9Z3tYKhY7XY+n6woh1zoVUpSrQAqmSFcbzDZon94jAg4PfSfjPm9oh6rXPs9JRNIWTCXQbPmVbUrStGXo6WkM8uRMX7ploXWZ0vp602V/7rFwdjswBt3IIqNLXVo2plHnKUeXKQu6wSDTI99jVix+pC5Dwsxz+EnIUVqPtMXTosZ+o6Pr/OmGE8XYuVyvhCVDVr4xQNqHwicH5fiwdVq4uQNycHDz2cg7wFxVi/s9GUCTXsM7H91fr3yq3ovMgr37cQucq+FN93cRmqP7a+ePla6rB+WSHyZot55Wc+UYSytzxoDXatuzAVmcvEBam0ABmXauOixhAYaRdc3wd74BX7wH3HFL9mb0k/nQK3eO99vy6ywKlDYKln3nPVvaITCxxtwhHxLy4pUWQLe4ihNNdYc5l0qdoe6MAekeFUXllrqqtTMmFJQ03th0Lw/U0ci8XzMF8EXr7Lp6AgPwMT7l2EWTcmKAFaXn4JKj1N0e+YxUjvpCXUEFawbkiL2htQbUxznliJqo/996ZsgiWnFb5lysrKZl/6erRRepoo5207UIWVT4i0Q86Tk4vi19Xg2de4A2ULtfHiHC98uQ6tkezD97X0t6xOG6HyvbtSHW/cLqmhEnnm+c+0oXHnehQvEOmW2Ac5c/JQtLoKnhbz3jSm316s17d/2Y6ODi9k2lWxWF2P/F7zl62Hx/KklU2cOz/zodni/BZpYpWYOdhv2PCJLEy4TBzH6vvQDqH+Y/Fv5DVIM5dW9EtC2rUJIjBoQIPftaCbnGnHCe1Y1eOWht17RJqWhIl3GAtT4pB2x0QxthV7djdo4xySTTYNwYndEH7Tu8DaKfNQss1Z6uxrqUXZgnJ4vkzGlEez4L6kHZ7fLEDZzuC/PWR+5GV5norrp/aZueIaGXEegYjOKr06GNu1axcKC7WMgvgv30dHIyoXzEf5u61ISE1DWmoSXKebUPtSqSmIiUBbLUoXlqDqaAJSr3MjJV5ktj6uxsqKCpTPK8J6r7h2pqUhNdElMoO1KF9hylA40W8URl0pXxxA/QFljOovH4rLitSED/cbmmy11KNe9r50pVhO+8XbPeWYt6AMm/Z9jTF3PIpF87IwdlArdrxahAXP70BTQOapFVufL0Llgf4YKb/XtaMwXI7+WxWK5pVgk7cJ5ydPwLR7M5D6nUOo3GbRpuLYDjwnLlQ7Gs7HNffli8/MwaTRX8O7eRNq/67N0+MMgZHIlEuHGmQmIQWjlC9o0G84RqWI/w2HRDaoK2T7fVMmopc0Q2va71UynylXmr98NzKU5vrVXLozkX1dvHKsPr5gpXJMNbToAUoj6ndWobw4TwkM5D1jD93ibA+2bheBlpLREcfi0f4YN3MRSuZlIFn57DikioBs2aPT4I47hOoykUF6JCd4s83GI+o0cVwo2Us9iNGHYCX2oZqL6kMkwbpMi35djEotzXGnxMN3zItNL1TA08UeRE/sLsWC56pwZHAq0twpiP+mHQ1bV6LiVZGuLF4v0qGRSLsuFUnf8aHp3XKURtJcbuQocRYKB0T6pYxQeb1a2tL8IQ4YkrlWMZ9y7IrlFGeaUPXMPBS9ugOtg8Yia94iPHrHGHy9b5PIMBeiwmsR4p/5EBULV2LHF8lwi+1P/f5wpVBCTS/LUfvpKSS4pyBz6gQkflGLTe8Gfq+27c9pTZyvQWbeIhQ8PAljTov9/kZtkKC0CfVesfWJw5HiuIMWl1rb4fNZZvRPnf5K/D2/Z67y4jgu0Y5VtTldG458Ir5PXApSzGUkiWKciM7aPjnSEeg68oEWnIcazEF6SIFNqs1D0CbWp9vRuL8a65eJAOrX4tzCKEybl4+MkWnIXjALE4acgufV+ch9QhZ2NqDVopatft0ikR85geE/zcUipUasFCUFmRgpzuHyxRWoNx03nrJIvysR9Ua9NhiTgdcrr7yCpiY1qZH/5fvoBGStaL1wIvKXLkN+dhayZhUi+wZZdteEvdZFnc61t+Kr1CwsXpyP7JnZyJ83DclytKcWnkFTULC8ELNmZmHWgmyMkx/ZvBeeFmXJMMRj5PflxUFkgBo6k+KGj0WI0E+9QDd8ZAgXPj0iwk+x1BWXqbUdZ7yorKhD2xl5T0AhMm9MQUKyG9N+tVCpmWg/sB4V75gvk41okDdXL5XbL77XvWkiK9CGHWs3oVFcW5JuLcSy/OmYeGMGsvKXYdFUJRvlp3X3LjSIi0rCLVmY/kP5maMw8f5ClKyYjylRr/FyyhAYaZ0rnGqXmbQBIkBQ3hrEY4BsQtReixLDxT+8m7d7sTP1qK4Rx1O/VIx1mxsiGWoQHXU/Hdi0SN54Hp44uGcuFsdVJiYknMCeLWUo/rUeoBSh9I3taOw3ClOyxTEURucdCT8Yj7E/moZZ4jgtXSGO/+sSAppdxY+ciOyFpSgV5/EskfG+6acTbINl71+0EpFjHuyVJ9qQiXhcq+lThkcnIlTjWnkzvTkDaDWEVeov0qL2lEwsel5Nc7Lzf41pl8vxYjuNhTgRaG/9CqkPiN8mLxtZ2fn49VQllYNnpwcDflqAEpEJzZo5C4XZ45RakSaPJ/xgMn4kxsiMvF/tTgMOyYjXJX+xBtQbkrmGT5VUDsMvV0/ctppybPpUHKmpmVj4KxFcJycg5cZMFMrf40wratdUBmRy0SI+S6TThcUy/Z6FWbeK7yXOi8pXZXopjscHlqLwwQyMu1kcPwuXYtZ15kSiFbtq5QYmIOOX05GWkoDk0RORubAEpfP8a9r9NNSiVnzHhKvH+B9negBi2SmR2D+yJvkv21H9N3VMB/Ebb90t0vDBozCmJ+4VShT7TDtG1eZ0J9H+hfgXnyBSUrMBSJC77eP1ak2mMsjOO9SpgWTLCMP5FGrIkzVvPUR2/PNELoqer0TtsQSMu7cAy4pzMbG1XE3zdg7GdPHbL8qegtT4ZtS+Woz5uYWo9KsU9KJW3rCaOg05t45CghKMuxCXPA7ZU8UPLIL+WlPZZuq9Xf+uTZvVgm45BOnzioh6QK8NxrZt26a98mc3PjwiA/7ANKV0Tpf6/ZHK/8bmrlaNuTFjZhri9T07KFW7GCaJi7Ne+i6IDO8o5SMb0RTBRyalqL1RNTU0aBnjVtTLYuKUCZig1d7o6X39AZnzihMXbi1A+u9damcFl0/AJL+YKQ7jblIzTw07dgWUuKXelQW3YZ+heRd2yGYy/dyY8lP/S0LCP1hcgpVIRmzppw1+TSFdF5qzwl3naz+hBQ5aLYp8Fs7OKqxfsxJFCyo79k0wVs3TlHHi+xozB5lXq9OcMwY22hDpPWOyVzbjeuwGB/c8tL2zCbUiAxU3biLSAkrnjU0rK7QaWGsdGQXLwXgjeQJGXZeGNPdlQe5PcyE+ZRymzRKZnGVqBwX6ULp8GQrzspDhDrNb+0FuTJs6Eakp8QFBmJlrcApSRcY7Y7TNnCIw375bnExDEsS3ERn8GrFn+omMlPF+jQEO77GJOnGcPjLO0PtnPFJT1bCw6WgXC53cM5D1w85AJP77Y9SAMzEDWSKA6fi+3x8lQgbhaBPCT+aSkHKVksqJAEw7frVa/pSbJii1Zoc+7kjl1FYCcWPE7yrfN2HXThmcdaZpHVImYYIMSkUmd8d/q6M6JWDi/abA/r93KOcFEidiyg+Na4rD4CHmI3eAWmAjjoUjh4wFWi6RzmkvzWQN3rpqtPZLwcR0GdQa6B303Gtov9vBhbSfTUGyuIZsWlyIClnrIs71Rk+lCIbL4PlCBI93iWuONnf4TOlUY73yjKvat9ajfGURCl93kIqesU53lHRUHCv5HemCCGACgka9iXxn0z1Hg2x2LwMhc7Pb7iCu49MXqfd3yYKb6Tcmd177O7iQ4M5A9jwRkK+S94TNxxS/6+75cF0k/n3ejlPqiA6nxHVMHmdK2YOBfKyHkrYEPMLAOWMnV047tiKi7hFOFqZH6TViZnbju+x87b8voixxUHYZRX287xv1f1hGjsFIufxf6qEUcp8+gEMi7xF/xTW45gqRSTrmRb2S+2lCw0cy8krBcO0CoNSgCfFXqU1w/IhxymzNIpjza8qUhOFXmBJ+vXmWyIilOjiSXNfdql5wZU9i+Vb3p0VP67YSwwW6CKUbXsNrb23HgVYXkq4ermYcbSQny+zLIRz5RH3fqUEdN/QyjDRkth11CuIniveM7bPvlc1v0Jpg2vpbFVb8TmSu4tyYfqfWzMuPsWll8G6gXXGd+yZwUG8kb3ynHOVrDmH4zCxk3ZHqfxw6vY/KZggWd8puqPXS4LCHgCZBPnh/WwnvGZHh/0U+MmSt8rvlqNivTQ6Df+FBkOGLLqZP31EP1q9tMskRkzXy2ks/YrxCfF4knzjqH9VCMq9SoCT2k0i7GmXtl/saDB8EtHnr1d+kuUG9LzdluNp8+nQDDinpn0j3rpL/jcTyV6lHXGcwp0vGcFP00tQogzqxVOoocRaE4sK4WycqAbD3VXHeFa9H7afBGuP50Pif5UpnFkm3ZGKC+ZEKegc9dpnuSzNQUDQLE8Vu8vy2GPPFuV60egf+NmgcMgsWIduv9CxcpnSqqBTrX38Nb+w8gFZXkgh6g6WiSbjsCvGv5YjpOiKI3+aIbA1yhbjWdKQLAxAXcA1JwsQ8PVgLfwjoQdZWYC2+ebCs1dfSKfmEgq9PW5+nAee18jiRr3FKvO5Mp0Zh4iRx0H1aiaefr0RdQ6uYtxH128pR/Lo4MJInYuJobdYoMnZyFf41jIiiyUEWOjaSkqwTUrvx55x+qRjzffH/TD3qZX7iQL1SWzFqZIp2v49WmqxnSq4cgzFayeyJY2rmoH/cxcp/PxfqpfififmUF7aaWrSy7o5lQuiXgmlPLkLWj1IQ/0WDcn9a3uw8rNzWGFmtkBWrXsrEIGtRlj0ja1KykTXVHRiEGiSITFcC2lD7rqkfsv27UCv2ScJorRYgArI5p9X26YPjZmhWvSFq3W1ZNnmzev6Vrl1kRpZvQqNshpWZGdgZQATkg1D9mjOaavCOeOtQt/tDHDGM66i9c3oflc0QrAvoYLV2ag2nXXfeYjA1CZL3EZXLWrErp+CO1HiMu2sKkvu1o/allagN86Z7/8KDIEOXHzlwlpEFPfK/SN+UZO6ArHkchVEpWuGSVmjkazik7JeU1DFqWnTshEjBJJflQ7IvjlNrtNrEfKE0N6vFJJbppZWUaShcmIUJKfFoa9ihdvrxxEpUy/bcfkQgtrkYRW/JDPcUPGRqXeDY4FRMm1WIklLtXF9VimXzMjEuOfIT2aq7duU+JpGGLnumUGneP03p4tbeyNHyl/Nil96zoKbt3V3KtSp1tBpoB6PWAF3cUVbqiHz4ugww7GoiDazSA/t0wNQ9fLB0Siv8CnZeG9OppFvysWjmBCQcq0VF8XwxvQglmxsQf2MWFuVbPYORiPqSXhuM3Xzzzdorf3bjzz0upKTIJLoNhz5tQ4PIrIhLi9r0UcvAKKXJWpDWcb+YMGCQ+sqyRq6jxHywmE97aaMjcxJOKbsrAWkz8rFsxTLk3uVGwjdt8L5WhOe2Bys9Dp/vb16lSU1DiIDSUnKGWsux80Ws3Kn2pic7W1n5Ui3aRRCccUvkDX90HcFKN9UMOiV7/1r5a9mkyYXkOx7vYkl6J6VWwNic0fRcJfVZOqZezPTaO7tu9x0OwbqADlZrp5YO23XnLQZD7UTru2VYsNqD9kvcyH5kgnpuie1+VAS9cV+I7yU7iNgdogc1Kdyg2vLh2H3YhSLokveNHTskAvcGtSmi1vQxNVXN7MtxSpAma7y0+8UwaIBIwVSW59g36i8TL+YL5eI49ZwIpwWDa0gapst7Ep/JFUFLgtJxSuXi57BDT49kz7TPz1MCMdn5TOE85/c89hwfmmShyfsN4XW0oXGl3YqJ4kdo+N0KVO5vE2vzoW1/pVoDP3gibk1zVIQnhO7t0G8I1QrAwCo9sE8H1Fr9DlFNp1xIuG468uW9hfo8KxYhf0YaEpzuJgu+L+R1phUN++pQ/Xo5Nu2L7nWWiKKj1wZj48ePx3333ddREyb/y/dyfMxFu4lPhJJGq827Gj7Zq/ZcpffEpWdgRCBWqzSxMdwvJqRcofaU1yqCtYCkWSyjNAgaclnIXr3iE5PUezE+OeLoHiw/rniMujkbix7R7lH7r732F/zT8mL8EB7KKUKV+UZ1G62eSpS/VI6tAU0NOymlriIzFtg8Jg7jsmZhQqJPBBVqt+Cyi2Hv6SRMeCRL7Xili9RgZSmqw+68JUrOtKH+rRLMWyC+V3s83PcXosBhb4QRMdVYKjWVy+Q9FJ3jAmrv2rzYtKYc5e+ozcSiSW2uaH4EhDO+/RUoftmDtrhRmD4n2+8+yjjxPReK4CwJTfDsi2KNbyxE2LQwupIwKlVJ5XDIcwSHRDAj75eV+VNXynAlMK0/UKs2H+64X0wQaeBlSi2GqcdZRZsI3tTaruFXdKaLdi7VHpkg73UNd3/IZ35NzF6EWbKDqDMN2PMnmcq1YsdzRSJAOYWkH83C4jA6nzFSM9qmoaVBefSGLIiq2ybSQHH+rFysF36EqxWe18T599LWIL3HupTCvfhBFq0jZEuInOkYdYkMPOUjUXKQ93w1Gi8R503ONKQ4/s6heztUh+DNp7tNtNIp73rkPZGHku1duJ/T8MxGOchHOeTlzUfxqgpsfb8eDS2yh00i6m16bTAmycBLdmkvE1r5v8cDsaGXqTc/N4hErKN0tR2el9ajV3Q+lKJ1VX90F3aJaCjuqhSt1FzLwByrx/b/VhrvdNwvprh2vBpQfFyNrX5RVDtqt9UqzwpK/tFN2rqCGHmNmhE9VotdfvfJ+ND4qUUut6EWO8xNdeLiQjdBadgLj8zD+Bqx97+72PGAQeoMERA8k4sJATeOC3GpmK73pvdAFrJ+VYCSkkJMT41CJOaUXvIarIlhRERmcPk8lGyux6kh45C1cDGyb4i04WV42vatR6HsVl7JJOQq3cYXrrN5wHL7EXh2i0yllnHubvbBuT/X6EzkP5qLRfLYsegFNP7q6SgsKcXSB9xqYUUvl6TcIwk0HVCfE6aQnUr8piqy+xijTO+qvql2lwjJ4rQWAULiKKTK+8Y+2o69MrnR7xdTJOGmH8nv1ZmmdWjYimrZ8VDcOIy/Vh0VTPwPrlGvA39Rmyl3kM8wawxs5tiwc4fSw6xRXJwxlUvAhFkFyH+6BIUzUi06fHDCh7o1Wk2QcShahZdffw2viUE+10x8MobfeBeuSTB3DREtIp2UTRd/NcG66falE5C7THbTnosskY7Oyl+E0mLr88Ze6Hu61MH43M8eFK10yncCbceCP2A66ebHlSaTgR1uWPc42fHgaNl0VfxOuTcHT+db3xcB/Lpq9f5LIuoxvToYi7khblyjNJHZgZXPrEf1ziqULXgcZQcGIzlEE76eMRKj5H1jjY1oFJnZkfrzdQT1vjEx/lPxz3C/mKJfKqZlyh4f5Q3aWi9cjR5UPr9Aaccum81kpWvNfYJR1iMznCLD84K6nsaGOrGeeSgKeK6QyNy9XIH1RbkoXF2l3KTcKoKz8jXVaIMLqTeK7dHmDDB6GmbdNQFpk7KQPblnggad0pveD9OQNjq5d9zkbH6GlXHQ+ic2dllsHtRZRGbwvkxMkc/XWpiJtCE99MVO1+HlVTtw4ioRrMhMgsggFP58JE68sxIv18W+DiZocG6SIM61oM2HXNozoGwFyWA6/h2jRC9UOVCBRWVVInhZj+L8QmwSIUg31pU6J/a1zHs2Kl3XizSv41YjrZBJjJdTOu4X08SnZ2HK5WKMtwILnq+Ep7FVBEoVKJSd5fSLR1rmNEcdD2HQRGTdLsKxMw1Yv1g+CFx83v5qVCych3KPKdcqzs+KV9ejKLcQZW/VoaFFfmY5ymvaxDGRipvGaqlcXDJSunTeuTBulpbRNg4r5DGsDsr9sTOnI0OkramXOrzfrVvIbtpHIU2ko7LTj+DnRRAOH/rspPBKf9C51aA+qqQJm5SeHK2GGAV90oVqhy6B1yJTD67a4OS+uQ5tO1D+UjXq3qlE8W+dN/Ukoq5jMBZUEjJmZ2Hc5fHwNe5A5W/FRXzoFOQ/nYVrwknkuo3L0PwwxZBJEfQb3wXj/WK6OHcWFi/MwsSR5+PDN57D/MXl2HNMZNLvLQir2YzSLEs+IPfSk0pvXkXPv4b6uEnIfdR8b4vYl7J3r9vduPjodqx/bj7mP1eJehHQTXl0MWZdF6wOIQ4pN09H1tQ0Qzfdzlg25TEPXe2hLmIWXdxbDoaOMMzPsApz6ChRTUxDhsXztaJL9jYmHytQi6o1xSh/x6Lk2NfuX2thJYrd9/sLY/9H/d6+MJ+dZBqi2hX1hbIL/ClITYzDCc8mVGwWGTGRPiyadyvUBnoxduEYjFEeci8YHlwvqfeNSYb7xXT9RJrzxGLk3iXSjWN7UL54Pp5740Ocf/UUZC9cjKww7o9MulXtYCEl7m/YsboIxS/VomlkphhnyvgnZmD+09mYcu3FaN65Hs/9Wn5mPVzfn4LcxbOi0jlOz3PWu2l7Fx8k3pP0GqbIhsyOa6ufKKVTznpWjfBRKMHEj8Q1svBCFlT8IHTzXSKKnvO+FbTXRH2GLPl0/JDhxCko7ELHCPL+o7IPZNfvhchwmHtVl9HehCTvmYjR/RBCV7+fKz4eCUOGwz15BibG7UHF76rg/VTNTLguSUbqLTOQebP63Dw/shZwwSbnvQfKknOHTTrD2//hffcA+vcIY/voXCcDoFP4WvYMKKtBPGVKjak7O3gHNfbkM7vkg5XDSUv0ZbS3IcgOZ8J6KLmfYNsna5HDqY3q4vkarmilU9pv7EwXrgna53Tt9yKiaGIw1mtoF1/tXTDnX2zVTIFiRfaMeOrr83HxJabetvoI77o8vLzvUtz6qLMmfES2ZO2BfDBTSOJ8kr3Xae+oq9rgfeM17Dk2HJNmTujCg6C7j2zFcOqM1e/u/Nqo6rtpcVQca0Ddx62IG+pG6qU8w4h6AwZjvYbz0r/IS0eJiGLIcel/bGuDiYiIegqDMSIiIiIiohhgRT4REREREVEMMBgjIiIiIiKKAQZjREREREREMcBgjIiIiIiIKAYYjBEREREREcUAgzEiIiIiIqIYYDBGREREREQUAwzGiIiIiIiIYoDBGBERERERUQwwGCMiIiIiIooBBmNEREREREQxwGCMiIiIiIgoBhiMERERERERxQCDMSIiIiIiohhgMEZERERERBQDDMaIiIiIiIhigMEYERERERFRDDAYIyIiIiIiigEGY0RERERERDHAYIyIiIiIiCgGGIwRERERERHFAIMxIiI6tx1rQN37dahraNNGBHG6CV45r7cJPvHW9zevsqz3b/JdH3amHhV5OSh6u1G8aUTV4hzkvVqvTjvL+Nrb0PZFH/+9zgntaPy0VXtNfkzpFPVuDMaoZ3y6A+VryrFpn4PMjoGa0fGi6bT6vvGdcrGeHSIr0MtE+P2caYP3jV76vXuZtgZx8TEcLxHxtaOtrQ3tXVlHl8XgN+/WY7iX+2Qryl8S+3vbIW1EEMc8qJTzvuaBzAa2eiqVZSs9Xc0UtqGhFwd1bTWVqG0bgFGpyeJdMsaMHIC2nZWoPqZOP3vUY/38PCx4w8FvfY7yrH4IDz3UOZR5tAl2PGV+8z+0OtQC0dCGurL5KFq8SGxfuzbOXtP2lcjLUbev8K0mdWRzFQqN3097/9DDOZj/skeEemcxUzoVNae162OkyVSbF5vEdab8HeZmjM7JYKxpZxkKZ2uJRk4uyt4Vp5ySAWv3K0FoeqvQ/8TtQ5SSQXFCWQ6mEkM1YS5EVbM2IhL/rx51u+vgaTypjVC1bi9B3hMl2NGijTBRMzqV8GgX/NYDIrO9u95h4uJBmfyNHQ5d+p1tvl90nMQRTxjfWwsm2iJOLSOjny/OhjLx6zigf5dgg+F4PbRNJPKG4yUi3grk5eVh6Tbz8eBDu9XnBxsi/g3C/M2jIcgxbM6chRwWVKG7Uk21QGYTvD0QM/q+kL+juC6c0UZ0q0PYGpWgrhuc8eKNt0Tm6eopmCJjMSH5p1OQ2q8RVZu96ggL3jXiWCiq6rlj2IkGLz5sj4P7B6O0EWcPX3sj6mVtx/v1aOz29N2N7BdfxItiyP4ncS19+CHkvdagTTNxZyvzvfhitliqp8Qj9eZxSO7XLtKn51D1N220lTMebPqdF20jM7Fs1YsovDVJm2CSmIHCF0tRMDkBre9uwo4I8jxKWvlEJWz2lC31+rkStTEtBAytadtS5fpYYX/aB9d+BB5xnak70AvTuRg6X/t/7misROmrHrRekorMvPsx0vc3+IZ+hsoFRaj+DEiYVIBFU7WrjSUf6l6ah9c+vgb3PzMdqdrY3qD1/Ups+mgAbrpjIlLitJE2vK/moewD7Y1Z8hQsKshAgvbWmgx0gmSorxWJ84Ohk2Vf+wm0iYxze3dmdq4WCfB9Y7Q3Fpq2ovi5au2NgSztC1kkKC9YEVyAZAncgk32GdbEKShcmAGbS0ZwMpiQ2+3wN5DkBcT2eAhg/Z2Tbi3Ei7dqb4II67P07xKMw33la6lD5cuvofbjNnEWuxB3eRqmP5SJtMHaDCF5UZHnMIjUmX4DecEt3BwkTAnjN3Mk1DHscN+l3rsMy+4WL7RzpdV0Tv1tSzFKtrUq893/T2JEv4tFVsksRJphZrMvlAKZD5KQdIsIBgI/JDL/X5JI7zxwDU3URkhNqF5WiE3NSZiysBAZ+qQhCZAvm4aKbZDvL1XeIXFI4F70vV+Oea/HdVwrZOFT8R9T8PCCKUhRZ+ng+6wVp+T/9lNK8OcyF5W2N6CqfBWqRBTquzABqZOzkHVrCsxJfcNr81G8eyRyl2VilF1x62d1qHhxPeo+FYGmKw7JN2Th0RmpAevq8N+7UNsuzvwb0sSZo7kwDePd5fDu3gXPfalwd3yWLLQQZ9glcfDJeEEMPsO4gO/Vwxo+2IO2fiMx5vvaCLFfq9/YjhNXTcG0H+pXvXY0bNuE7SeGY8rP0pAQ62Jr+duXrcSmA/51NfHXZWPhTLf972YgCxZOyevs+eLcjOv4FZ3pl4prxAHs8exF410pCJZDCsa3eyVy1ohc/OCJKFg8LeL16OKunIZH5wDPLa/GpuVlSHpaXJesdkZLE5rFd09KSUF8yN/SheQ0NxLersIRmVQbkwQHUq8WO+oDD/Y2TkOK5Re0zkMmieUSNldjr8eHcdeF+ftYMadToZxpRd2Gcmza3YBWERC6LklG6i0zkHlzYBoTqAlVC2Raqb214M4WQX0UL219TayTmB7X6lVLmpPSp2FccjwSUkYh6cIBSEiQB79L/B+gzGevFa2NbSKAOCGvMb1H2w6Uv1SNuncqUfzb0EUW7gfVEi+/4VfjlJMu7oqUEIGYJILZZSKDFjBk9qoAVSEyG/Hx8fbDAJFB0Gb1kyoynIbvlnuz3CsJmPhoFL7vkIl43LDuLq8vKszfzW7owW3sKHFVh+xr5UiZOTYct06CVhH8Fi8ox46GC5B6eyYybxcZz8ZalBcUhVHj21lS3DnkY+IgdWr8zfmmaWKwCayU4MZq397bPXvW9vPyJjq6ULviTOeK6ZwaoGXuXJdo4y6xPKNU4tjPtdoW89BN+8JSP5fyvc4X/0PS53Fp/7+j/bco2mxtaUSbWLOemWn8qB5tYn6/GFJktCsX5yBnXiXkHVit24qR80gOCl+uQ2tHIZXI7DxXjE2fDBfpbqkIhJPRsLkYK7ebqgeP7cBrNSIonjrNPhA77UX54nLUfpaCKfkFyP3RYDS+sxIvvmNf1ej9kwih+7kxVgbaBu4fiuP7jAd7/lsbIX1Wi5XzcpHzcA7K94n3LVVYJF7n5s9H5QF1lthpFJld8T1Tr0Gqtn/qN65E5Tt1qH6pDFV6C439lVj52g7UbS1H2ZZYl+D70LhtHTZ9FIe0mYUoXfUiSp/JxrjB4rK/uwzlu+1yIj60eqpQtlj8Fg89hJw5eUqNRl5ujtIiqHBlJTwtTnMxLrjd4nz8zIsPI24hI4KQ97W8yWd7sCfcqiMbMiDLn5eB5H6ncOK4NrKrvvThK+1luFxucWyJfKJ3n12hm00eMvkauMW1xLsv0ionE3M6FVQTqp8pRPk74kf5/hRkPiDyx4M/g+e1YswXwbPzvK5dvnAZMmOXsTkrnHPBmO/M19oro3hMeLRUZJ5KxYUpWkWtPSx+JK65XJx0/eKR9gNzmasz3jrZRjoO7n+8zK+plXVrCJHBMGTGOgebwKZLmrBpgdr8yXntTRRYZjjF9x4Qhe8rEsru2n8NH2v3QjQcCrOphPm72Q3W2+i0mWLkv6FPu4/rJNrDaswvMgGvb0LjmSRk/HoRsm8dh3G3ZmPRr0UQd6YRm16vC+Ni46/prXXqPTMiJW2rWRe8qYxBR9BiHsItsXbI9vOCBU3dpV8cBlhti3nopn1hKTFJKUVOSDQWQ/VH3CXyv4iy/K6UibhMzJw0RKtSHSJLnpNwmUVU23xUZMguEemI8q4NJ06If2J+46fIYKD6Ux+SbsrFslIRwK9YhNyfDseJ3VtRp2d8G2tR2wik/HQG0uJFMPfDGZhypTjFq7ca7in0iczTJjQMmYJpN9iXZfs+2I66L+S67sfElGSMmjpJqeWuP2B3D1WDmCb+pYzCcHOOYfgopYbv0MeGlGbwBOSvKEWBbGEiT6wzPgwYNwvLVpRg+mh1Fj9iumz+2yP3aDZ/CO9nIsvodnekYcOvdiu1Ja7LRWZY/2FSxGv5o7mScc0/hS6a7F4uJN9egNLnC5F1XZJSs+ga5Mb0n6q5W+9+iwhX1nwuyMX81VVoHpqBnIISJYhTCohKS1DwSAZSWneg7NePo2R7kJp6A9e1MshoQt0HzuYPcGwHtos4I+FHE0Qg3IbanVEKOgRX8hQULMvFhEu1EWaDBsBxAwjpRKs4W+MRsmzeyoVpSi1ik8hPhbenUnDNteKg8+yBJyothUzpVBC+3ZWolGnQrYVYlJ2BcT+ciOnzFiHLHYf23euxyfHtXXb5mnj0ZHJ+NjInrX1YK3Ysy+loItS0Wcs4ajea6vdEBLtvSDYxyc3Rq2IN9yP53azqQ6s4sFcuzkPOw2ppVNHqatT7FTpqy8r7Ktq8WL8wR13Psh0iARDa6lG9ugh5c+T4HOQ+UYjidbVotC+4FJIwcZ4IKFctU06gcLV7ylAu7527cgrugHrPjD5UyNLNmOqsscm8WhtF1trrsPVd7UA5Vout74cTtYhM0YnOINx2CHqvgqnWynaIoGnnaQ/2/kW+aIPnAz3zZzgPxWAZ6J2uwx55DF87BVOMF+tLxXtZ07ZvD+rCzQj6WlH3srhwbW5E3NWZWDRvCpK/IwK7xYWo2N0acXDXW3UE2nrT2g/8b9jX01VPmTYu2D1jZ9pxwuq4Mg3Bb4lxeKya7gO2p9Z6+jejiccAJTOWIDI0ygiNCOrFMd5x34lyn4mhGWOHVjTJmpaO4KsVrbIpfKJxxnqRuZXnqBsZPx8FEWeJzFwCRt2ai6XP5yNDO17bPj4klhbjR+qFhfEYOVKs9bMmHNGP3eZqbBLH/7i7g9cUtx4TGyEMGKit6+gRJaBLGGwTdJxuQtMx8YlXXKYFlQbxl2H4ILF9nxxRr126fq34sK4BvktGYZSIyVpFBvOIXQazpRpLxXUm8B7N6Gvz7hXHZarI9HbmDF2yya2sbZon9pueI7pQlvCLdKq0oOM3sOdDW0Mt1i8T1/qw7jv2oHx2IcreEpl2B+mP60Lr3Gycy1Ql+7cqFC0oR227+A5FpSi8f6L4DeI6m4fKZqmjJyJzoQjKbh2M+g1LHXWAgQvHYMyVIi34ywH/39qhxhrZGVESxqVPw1gRrLTv3h5+uhupC9UCxKaj4VTr9Udc+FkpwYUxqSlK4H/AtKNC5SFTUscg7swBfGhZgyybAsr5y0SwJq4/64o7OiR5SBxHFe+ba3BN6ZQtrcayXyoyJhvnjUPareNEqtOKPbujVI1Jtnp1MLZr1y4UFqqZAPlfvo9cAsY9vFhraibe3ZyrVp+G0RQm4YaHsHCx3kTLUB1rWEfTW7JatxoNF41F1rxFePSOUTjlqUTJQnECmdO7Mx+iYuFK7PgiGe7rUpH6/eGIl90Hi0Sy8oPPcFl6DgqefhTTfzgArTsr8ZapvXh0iOBxZxkWiMSg/RKRIXlkAuItm4aZqaWZkWd+rCk3zDeKDMrOKlTu1i9snTU2EZWumDKOAUOwe7fOJmeasKNsvTjOZHOWLKRd0g7Phhexw2FtjcwsVj/XGYTbDq8GK9HsrMUMNYS8Hc+kaUsVvGfilNqK1o5aKP9mEZbBulZDmHLVcPW9wfCrZLl+Aw45uda0NcIrjsv1KwuRM3s+ynefxPDb87HoEXHBSs5AweJcTLnyJGrXzBfTC7FyXRVq369HUx+IzJJufrxjH3cMWrrXkZYah2DNH0Xmu8TquDINwW8Qd3is5lUgeuXvzqmFe/PVEuWO9KdYqUVtVQJbc4dIPvX+KgNj5vtku7ybzOV/v5XSPPIznFA6q2lH7WsiHUudhmlWtU8GScnqjSxKbZZsIvlyNVplRuwWmzt4PmuF3NQBlwSEYoJIk2XtYdsJ+HX70iIylC3JmDInF7mPZsPdrx57P4r1idCGvR7xg1wpgooLtVFd4DvWgFolQ5yDvOIK7Gjsj8uS+ztrIaAUViSI+U/Cu1ntUCxH5BGqPE3OOosRaX3VFnlkx8F9raEjEpl/WL4JjReKa/lCtSmjPVnj9igyU8V14rUqB722xuMatzhGPt6DvWFHY/XYvksEC5ePw/hEF9JukM1bvdiuFxz2MfE/uAbJ4rqy5wP/7xcyDznyGrjjxO/xQbBHRjSicoG4/rzbioTUNKSlJsF1ugm1L5VG2MnaIfX6lzIGo8znRXIqRoqAtK2Z3eN3t17bgYcMvF555RXtnciINTV1vB8/frzyP1yyqU7HvQ1xA5TMfVgujEO8VsIiEzKlOlZ5rZGdg2wWSVryFDz+K62ULTkL8y/yYf5LHlS+3Qi3sXOQlgY0iHkLjSVy+8pR+4X4756OWbeqiWzy1Fyk/VRcrG1KxiIjS/Pq8MbL61Hb7IPr8onI/9W0kB1/dArdmYHzjhrUDPwm7Z3iQrFvr7sM4yJpJtBBTexmaO9COV98pj0fGhrUkO1Qg0iWxAXFitIhSVt/5fX5FwcJHkN14BEumal6/jmluVPypHxkXpcC3yX1aHihFusXF6H1V49i2pWhflxTRwVhUjLsN1o1A7Z2/sXaCwdkze1SWeosz61fAuVPb1Ju2E5YkK0029JZ7u8v25UuijtqAgziB8oDTGSqnn8Iteooe98cwva3tuOzwaOQ8ctMjP9BilqToYsX43+1DBPlM6tqtmLXvu1447M4/PqHXem1TS09VSR2oVOXrlLSPu21TmviGHZa2sXvodzvqr3urdQOTz7EyyIYPHF7AWbfKI4zrfOTRKWTk/NxsdIEchTSro1TmmxVvlSLkQ+KwN7iGO4fJ0+WNv+M+jcyeyTSGHla769EpVeev+p9v0GljsW4uDrUvluO+btb0XpaBE2/niXGadPN/n9NIvQV+92vCadOqzX8oEkJ2Dp+0yGyqeIE7Y0IDJaFXQ8efW17sedjkYTcdU1gDZ9TZ3xo+u9qbNpcBY98BIGsZbp6Cmb8dCLcl2o/3EgH6aDSwY0LSXkivfC1oWH3W3jt7VpsKvNgkyseKTfcgbtuSUPKIKsETRxKb5crGe+467L8mn42vb1B5B8SMDHf0JGFX2ctSRj3w8H4cH8cZjydBbfY/nE3jUPlylps3z8NmSEC+fjUa5Akgv4PvT5MuMF62yx565TC6OS0seq+/6fx4njzoPa9PWi7aWLkv4cjPrRu3arkVZL8OugJIukycSx7ULe7ERNvT9YKQdrR8FY5KnYewcn44Zg0dQYmdtRU+5Sm83H6BWhQKq5JrMQm74fwif3bsadC5SH7pWKM+A1qvV5xVVKbAAcS5+yFIr+2tDO/5n05FyvfbcJeTysybrGp4bZ1Sm32P0Ck4+oIgwFIkCNbTyhpQFSvPUohlfoy6fZCBzV4fVuvrRnbtm2b9sqf3fjewLutWhywInG7wxBcCXHXjsVI8b51/4fKAd1JJJr3+8+LS7QT4sghyDx/BxGIhZH0BdX6bhnmz1ZL8+rEhXjCzEUomRdOIGYgezwz1KJ1DA+6/TsNsKmBDChxL5H37onlV4jXM6yXcc6+/bLVEBestPTMgY7aE6/HY1tK1LqtpKNU3lHXr7KJjPH764PDjhVkEyLPW2UofLxYBGLiYicCsUenpijHSlxqJubPmYhkNKJ62eMoXK1lIKJNf8bM7FxDjUToIVdpYhGqdz1DzW0/kWn8pThfLs3Ao+L4ivvCg/L8+Sjf2YA2J1/LKn+kjXPfb9j3drXlgyZg1jPLUJiXhYwfmgIxA9egFIybmo38hWJdsyZ0MaNhKD11ekxElX8zUL9Bq9rsaPJtMYRb+9lXKB2efHkC8haxhEuT1TRGHC9fydqQ4TK96Ww2NmrG45hyuQvt+yowP7cQZdvq0WaqHYlPTBJXllYc+UQ/0H1okA+7jUtCYnwTqjbUKs1wJ4q8Zuv7FR2Pbsl5YiWqPja1qPgmEQkyT9ouMnWXTEDuYlNTvM/q0b0PsTa1qjihtqZQC7I6x9s2U9XTG+Pg4FEKPpExbhBn0DURdcHZBu+rRcgV183CsiocinNjSnYhSleUoODBjM5ATJIZbtO1JWAw3qspg68bpyN/cSlKn8lH5k2X4dTuChQ/ITt1UdN1I6VgSi/0vT/VkC+oR7Vs6jkyAxl6Ll42WSwoR+0pkY4ULEPBLwbD865XfJsBGKAveNVwkelvR1Ozg1qqRDfSxLHj/SCc+2x9qHunVnxCKm66Udv3IuiQhRDy2YZbQ1fJdYFs2peD+a83wJUyBVmTHKagiRORdUcKWt8uQs7D6jWq6e3nULy5AQN+OAlj4w6h8rk8zH/VI649PjRuLkbunEWGe4aT4E4Tn+XdG3ZTTKVTnGN7sNe2tUYSpjzgn19L/f5I5X9jcyRVY1qN+xnrX1QpABLHiuGIjQ5D3ufxm8/tQEzqtTVjsibMit342GsSF0r5fyRG6V3m6vol4rIh4hrSqLXNV8cKyRhubhmSMgl3pdai3LsDxbkH4L5lCqZNcluWlkYqYfRYuH80HKlp48Tn66U09tRSXr0k1zmZIelYt11HAVYl7gZqbQs6PrtjW9S3NmQGMlQm355VKY1s3y67do67JE5kmqpQ3ZxmWYMUdgmP1klIRBoqMb9YFgCI1Vw6DlkPT0faEP/9LHuaKlg6FrWvlWP97k0o+2AT4m7MRcm9VrU1IpMk78MJGZTLY6EzM6n2Oum0/tEs2G/ZjtqVj4ugVlwk4t3IfKKz2U2cOxuL8qpE4L4JdW/vxU3jRHCkTgo09DJxpnlw6BNxdRNBlFHDJ7LTgmRcdqXMJKnjrI7VkF3SByXvR4rgHjmFRelpjwqvdtnMsvZTu2dMrT8OQtYeGH6L8B6/YJIYg1rFr304JWuO/j/tvdYpwABzOtovCRnzSpDm2YRX1lXD81oJPJtTMHH2rM7a7NETRaBVi03/uR7e1Om47JP1qPLK9GYiLnu3EiUtKZj+KzdcIk0oeakWrlsKUHr7ALHPFqB8eTkSnp+FNJnOtntQvqAMdW0iA+bywddyCA1fiIDQcIB5//NFlL8LjPtVGlJD3i8VCZtWFbIgy1DWatsV9hWTkPXANdobzcXJhuuqFR88HrHDxHHgdlg54u8kjnzUqASIcclpuGNqBtKuSPBvNhoFsiAn7ZY7EHcRULnZi9bPGnDo/wETL9dmEDmIqtdkR1syQ24qyFWenyayEO4xWu1oG3as3YTGi9zImpuFNDky+SakrvOi7orLOmtdtJqaU+2yoWmolCYJo0Qwu6nmQ3jPjDM8ziCItlpsl/fsXj1WPQY1o340Dgk7q1H7Tj2mWV6PokGcWwtK4X5HBLAbNqF8q9vZ9bm5GuVviADu2iwsnpmm7JW2lFFIvTkVs6bKbZ2ACbvXo/TVMuTtFG/7xWPUzx/1K9RIGp2K+M3V+PAv4lwKJ/H//hiR6nrg3d+EaSkOUyw9J29u6+xIIpKGin+fHEED0vxr40434Ii87/W6y0KcXxHoSt6nD+q1wVhSUpJl4CXH907NOKIUSoiL3cMPoVwZF4l4pD2yEPE167DhDY+4KIuL1n+6kHRjNh69W5zc0Uj8B7kxbap8IUuNcoM+G6JT15qwhSRLOx0Xo4fK3AbLQKpNh7yye+28SbDKawQ0VzztxfrXxYX8knF4aE4CNizchE0vVcFtbF4aCylTkDNrFE4NHWnbnEURl4xx9xdi3Iw2NOw/AteVdhc+9T4ciyeumZiOBZmoyo+XT+Y/7bSZoimgsxSHcXdl4sQPkjB+XHLAsR93ZQZyl02E73TnvTRKr4GDBiDOOO+QMRg1eBOqd+9C/dSUzi6/z9Rj1+42YPBYjPHroCFQsCaYAc/YChCq8KA3k8Gg+HFlj3dfnLKsXLQStImucs9Y6KPMHECpBTHam3BZPvcstItlG8BBCQirtbS+rw4dUQpKfJ/Lmh5xdn0qE9rBYo+K9+3mZz25kOCehtx/moLGmlI891o9qpc/h7hf67VWIlOZPwsnni9HWV6t+mywH83Co7ecQGWeFwnp+ZgwCKh/q1Z8psh8a02r0m6fgE2eKuXenLSbgB0vyEBM5Mlvn49Hk6sw/4U6/+czna7D9t0iRz94Im7Sm6xpz2BrbZbfxpwl6+ykxPmlQabfhoamWpNtOC3IkgGLqVAlpDNe7BVJeMLNYzqOp/CI/V9QgjHeHXhrcxUqimtRoTQnnIQpEyZglLFmzEk6aCpogGyq+Kdd2FqlN38U6/5RJrImi8yx8b6vhj3YI/tfSZXBuTpK52tuUoL9sZdrR7rWLDP+5klqICa1HEHTGfH7X27Yf2J7ZRZ+sDjOnUi5dizit1UrjzNwOwkyLh6HR1dNCEzrk6dh0YvTRPodSQARhn4i/3TTeIzc4IVH6cDDwRHQJPaTONYzfioCMe1nih85DbPUCihBnK/XZaIwbbpyrsMqvUu5BmMHVaP6fZGvcbSjNEpvjBWokL0xivOh+3O8CRgzOgGbttZil3caUgwNQ9p2blfuuU0d3fHFqZuYT49e4+abb9Ze+bMbH3sXaz3vGJoVBQwOn88kS1luzkbhilIUzpyA5Dgfmt5ZiQXrgt3UGYkkTMyz2k7/IZweDH3tahOTxv11qH1rB+qdVtGbnullPeRiYohMsypY80StJjBI99r+zRXb4Xm5XOkKWnl2z6UZyJSdwDRuwtKX6gKaE3WV0oGJ2H+tDV7UvV+Nytc94gJrR1xkUlODB2JG8gJ/dao4nrT3BpbPnbMdrINy/cn8zoalqNaf6RNMYhoybhSB2DcigyP2S+BwCqdOd76/7Ke/xq/nPYRxfvmKZHFRFWfeF7V4cVWt2nOZvOF51YvK/ZmpP80Qc4QQpOlRwDO2AoYQtc8+7btpHdesXyN7Hete6nnaioZ98jyt7OxC3Y7W4531bxk4WDfRVTPh1seUxWCqyep41lkkg13NfAgJQy9DfGJCeIGcvq+Ujm46OxopflsWLspaIX2aBZFxTL45FwvvEkekfOzCfxoKqOJSMX1eCUrlvpHdk89IxQl5j9AZN6bdLjPXTWj4SARSiZchWb+yXyprhWUN8BHxZyveEplzXD4Ns0UmL+7qLDwugjZ84UHZc5VoEIs2bN4Er0jT/M4Jren8CZE2BWoTmVHxL35A6JrOWPpv2V14vMgThzzT7ckA2J2B7AVac8IbEtAqayUX5iDniWKUa70iOkoHl1WLX0vthbFS6RBIHB8viX0vcghq88dlyJ8xTgRipuNWVs0NEsfz4AEBaYraS6ahB8BD9ZAt3YZfaQi8RMDWiDhcdoUhgfxIdnCUhOEpDs8RkVsfIz7jgNPnYblMHc+Y2PUSGXvBt1uhPaLGuuApBampYkftl7WI2ihH9N4Y98KrdM7T/ZJvyUBqv3bUrilR7jsXVwi0eSpQ/Lq4Eg2eiFvTIvuN/POD61H+Tndf2c5evTYYk5103HfffR01YfK/fB9p5x3db7hIzOT/I2hqNWUEOoYQmTIzWaJz3XQUFKhPqm//oE55KKi1JlQvzsFDD+eh3Ek3tdFi6qkwJ1e92BS9sB5v7PSgWd40ETPa/S4O7iew5GsUGan5KPugHXHXZiNLe3ZPytQcTB8ZJ36PcsxbWIE6xw/OtGDef9qDOecvK8Nrr29F/d/U+07OBvIZJZaZatNQeHsEZX1e/8ctBB8CA724G7Iw60dJ8O3T7qeRXQHv8yHpR7M6flcn9J7SunovVEcX8HLI0e61KypBxRvbsfeTJpyIcpfPfp8nBvU8nY/i1fI89eKIzFAHo3Tfbv17+g2W7cqiS+2p0NwbYfdIkM/++tWE8JroaPsq/2YRwgzp3G9ZctekZqrBlM3DwHVKRwnyxdEm+7TrdB0q/7MJKbfPgDvY/a6SbL6kNJMUEjqDy6RbC8T5KK4ujdUoXpCHldtaRc7M9Jwyu+7rpbYjOGTX7X0v4t13QCQCYyDzuGYyTciTj6FZLK4Teqb5tAyaxXEmrqcynTBT7gudkY9lssD0V/IBua1KK5YXtzU5SweVggYv1hVXoPojGfxmIf8ZEeQtyEaGW32WmKXU6Vj2zDLL+6ld/UwNnbSHkftOdW5/wwEZng1AgvageqVXxjdq0a70cqiNC0ntdKb9T3uD5EdIGnWtG3HtHuwN82Hn8deOFaFcI/b+yb4oNqrixiFbPp7ldL3yAHr5SKW8slq0XuJG5pxpSHEcKfjfY9yRH3y+ApU796LxqOlB19Sh1wZjkgy8ZJf2MvGS/3tHIKYnZD7TQypdSPuhTCDbUL3OkKiH65gHO/aZTsC4uNDNZNoOYK8s0TjThro/2d75aSICuGV6BtZ+sH7OmHUNYMkK7WJTWiIuGrmY4KgmS3CU2S5xVpsSlAsDZMnioFCBcTtqXyhC5YF2xLszMf8BkahqU+Q9HhN+tVDJ3MtmH61nIig1GjIRjwfsP8ODOVeVKhfdglkTQtfa9BKOunQWQ0T3Xpket2A3WD+GQYpD6gxZ4rwI+Y9kIeuBXBSUlKBQZGqch2LWlN4ExTHVcUN8EJZdxMvfXdv+0uXi/cLpSA2WuW5vEGlMOSoDnitjwabGuUQ+XFh+pnKeFmLaldr8dmRTMovfMmDoYz12+FrqUbevMaIa8NbPRDo+JEEL5JrQKg/7S8w1Gm3wbKsTaYj2VtfaqhbCDLVvpqTUYg2aiLt+1BFa4bIrxD+RJjXr62tWezlMlt3Zaw9oxv49qDOU18mArEDW9re1iVTPhVHXpZmCzxSMkq2UGupxyLydVrUvUaUVMorMYdFWJ+lGOxq2rUf568Z9Wi8ytbJALU2EEYEO7fMov6/v073w6KeU+N2VZ0SJ62ntO0E6q5AFpqMnYnreMpG2FIqAO5ywfThuzVeXy77VvudEP2J7GvfVod6iADBBHCtyfx3RKx9GiuBT5PC8NZvE/I3wbCjCczXyCzahbkc9Whs9qHx+KTYdTcaU/xVej4ajfiCDjA/hdZrViLUWtUdQ/2f8hSL2ZQSXKj9aV/Uf+u0ouzykQfw1uOZyccrJ3hi1Ud3NJR/PsqIUi/JnietjFnLlg8KXhXo8gs6mlZXeIduLpSiRnV+J623Qo/yzOlSuWY9qc6dD54DzvhW01+cE/UZ8c0cL+s3hxvFt24uRt6EB8T+ahYV3iUybdhTp8yZcm4XsW+JR//HXGHtTqkjM2uFZswBlu9vgShyHKXffhLGDfTiybxcq3/Ag5ZESretYvYMJ871PPrHuXLFuH+JTJmDS7eMx9pJWbH2tAtUiKEiYlI9FU+0veq3vV2LTRwNw0x0THfaMKO8ZK8Qm9MDN7do9YbYdXGjTbW/ajoi2nxMj/H7tjfB+ejFGjk4IEbgJob5fl2i/U7PxeNGPocjo2xnNThHUcwvde29hCOr36eL9jUF+Sz39iO5xasXqN1fVv5qLkp3yYiUyUU8XIMNpgUcowY7hcO/r8ROdY1UXld/YibYdKMlfj3qRUY/7UT5KZoQTcKi/X/VVemc5XpQ/vBKNP/X/Lj5POXLLRGb/wiS4J2dgkrwX6kAVKn5bi6ZvZJfzNg8dPrYDxfPWI+6+Eswy1mLtr0Du87UYLAKs/MkD4Hl5Aco9KchcrnZdX78uDyXvyCDRjSm3T0Ja4lfw7NyErbJH0u/EIU5cw2RLOFeiGxl3z0DGaC2LbpM+K7+FRxyjL4hjtDuKdk/XYeWvytVmXiLwzH9mmn8HA2ba91fOjjsWoUB2891QibziWoyZJa6/VvcJyMKNN7bjxFVTMO2HncFU26c7sG7VengGT8eyvK72ihodDetyUfyO+Hb9RmF6cS4mGDfqdC1Wzq5Aww2zUHK/+kXbveuxdPUONJ12Ie7yNEx/6A7EbXkOZTvl88z0cZlIM2W41XMsMO3pcEac04+U4VB6PpbdZfxFtHNd9rIcova3R9mlX9r4RHN6bjc+Asq+bPA/dtX9a5WH7KReawYjc4U4d5XCOf2aYJH2aeen0rt1N+/3Ll8DtX3bFLCtbdixLA/rZVPqfmmYtSrL2W09fUSvrhmLtfixkzBusAtt76zESvnAQo373nxMSU1C+75yFC0rx9a6I1pTsji4Zy7GopkTMfLCD1H1QhHyFjyHl7cdweCbpuOmy0OVcbjgfmAxCu6diMu+2Yutq8Tyi8uxp2Uwxs1chMIggZiU8MNpyJrhNBA7h2i9t+n3FdkOX5h+n7hkpDoJxGIi2L2JoQe9K1mlUwSL6Y6GmHS13jvo9/aFGmxLPrtg+NVupTMT1+XXIKyC+JiJzrHqT+v502KfmwfbLtJDuWQkRiaLs79fvEgHwo36PlM6thgwSGvT0Naq1NQkDvH/Li53FkqezsYU98Vo3lGB4l/PR/FrHwKXT0DWwnzrQEyEGnW/3YSGIabmhNJoWYs/DninWLkPqeKTFEyZk9XxDLFRM+T1aQJS+h1C9cvFmF/8Irbu82H4T7OxqKQEJSXLkH/vBCT7vPjwqLqMQnkulMjzvWuoJRKB0i6R/4u7bnz3BGLShWnIXiiCDnnpO92Or9Sx9lLEOSFztK5kXPNP6snR8MEetPUbiTHmXo51cSmYOCPLLxCT4v/BhVPHxHU1ZXivaYKZKHvok+d+sjg2zb1yXjgON4njof3dSmzSuliPS52OQqW1SilK5smgSxzLsoWA0gJDH6fOG5Z+qbhG5JTbPHu7/f7WmGhv93+IeRekXi121DEP9hp2lH0eslOSWC4BXuz1RJqAnW3iMfKfkpX8VnzaNcELXfqgc65mjIz0khbtbShdKXUJVXOkl+w45WhbwiyRT+xCDWGo79cl9rUkvYleYuZYN5TiRaXWJMhvGe53jPx4iMFvHuwY1ksztbchdeVcCkEvVXaq+2sxo0VNr5q7JQ3purZtRch77RQmFizCNHmb2evzUbT1Ykx7pgAT9XuQusOZBqyfV4wdyVkofSQtzMKxRlTOK0L10PCW9bXUoWJlOera0zBrcVbwZsO9Sbs4hn4tr3mpyJw3y2ETs0Aha8YE37srkfPyZ6a0tpfWjGk103XyHs4FUzp7QbasAfOh8Y1FKHo7Sq08tBrLz8I+rxtQ+UQxqlN6177svpqxcxuDsXOcLOE/1dG2PoTzzd0xh0H2GHfqa6XbeMuHK2vTHevKtnQH73rkvboXl07OR+5N0a+uUH+n83FxuJ3A9CQnXTobdcNv2PhOObY2JGDs1CmI6NmuUqhjtUf40OT1oPFUAkbJB0xrY7vVsQbUfdyKuKFupBq76pbC7No+oOtucqB3B2PyURAV+aU4kp6PgluAqsXF2H5ZDpZ12zOihLZ6VL30IjZ9NBhTFhSEnzHWMn6D7y/FrBucH49t24rxtHcMHn4w4+xrafJZLcqeqYDnC/kw6Ttw181uJA9Rrxu+9kYcenc7KnfGYdqCaZ2P+TAxF3hYZry1IOPEXctQMHidf2Fq2Bltkb60OUtfgj42I4im7Svx3OtetPkMhWTmYEwPFOS9gDdm4/Eo3FMsv1vtyhxUfD4Ny+aFd29ew2t5KH53DGYtz1Tu/+sVtOt8pL+D7MnYu68R7YNHIS2lt9Q5xx6DMSIiophrQ8P79Wi3CobPVbJjp9eAu2ZH2JzuXCU7+qh9Ay9vrkOjjD4MXJckI/WWaZiRPqqLzy3V7vFBNO6pc96KJao13ZY1Y9Gn9j8ATF+W73+fXyjKPZAeuH+l9zdAfRWDMSIiIqK+yFCrHXFthg35HKlTX/fyFhvB9FAw1tHaItz9r/12iGkrDeoJvaXik4iIiIiiSXswsXzWaZRbhWsPYj9LA7Ge5IqLbP/rD5VmINbnsWaMiIiIiIgoBlgzRkREREREFAMMxoiIiIiIiGKAwRgREREREVEMMBgjIiIiIiKKAQZjREREREREMcBgjIiIiIiIKAYYjBEREREREcUAgzEiIiIiIqIYYDBGREREREQUAwzGiIiIiIiIYoDBGBERERERUQwwGCMiIiIiIooBBmNEREREREQxwGCMiIiIiIgoBhiMERERERERxQCDMSIiIiIiohhgMEZERERERBQDDMaIiIiIiIhigMEYERERERFRDDAYIyIiIiIiigEGY9QjfF+0oa2tHT7tfdhOt4vl29Ae8Qp6v8Z3ylG+ZhO8bdqISPm0fXVaex+Mtl/VoQu/z9mmzYtNa8T+fqdRG9ELOfodG7FDfo83vAg8bLxY/0Qe8p7fgVZtjLU2eN+Qx94OsbZA3nViHU+UYEeLNiIiwT+DKPp8aPLWoe79Botzwzlfu5Y2ntFGxMLZkF4RUcTO+1bQXp8DmlC1oBCbmpMwZWEhMhK10ecwGSSdEheZ8y+MR9yF2kij5ioULtiEpmuz8eKDbm2kIDOKp77W3pidj4vj4+DS3nXudzeyX8xGx1rkBeb1PcC1d2HK1fHaSElmMLfiUMokZP0oWRnT9FYhCjc3wZ39IrINm+HndBM826qwta4ezZ8ZArd+LsQPSMRlP7wJt6anIWVQ55aFpH9/7W0oQbcvBM/qh1D2gf2x2XagGuter4L3UzVocg1OwbjbszDtugTDvhY8ZXiozIOk28U+uzVJG9mp7dNavPW7KtQ2tFpmMFyXJCM1/VZMm+RGQhi7KoB+jJx/MeLjnK1I3Qfam1ASp6BwYQYCv6EDdse17owP7V+cgt0RbmZ7/pjIjN2pr83nh834EL+jyoOyh8rgsdwXwaYZ2ZyfmlDHpTNOPkN7E0pXfnfqSEuDH1ddpx7T2puQAs8JS7Lw6HSIlXakN8GPOadsj/8w0wjJaToRIFR6RURnNQZjfUV7A6rf2I4TV03BtB8maCPt+NC6ez1KX61Fk6EqxDUoFRkPZCHjyjhtjGB3EdAyitbMFz+bi6K2bgRkCrRMpOEzQwZjf6tC0eJNaPzGhSR3BiZeNwojr0jABWLSiaP1qPdsx9Z3G9D2TTzSHlyILLfhOwajbaPv5lzkT75UG2nhv19G3qvegO1zlMnUvmewTG+72N/zxf5uH5KGzJlTMMbViK2vr0P1/jYk35qP2RMMv7m2LVaZrY71xI/CxBnTMGlkYmegJDMXrY3wvF2B9e82wZcsMr3zRKY30vpz/RgJIwOh7oNUZC67H2O0cYH+hq3LSlDdz5Qp149V7a01bf8iRObG0bo6Oc3Yqt8vMHNoOd4yGNPODe2dLSVgScImq2DM8XdT91XSZpvjMmga0Ek9J6KRMdbWgdDBmKPzTjoLAruQ3yWM80vqqWDM8W+gcHZc6NseVMf+CHbMyWtgJcrfqEXDMXERdMUh+YfTkX1fGhJM6Z36PSyO/zDTCMl/n+vbp7210HE90T8rzN+aiM4ODMb6iPpXc1Gys128SsaUpwuQMUQdb6VtezHyNjQg7uppmDVjAlIGiUx6owfrV5ejriUO435VgszR2sxhXgQ6MpULL8OmgAuV6aKorbvrwVgbqhfnofLTJGSI33eKXczUXoey+eVi7eMwa3kmUp0EGbbbaKJlTM3b5186rAURmIjcvEno2EytJNf2on/Gi4o5K1EbnyG2ZYohOGpHXdl8lHvk7x4oMLPVhh3L8rD+41HILMnFuCDxaMOGPBRv/9r/WAhXxMFYqIyZTabcXFKtBaWp9y7D/f+kjZMl8JfEwdUSpcyN0+NDY/f91PGmINQyqBbfsc1BaXw/cUxd4rWuGXNcoq/uK+9LNselqXb8b1uKUbKt1bS/5eEdjzhXsIyxUza/u4W2hjrUf6a9EU588BoqPW1AygRkpQ/XxgoXJ8OdmhS6RiaG1GMDiHdPw13XDtDGGgwehbQUY8uC4HoqGHPK2TlvJdQxZT+96e0iFL7RCAxxY8okccb9uQqbPK3i8imOrQL/Y0vdPod5htO1WDm7Al7xMvX+Usy6IdiRpW+ffeGTeu6IFwzGiPo03jPWRwy/2o148Wu6Lr8G7qAVY43YWt0gLuATMevhiVqTPRfiktOQNVcGKO2oralTmsF1yZCJeHzZMixThlxMDBIcNm0uxEMPPWQY7Ev+1XvPxPCFcQsP4dCn4l9iGtKCVF4hLg1jZWDR3oAjXbr/xTlXXDzi4/VhAOLkGdcvDgM6xokhVBO+A3sh463UySKT4HfGxiFt0jjIbFjK3cvw4osvqoNl1aHRCbQe115aahfTZSb7/Mia1Gi8+w6oL/Z/CG9P3G/RTxzHxv16ibpfXZcYxsmmUDFP9WRApd+npw5qk1oRdOflIU8fRCAWSPuO55/Ah/+xAk8vnNcx/7ynV2BdXSvON3x3S/p+uvgr1Fe/jBVPG9fxHFb9Zz2+EplA/30ltvmEtr16+19XnGG/xmOAdhz7728tMxmCzPD6pwFWg8y4aguEEJ8i0oIfdg6pyf3VCYNE4GIYn9bLAzGj/smp/tuuD2EEYn3LKe1+SnFsOrk/Vne6DpWbRSCWmCGC+mxk3DgOGdmL1MC0cRMqd0d69WuH5+VKJRCTOSvv6+VKuh2aKd0yDE7OHSI6+8U8W9JrnGlD4871KF6Qh5yHH0LOnDwUra6Cp8WQMJ+pQ5mSKShDnTFzKUvDtMxClV9moQGVT5jnV5tHrFxs/Jxq1PvdYSxLzNTlPL5GVK8U88r151agXpvDzHV1JpatehGlIZuVtaJVlhhfMRwp5vniUjBcBk0tYh51jD1Z69GRSeocOpql+GWMtSDERsLNuVrQpg8iKNSmmXlf1TKqy6rFXtIl4jJZYtlch7q/qWMstddhz37xv18ikoIEh72OT2Q2tJd2fF9+pb0KJh4T7pmC5H7i+BLHX/G6angbWg1BQSPqd1ahbOHjSm1b3LUzkJGiLRqu5iq8sVtstUvkJtpr8caWcBrz9AKy9qhjvwQZTkTS6Ykp6BJDxT45XpbgawF10KC6DTteKELF7lMYddd8lIrz/sXSZchJE6fla8VYud1JdwXiGCiej/JtzUianIMC5bxbhEdvT0bbznLML64ynF9SK6qf07bXMkiMBtP3txui3axQS8sK32pC2771KJytpmXFyn6UtfTyfWABkR5ABrTUFNeS+m3l4lqSq6TbOXmF4lyrQ2ukeXyn5D2zb8nPFb+R/A45uchbXIYdjU4+WG26rl//Hpot1iGWrfK0+h/fYXw3teOL0EPEnTI17oXnmHzhxd4PtBRS1iApv5ccrIN33wd7lMIh9x3GVgZA0k+nwC3ee9+PoDCyrR5Vzy8Q1792JN+cj0UPpiG+XRw7C0pQdaAr3YcQ0bkgaLY91nbt2oXCQrXWRP6X77vFGZExeWYeil7dgdZBY5E1T2RK7hiDr/dtEolpISq8WkLfbxRGXSlfHEC9Vuiv+MuHammYyL58uN+Q8LbUo15eLK4Uy2l7uumtYsxfU42Gi/TPGYVTnkqULBQX+4Acdyu2Pl+EygP9MfI6N1KuHQVDA5sIDcfwy8W//XtQZ/68v4lgRly84lIuc5zZkU2S/AMpOYhgyi8zewLtQWpGXHED/EoDlRJ5bZqZbAYYmCFLQsZDIsiQTaGeFkHGmirU7m/suNi3NnhR/fpKFD5eDs+X8p6xTOWiG47A2jvT4ODemYiNHKM0qfRuERlkv/3YDs+2WqWnsMY35jvblkszUPB8IbJvGSUO4614+fn5hqCgGC++tR2t/2MCMvOXYemDbji8s86fyISUL9+ERtlkNj8fU5Ll9i0VmdaAA9yGngG2G5zXkESspRpLO/ZLkOG56tAFFwECg47sa7VJTrTswq6PRWidnoWs65LU2itXvAjMZmDiIKChdpf/Np1pxwntXOjI+DZ7UNcIJNySg6ybRyFZOe8SkHJjFnJuSRA/WB08fvtYNtPSttemmdSJYyfU/8cjzXyG+t31wVzoFR2+v1RgwQs7cHKoG2mpqRhzZSQ1TuKcfGkBSl6rQ9sV0/Do0wXiNxqA5ne0ADdIOtg1jahcWIiyt+tFejEJWXmLkP+LVFwgm5+LoKo2xKnXtv05cV3agQbXNcgUyxY8PAljTnux6Y1atHZsc3jfraPgLMSgFkSEqx11b4ltEylU3CXis16vUK+fDlpkHGpoEH9TMMp8Me03HKNk4VPDIRxSxwTlE9f3um2VKFsmAti8Emz6uD/GPSD23V0pSHBnYfHCLIyLO4RNz4npTxSj7PVq1H0grkva8kREul57z5gMvF555RXtXaf77rsP48eP196FS9Y4yYycf/vvtm1FyHtN5ExSM1Eya1xnBrShUlxkRGbrknHIFQGGDKis2ts3vCYCgJpTIoDwwec2tOl+vwwPveRB/M35WCYSaDSK9RWJ9Zk6RmgX880X88VNKsCiqbL3QH07xctLRMbt6Ww47W/CCd++cjz+Qp3SGcS0GZMwdqiMw7Zjg7jwNokM9LSCAkzU28bbtVW3uUeqg76c9lZlaruvzROVDjyk7uhN0fH9NaqONv5WOu4nSEXmilkYZ2oCqN6bkICJj+ZjkrI7OnsY0zve8CWOw/T7MwwdeJxC8u2PYvaNITrwCNr7ZSgOezoT2g5UoXz1/7+9/4Fu6sry/NFvOagoVLRoGjVtkZ8gP5E8m7SgSlAYOg4dk4ddHVMdU4OZDixihnZecFbsrJiMcX7gPMu/2KwYr2BWcFZMVtw0TganGjMT84LThfyC88BpUArUAU2QJ6AO6BfkxYjmh4aIppRyv3PuH/lKupKubBmbsD+si6yrq6tzz9+9z9l7nx54bulhe64BFUuZQBt0or2BKcK3dDAXVeKlX+cKJrVqpBWBTfCLSpwqoV32BUfanxK5fvIV5WdFb42oSGcJ6+bYSOQfI56X3sQQ59tzx4m9L3fA+7My7NicD6OU5vD1AXQ0MqH04XK0vZjHyktqR+LHApH2M+xBJxMgB3hdfLkceWaxfMNXB9D+Jq+jI32emLZUPjNMGdjeCAdfdWf9aBvrR6NLRu7T4p+dk3bkPe73l6AOqREJ/KDmcyP7NjLMLK/r1Pqi2L6LIZeZsk8Kn9qLyv1u6NnvNLHfkbttPpnDV96sm9tQtVxLSxpB/p1UPl7hq6zf+2OmWCvGCrkNcDPm2pWichk/hgXQ27gDPT4jiuubFD63bDy7o4NOrl9pPluiup4J/Ecb2TP4oF9ehR0/P4kmVn4hczHqavmknHRRgjqXLF1yXsejUv8vdMN+4DSmPLgMy1bloyBHmhiJIXzVBUf/SZw9dwXfLymHfV2u9EnyNhGFyniaqj4QBHHvkMZwdnfp6+uT/oom0fnR48fJE3zvDj3yVyoUMY6lCAV8FenWAPq/FE+ZLBbhGr/XK5kyBODhZgiWAhRIs2p83o3jGeTLZ3ostIqCoLuPz6Kz31kTbUqoX7IMOex94ML56BlthnVdeUYVMY5uUTma6sqQP82DnreYIlrTiNYj5zFlUSmqdyoUsVEg+HRd88Lty8XWyMy/HSVJ7pmOz1hSpppgW12O2oYWtLbJv82Od9rQ8kYdqtbmp6eIcWL9kFIcSW38v5brhhtnXYkMYRTmYDWiIzhHz5T8hq2lsE51oat5B2paDsLzwDKUv97KhEdLdDrUFBR3Z2QmOv1jJB2q3AnA+wU3b6xEzW6miCEXJTVNoiLGMeSh4vValOTo4DvWipqX7Wg/6oT3enweRPvYpTiS+UUhiEtfi3PQQddZpiok4NxIvuzqm2hTSu7Ir1hh3pjAWHcqy88GpkD9LweaXhlpN5UNvbi5lLXt57kipiC7BHapLUQmMrJyUba9HPmGQXQ2iiZn4j06MWjIR/l2URHTjPc0XFwR499xH0e/YD6WGq4YCL9bHVvnkh0svdyUrj7WlHKMzCrEpjEJt6zt9vGWYkbxuuhVZVNenrCS776gNKlIj+98bji/4PtmKQ7vyDqLbk60IsaxPCwu/3i/uSK8qjMDM4S4IAFcuaRctxlRxMb72TTDzSQPN6KJKWJ8orLsb6wwsr5x29N8+b0Xja+2otvl17QnmNo1wrksdl9FOyxbJH4Wx4JS2N9oQV1VKQoXqCtiHN0cG4o3VKGOXTuiiI0SPnkkpWvbKlLECOKHwqRdGeMDdCK4UDE6VFbGUqxWxM2uD7vQ/iJXFvJQ9U45rNL3r7DPX8A77NqfSveWf0u+78gsWPk7FciL6rhjZ8hU0jlRSHuBBRR7fgkoZpNVmZqL9fXVKJjF38Q+n0SqVSfF/lSJVsbSm1GPIdnKiurKnnbiV/BCGNhbjc6v9ND/JISQIT4inDgrm4Eyl1bBRr2nTbrccDAhqBtDfH+yp0qx4YlcGFSzNYzghX4c/G/iXmlGxcxu4hlpDXBlI9aPSFrVDk3XszrGy2MXKw9FouTyVVsp4Uifp9zSQCbFKp1M8ueMaR9SG0s+Ay6t3KjlQdLPFCjaodrKLt+M/JjXiGVrS2BVtdyTonR6LVj//Hw42lm+25hSWJGnENoT9AFa9o1KhMY852haGVOtC+msjEnXzi6G/fWS0ZWFCknrTGyaWVkGvnHBeeo0zp7zYuiG5NOouC5+ZYzB20uLQzBJNFgKsOaZ1cifpyzs9J9NTDefYEi2TcUISa0KBHzofrURDqbo6+YVYuvLpbAotMLAF51oOzAAf45s4aJe5wKfNGLHRzdRWNuC0qgFc+7j3QzH9BI01RVDtjUQnyO6X07ejlMQyacEbUKNVP0VQRD3NJNWGeM+Yn5/vChsMpmEz0aHipITEbrVO8T4QTzMhOpKdLoNYmd+qwNb3nYi78V9KP+DOKgLIW2XOEUl7+H1aKkpgEEesMTbJkBOg0o6xwNBEEJykx9ZUIvduDeB2Zu6ApDGoJMISWiLHbAzMyiqkExR9B9DM/cVUpi4xRKbTtk0FCuqsW3mh0KdijWJUhv0Y4nURw2oCvFpCb/azRPDd8LQTY25MpkAEQ4j/IAuUu+SKdXn3+d+JUrzzRjihHJW3xpZffuWKQevFcHTwtpdFqt7SnNfjcqYZmVco5CdfPIgJr/VlLG48juPA3zlcqYNpauMuOK7iZDfA+/VIHLKK4D25AqA9smMxKaBssmYkQcuWGeGe/827D0Vgnl1HWqfNkvPk7wPSNtMUWO9lLkrypiWOqOxniiRfyeVWVroYi/27esRgkHp5liR/4vFWBhm4xD3I1M8m6oyxghfc6J7/yH0S6ttfN/JkhcrUMjt/kbxbOn2zfETWPGEL/TD8W9WFNpiNrqXYf12+A+sXxE+DKB/TzOODi3GpjfWjwSFktwFQqwvbt2oWKm60InqPQMKdwERtX45M/1VGuNiqv6KIIh7GvIZi6yMqa1YsW8c2QH70UCU34k8mHE7/HWB19HcN1dc/YJ0r+VV2LfktKCkjXzPg87qVgyEks0UykKGSjrHAfE5kPw3UgwCmRCixqxg3G3SHRh5VK3XmEDHy/5NVk9+4kV3XTMc1xV+VQwtypgmZSrJps/p5HXcSk26ZEiA0JQvCqKVAwtCn+9F9QE3oPQpGU3aNK1UaUNsN4kVHAG135P8UJXoDAZMe4D/9VMYHzLDaDAh9xEjZjF5sr++I6kypl1gVs9///FW7PrQg9DsQtQ2lIoRWnlApJ2s//IBBlsZasvzYUyxz1h6gnv69TJS79XKO1PKWLAfzTVd8LK8iNpHUEkaq3ky8u8krXeSH6GbmxG+WouSedJvqDybnBeJ7he+4UH/b95HN993K8uC9TtrUfBAJp4tDeUjFWOaVJKsFNx6WDduQ0U+y4MhyVdS7qMVK27p9j/ar1fPD3lMvfmtB1e8l+CZ/jjKc86TMkYQP2ASiQETDle4uOLFV8I4/HVsilgCplowV4i4FBMhUSCIwUHRi2v+QyP2DKYFVmFvJ+83Z3HlmyCQPR8WvhrE7jWfd76DHgz4RD802V9MiGIo/HkF/oCK/4twpDfbqyTMfV94qPyd6UbsCo/sH6R2pAjdrTVilnhwpTcx6pEZo49EdvLclKpjfw/cSpeHTMCFdu5P827yNc1EhH0OtHJFjAe0eJ5H12InmYBTWrkeudN5dLLtsB9II+z11Oi9nVSPJAKRabV9xJcuyZFWdL8MwgWZUUfLGw6y+rhDUMT45q2Va8W2p3+sHFU8wAn3Kdk+OUJNi+1mFxzp7ne3lAljvIzeaUMrbxOtbWjjr2/ww47ainKUbyhG/tI85Gan7k1sz8eXfexhf1qtzQUw8HYN7FwR40GG/g9JEeNkmVBcW4fSBQYEXZ1o+yS18q8lHfyYqHqpRpzPkWEu5s9kr9f8uD5VpV2maJtjQQ7Xbnhyw4giNkp0M3NRWNGEqsdYZzXsxel/Zu1lAp9NDX/frpixJdkRO+7okV9ehYLsMGuHdnGLmQZ2zR0TCl6U+miNjKm/isAVfn4f8ZD9Jxv3dKL7xFn4vr2ZdAwmCOLeZ9IqYxyueHGTRD4I89eMK2ICJqwUfKFCGOgbYP8r8B6D4yJ71efjcaUQYJFC1X97Eie97ONHLNKsswm53KnihgfHv+QCCFPOIjqcDnlLuaFEEI6DmQ9xfOmcC0F2z/Dls+ATmtpRBoxQOVKE7tYmRCUP4CETu1ms2pHIByow6ITzlAtXtEZPHwt80+aZLD2phI9bA2jb2Q1PyADbph2oUEZimVOA6nouEDDBwhdAWKMcw2e15UE74cFnwhOg6fvsSMe8aLwR6sXM5HvVcbyHX8feEwHBn6R2a7EiSA6fAbejbl0uDLeuwH9nmnR+ksMjs7L2o7oaIofeT7rnl06spzMTT/KIwmTyQ30l1Yj8J5fBbC1F3RsV8UGGdGYUvswUxO11qPyV+gSKEi3p4Mfdr5dmzBUs1i7Bw8cCCR7dtCuumVmwbCn3NHKj+4AreiyJQZ4828IVhXQ2LE7AzZvitgI/nqqs2yF4B7VpCd4T/YjdjkyvnyL9xdH+bHcDbZNKScYdvRXrG9pY/1yLqufKUf5yHVpb7VhvTUMTS4DW/orLC4U14iRj1NHaJqW/Da086McGa/JJ2uvcvLSLySoTXSoEQYyWSWumOD5IjuYXDSioakAp63iFTk7YZ6wJPZfDMCwoxIa1BZjxTS86fzMA/x/4vlQNKI+SNmS/MfGd7bl9qFgq/h0xC+FE/MVkQnDtr0f7qSB02fkoeWYlls0K48q5k+j+yAXLi60oW8Cvk80XtJtGIOSF46PjuPlICUqFQTM1ornK2MwUtZHcPEU2m9HiM5AI7aYhaTLG5w/53LgyNQe5s1NrW1qeQcyrcGJ/BAVq/nvpfF+bb44WX8gkxOTrmMpxOACP+zbmWM0JQ+dHSFiuY3serXV4zPU1I+1SToeWIAspTCpTkrwPENORAfO1BMh9TPpmiorvTjej4KmVmOF1oPfMTWSbp8DnC0aXecxYsu7pAuTqAjjv/AQfHf89Vr9ei4KZgO/wDjQeE6e5BB/jxxK3MjFvmOiezExRrg9ZRuRtKEfRg36c/LAb/T4moPOJP8WzBY83o+ZDLwxPVKFhnRX669J3dSbYnipG0VILMNiDDr6Z8wNWlO+qQh4f/jQ+WyS/RkN2+j51iUle57SSrK2OuR1rJWF7l2Ua9meWFFRM/IAgiHuI+0wZ4zOanWjaP4BA2IL1jWzwEKL9MXjI3E8PoeeEB75rQUBvQHbOSqxeUwibiiAtD2h8xnB9C7uPrHFFfNCgvr8RU+QCp3rQ9elpwck+9Ad5D6wirHnKBrMQ9UEeRMa3kxcHzR+SMpbEaTqKNARL+fmTBOuIIjbQSRpoGdg1lVkSxvr9eMIIBbXvwxZHTH6NWznGkrBej+15UkeEE0nrOdV8cdKsl4kia4rpGD8laITkfcB4pyOiIKj1YymUMa7kO99vxyG+Ye8dHfTzrCj+j2WwDu5S77dixpLwA3oYZmUjd0UJSlbkivvCsWt8Jw7irYMuGBV7gKkh5k0KZYwRPNeNdz7sF7aM0BlMMNuKUb4igLbGmHoecqGzsQMD7DrLM03st40IX3PBcfQYnINDCNxgCtx0A4wPrcQzm4qRq0yalmdLy58rhlH41CXmbiljWvsr7f1DHEnGYf+xRjQd9mHa8go0bB7lRv0EQUwo950yRowQEVC0kEhQ0YQ2ZUwTCWZOZYFFG2koufIgKL1NyRjyKdmgL5NWXrGcjs3v9L6fWgDMNONWjrEkEW7uBmk9p1qdT7NeJirHMadDM1qUMemNBu52vRwPQidaUf1BAIV1TShV7BpCZIq7pYxJbzQw6gnHCe6vCIIYX0gZu59JZwZzDCs+fLXB73bBd9uI3KUWhdmmRDrpyOjM6eTCfbAGB87Nweqt1SgQgsqoMKYoYow0Z63v2l5ld5tr/WjdfRRXF21Cy4b717AnrWio49j20ovKeq/XS24d0YnWA06E8qqwa3MKnyBilATh/ugQTt+Yj6LNBRitvqsp8ul4c8cP9zkfQrNykWdJvIpKEMS9CSljBEEQBHHXCMLR8jrcj76ALastZFZGEARxn0PKGEEQBEEQBEEQxAQwUYvuBEEQBEEQBEEQ9zWkjBEEQRAEQRAEQUwApIwRBEEQBEEQBEFMAKSMEQRBEARBEARBTACkjBEEQRAEQRAEQUwApIwRBEEQBEEQBEFMAKSMEQRBEARBEARBTACkjBEEQRAEQRAEQUwApIwRBEEQBEEQBEFMAKSMEQRBEARBEARBTACkjBEEQRAEQRAEQUwApIwRBEEQBEEQBEFMAKSMEQRBEARBEARBTACkjBEEQRAEQRAEQUwApIwRBEEQBEEQBEFMAKSMEQRBEARBEARBTACkjBEEQRAEQRAEQUwApIwRBEEQBEEQBEFMAKSMEQRBEARBEARBTACkjBEEQRAEQRAEQUwApIwRBEEQBEEQBEFMAKSMEQRBEARBEARBTACkjBHpE3SjZ38HOj7zSSdGT/hWEMFgCGHpfWLCCAX5teIRuiOdHk/u+OH+wgmnNyidGB3anzFNbnjhZOlzXx3lnYelPA1lPGUInutBB6sj/ZelE/cA4atuIT+9N6QToyUcunt1dKK43C+Ub8+50bYNH/p5H/KRG2NrXT8g5PYo93GZb5bxjLUP4YxjP5IOvs9YfdrfAzdVKIIg7jF+9O8M6W9iNLjasaXdBSypwL7nbdJJxh0mkIV1MEzXSSfGH9e7W9B+RnqTiuwS2BuKYZLepsVQL+z1PfDHPrNMOADnISaonfIiwAVSnR7mRcUofaYQuQbxEhE/euvt6BmyoWJfBeLuxO7jOtaNo5+64bulMtBn6WC05KP4P65G/ryoGyeEK0a3h6U3CZgyzQA9L7ZUz6mJFM8YQzjE0ve99CYBU6ay9E1lf0h1z/S0HfbVoyjJMT1f8ufyH2VpOuKHrWIfKkabdXeZjKU5SbnIv6ENbXVGRCoPpGjXUpljtHVGRkvdS3qNC+1b2uFK1A/xCZ/DpxGwFKH8CbN08i6TMP1c+biNFM00minTYBA6lRiCPgx8fBC9cl8Zi9B3FmL1mkLYZmsZS7SkbQqmTddDx6dix9qHcJL0I1r6s2hY2gwsbdK7dBDHPxNKGuwozpZOEgRB3AOQMjZWpMEsShm748TelzvgZkK/dXMbqpZLQ4uvF41vH8dPf1mL6pVG8VwyrjvRfeQSZqwoQeHDeulkYsTByIqylk1YKJ2L5yqOtbTCkRUjBMkDqvRWHWmgQxIhfpgJhTuZUOjTI7eoDKWFZoS/7EXnbwbgn2pDee0G5P5EulZOyzUVoTNyHx1Mj61H2VM2mI2SAMHgg/zQ4DF0H3TAE9QzAbqJCdCp8khWIKS3CYgI48mUleEgPJ8exIdHXPBzIWqqEdZflqN8tQXRqUiutMSiRaGOCE7JBKmgB44PP0SPy48wq4e6WVYUb9qE4hyF0jphypgkiEvvUpOOUhJDinqtzLtUylj4GmuPBw5h4GKQibw66OflYf2WMuTNki6QyYCAK9aDu6uMpap7Ufmi5RmTXpNCGRtT3UxMKuUgMtHBSZj+dOsvQ+05Quw+r7H7hAzIXbWB9ZU5yFYoIuFbAfhcUt/5BzNKXqtD8Rzpw4RoSZtCYUm3D/nbchTHjkVJykpLfxZNTJ2X0pcQRf0Rf4uUMYIg7j1IGRsr8mChHIiGPeiqbUX/LQMKXmrB+gXi6eTCSSxB9LfUoOsi+zMrD1XvlMMqfpAQbQJcAqGNm5rcUsyofnkANR+4Yd3Ygk0/k87JM6rXEg++wb5G1By6DttzTDlaqhi0r/aw3+tNIBSrpPlCJ6r3DGDKylq0PGORTqoQGkBrdSc8D69HS00BtK2PSaQS+BJ+HoZ7/zbsPRViAnkBiguNCDh60X+ZvV9ehV2brYqZ3fSUsWhSCKyJ6tMdNzq274WTCXmWFUVYOTuA47/th5cprXkv7kL5Iil16Qi88rXS28SIwpDtDEtTQsVG68pCEmVdK3K6F5Wh5dn4KQql8J1UGWP3aWzogQ9G2H5VjIU4j96PXQiACcn1TEhWCn9ptXN1Rq2MpZhokFFLWyJF5epvm9HaF0ipjGkWvIX6hglRxlKlMSpf0ipHL7pfbYbjBmBYxfqsdUn6LIng8WbUfOhF7sZWVK9IMpF0sQs1Lf34fkU1WjfmSic1kuoZUvUht/QwP1GMItaHHPukHz72PqoP4aRZVt5DNWjuCwIzC1H7RimS5pSUPuOqatT+UkUTzZoWsT4hZYwgiHsV8hkbD7Jysb5lH/a9o1DE0saAnJ+ZBaHekLc4+YCVCbJ00BsMMMiHNMDppivO8VnbpDUmiLMuHxtk81GkVMQ4c4pRyLVJfT6q97G8EQ47SlIMmt//3wGEpL9VYZ/f5K8/0WGacCINQiF8x1/vpOnP5etBF1fEbOVo2r4ehUsLsX57E8pteoROdaFn7K50Iu7zGOSvQ064NArZHN/HXYIQZXu+AbUbCpG3aj1qG5hQPz0E54dcoYhB8nFK6uc0uxDbWlrQkvLYhsLZ0ncSElPXEh4zoM9UD6XTq9xfsQqSlDCch1m+DZtQ/FoTKlbnI391BZpeY0rEsA89h52a6w9X+LZs2ZLySG81QQErp2rVcpGOrYVMnVRHp4/PH37MUDOvU4FP3Kj+ZuyxMdW00vhhe17ue6KPtk1imrJnp1K61PEfPSgoYnxEDX56EL1XxfNauHlD6MESEmKfcx15ytQfiyfSIHxbrJnfhW4Lr1qJ9CHPNaFO6kPqXi+HTZ+gD9HK1V4c/JQpYrxd33Dg4FFtJrs6/QzVunk33QAIgiDGi/tPGeOmF+82ouaVSib0VKL6VTuaDw7AF3H65asRTCCq74XvmhNdLXZUV7L3L1SiZmc7HBeTqgYS0j0i5iJudNWw32sX3/mPyAKZHb1JhGxTUR3amKDQstkWY/o2Wfl96qAF/xbW5muxoBRlS5hy4+rAtoZ29J7wsDIacW4PeN1wHGxmZdILf5YZJWvzFatR2vC5XGLwgK/OwikVa5SwnGAlyHvqNAIwoXBNnqJc9MhbU8jOBnD6lFc6Nwa4CdP+AYSyuMDhR8+bHXBqckz34vQXASZVFqJEabapt6HkSSZoXj+N07HJO9eJmpoa4djVl0A4ilXWEx6pFPbJjxhwhR2yn+IdJ06fY69LSlCinJyfw94vYa/nTsOZqt5HwWfv1ZWC6GMUq4FZesxQLRfpmDFiBpdpEilzcYdG5U5AMVGQ7BhrsBTft1fY/wYYY01OU8H9Yw/Y0XTEB/2iMjRtL4H5Aaag77Sj81QgqZJueKIMJWbe5zShpqULjnNeBBTP5LswgN537dj2dy6EptuwYXW6U3JhuFxu4a+g6yy8kq8sX0GK9HHSmBSNog9RTqrp81CyKkEfkpIwAqc6Yd/JFDm9FWUNdSiZp4PvSBPsB5wIpDUbRhAE8cNiUotNJ0+ehN0uCsf8lb8fE8MedDa0ovvMdcx9shJ1r2/F+qUzEDjRjaODMUrWtR40vtaBgVvZKPwbNmjajLh92YXuN+vRdUG6RjM5KHltJ6pXiXPS3ORCnCXWsoqQLrIimOjQbsqUPkYsXMCe8cYAjn0Rk59XHTj+FXsddmKvprTwlZ1daKktQ8GfBHD86D40SwoDP3bsOYBjg0DuUxWw79HiSxFDyImjJ5nAMV0P/bAb3R8wgYedNq3aNjKDr7qKEMSVb5hWpLfAEruql83OMdkl+M2V0UeICwfhPcGElm2iL0ne8w1oeYUJeLed6KitQTP3kfMlWckLXsElbiplzY0z/TJZuD9bEJcux6SOmxdJCkBqcyyWdRcdaN9ZjUqpHCu3N6OLC28/ENwfSPWsxSEq495LTDwFLI/M5++imP8IF5C9uJSWcMqU63q5DSQ/VGXlZAyHcFMh0McdN8chqmcsw0xBOdiMHS9Jz1FZjcZ3HfBqmceK5dzIREGyI+Ekgib88PAQfFnzMf8h6VQygj64T/Sia68dlS/tQMep7zD/6Vo0vZgPo7kYdaxtlDz8HQb272Cf27H3YC8GvvDAH5vxWSYUb2+DvaIYuRjEsfd3Y4fimZrf+wjHA7NQsKEWLW8wxTzdGbmrveg9x7oq1sfhugMHPxHzKGoFU22VUupD9Kxua+5D1BhmCuU5plAe3Av7S5XYsX8A3z1cgtrXq5A/24ziV9mY+PR8fHeqg9WVStj3dqH3hBOeIdLMCIK4v5i0PmNc8Xr//feldyM8++yzePzxx6V3aXKuA1vedgK2cuyryJNOMu6EEZ6qk2aMJT8dNuTkrtuKylWiqSCHr2jZuVnFvFK0bC8U/ZMkm/ZoB235HtE+H7JPijYfhPRJK3KVwtZeDdmuX9X/QcUPJ+J7Iwfe+FZ2SlcE8JiWh/KadSkDeGiJeJiIKAf8RCiCjOS9uAOLTzWh/UwI5tV1qH16pLzVfSES+NwJJPPb0eD/wycLaloxcAvQZeej7MX1yJMjqIV8GPjoID763IvggnK0vZgHnZq/h5Rm1Wh5sZ+l6evBCbHf3MF+MzQ7D2WbS7BQ58OxwwfhuBCEmd23TvpNua6P+Bwmj5IW9DIh7DqPHGeFKVJ+bnS8sBfO2Qn8irSQxjMm9BmT8lnVl0xu/yqotnMeZfWO1kbKck2O7JmSsfuMpfKnSuUzJpAigE/F67JSIfWR3Kyypgh8LkVT2x0PfN3Y0ehAYJHUrqTTCZ/xRj/2Nh/F9Vm5yCtYicd/boFBpYzCPGz8p8dw8twlBIyr8VqV7NM6imiMCjTViUhwEB74oxz4O7FMbM81oGKpwrNW7Rk19CGqqm9cGwuif+/rOBowIjdvJVY+ZoNlplpGBeE9dQzHTrlx6fosrK6tQsFM6bNEZaBCfP1Nx+eSIAhi4pi0yhhfCfP747t8k8kkfDYqvN2oaXYgOKsAtQ3rYVEd0NQVKYE7A9j7UicTES1Y31KLAj6mycLYJFDGMkcQjp016OZ7RM0qRN3OUkQFl1YZkKOeKSq0vQ76bDOsK0qw7slcGKLWYmUBUplP6QmVsaTM26AH3W1tcFwOQ8/KrImVmT4iQAL6nEKUPVMC2xxWOVQFeSl9w8Wwv14Sp4z1vGZHb1Yxal9ZKa2qpReEIuTzYEg/H5ZZiaStMMIsT3VcaE0iSIVX29H0dEw+XO3BjoZeTFvThLqnWOpUny8ZPnRvb4QDhahtLIUlUpYhDOytRudXVpTvqUIeS5tc10dI/vzqzvdSO8rOgDIWFcDj9wh8w+vmTVxxX8Klb8J4/JUqWE6IaU6ojD3Hzi+Vzsl8wT57j322qQUb5EUGKfhNVLnI/cSo0FZ3xopYBkYUbq1FkUpmRykBCYTk8Km9qNzvhnVTK6oeUyzlsL53B+t7UVSHprW8N5H7yBFStt1xQaq7bvbctU0oVc47JXjGsRP/7OmgOimgIHxtAB0tnXAFMTJBIitntwDj8jKUr8kTFaNR9iG6p2qx9UnJbsB/DM27mTKruR9JgzTKIL7+jj5MPkEQxN1k0ipj3LwlEdycanQE4dxbjw53CNCZYHuqBKVFNhijemt1RUpEVhT0yH+5FWU8OIcsZE2gMpZqRjspaoKuJDiFpusRYoO3rWIXG/wVmZS2EJ8YcRXsLg2al5kyvpMp4+yXzEVbsXWtIgw9N616vw2dn/uRIwuSCZ7TvX8L9p6youytKuQrZ/JlZX15FfZtliVzNYVTHfWVzZu4OuhnaWb8WwCXLvpxM+DDpZnF2LnkLCrjBBVpNenRMrRVRfvRhT9ngvIBN/Je3IfyReyEiqKSdHUimZAmKyWSoJhwlSkBqspYJuqZfA/pbQT2nKzKAYa5yH1oIVauLcC0vgRpvtaLxtd6cFNllVhcQZ6BktfrUCybHKsJkNz3Kb0NlxQkax9jXGVRlLe6QpyABEKyeA8byt+pQF7MxIs4USH3N1IfGdv/JCovjWitbzIhVm93sHrLrSWaKpQ+oAyVZ4yfZEiH8VeqQ6yNb2NtPJxlgO3ZWlQ8pjC0DnnR++476Lnw4xHFU7Uc0+hDOGrtNFPlmKCeqZFW/SUIgphE3F8rYxx5f6iPXKINf5YOphUV2PqMVVq10aKMxQ8WE6mMJTNPPP9+DTrPJZ7tjjdXZM/YyJ7xWwvWv1YETwt7jiz2HBHzIoYmIVnOAy2o5XV6QqY2E6cwPMcduP3nSTZQVZqsXutH6+6juLpoE1oiyx7sLtLsv+WZFtSuHDH5kUNVR+0tF6kzqQWxSMjnWFgdNcyYJioOJj30s3Mxf54FtnCPijIWhvPtSnS4WfntrB0x9+EmQ3yrBO/I6pWawJS0bgb70VzThaHHqtAqRZ+Tkbc0kCcpMqKMydsbaAwVPlYSp1laEbyTj+qWMuTKSoZsVjo1ZvU4mQCZlpmitJVElFITSzrtLB5lGjOhjHk+qEbriVkofaMOhZG6xxh2o/OVvRiYI29BkUAZi91iI020m3Uy3cTdiaa3BxDQx/RvMmrPmKT85C0AorcDURKjVKf5rNqezQ/nUS8b0/JhVlgjKgmzPk7H+jgBdxdqPjiLOVF7X6bRh3DUxoNkzyavpCXYboITeVZSxgiCuA9IOsxPJKtWrZL+iibRec1kcV+mCtjfaoN9cwHM+jD8n+1F/UGPdEEybktRu4ww/ZlwYlKQLIqZOHjroJ+h/nms35j/aIdgrmd8ch0K5thQto4J3beY4LS7B760/Kr55tMKR3HVozpJABMmvCmc2VMd2hz4dchdWSwoYpGIebHHndu4Lf/9k8Uo3/4aXluTI31fRJe3GoWzmPL0D2+h+wLfADiM4IVuvPUPXsGsc3VeSolJFcu6lkggDfGQlLfZxdj6Bsuv7VUo31yO9avzkWc1Rc1Yj6BD3lOFMA570fV2Nzw3WKGFg/AcekvYs8745OoRIUqGC1HSbyYVeAz5WL1cj9DnHWg96kGQ1wcmdPlPdaD5MKs05kIUjnorh3hCf5gB6/I8rLRGGcmODu6/84UT7qujCQ5gRvGveDsYwL53BsRNvu/4MfDOPsG/z/qr4mgz3iT4+3ap1l/1Yxcc16QvJoQr+co6ozyk+pPNFB7VzzUEbIlEM/TBw/Jv4GgX+pMEK8ldVQhzFlNed3fAKeV1+IYHvXs6MBDSI++X+ZLfVAI0R+1UP7QpYmEETrSjnitiD5hR8oqKIpaIqepbJPBD3gIgejsQ5RGzunnNgV2q5a5+dIqBEVNgQh7rH8wGPpkl9WMxx23Wx0Xez12N11gft0W5gjaaPiSWZOUoR/RMsN0EP5KWI1f0eNqveeH+woHu/T3g8VcIgiDuVSb1ps88iEdfX5+wQsZXxLgiNurgHYm44UDjq93w8f2vWsuQG5lpVlnJkK9lZyNmOOO4MuY/1ogmJuROW16BBg3h7dVmBjXPFg4H4T7YjL0nAkz2ZMLb9mKYBFU9BPcHTeJ5Qy5KnitH8YyTGlbGtKB91Sgh0qysqrN5QkZWODWh9pxX+9Ha2gWPUghg+bO+upopsdJ7gbE8Y8zqQQLTH7X65D/eit3/wBQmRSAUw4L12PpSgVSuDE0rnDHI5pyn/AhH7q2DwVqMF8qLhWiSnIysjGUSDTPsAZZnzb+9isUbW7A+euGPwdrBwV1o/4w9t3SGP7fpiQps22BNad6WLmL+IY38CML7hQcBHlTCIqs7CVafEiCWgfRGBa5kTJtuxOK1L2D9Hw4mfMbQxV50vNcLNxfiZaaakP9sJcqWykJ/irSNpm5qIcgUw7/rQM8F1nANNpS9WoH8ROHsk5SjWv1Ot85rRkpHeveVxyBtjLoP4SQrK7XP0ilbeXxNhGBuPAdFW6th/IhWxgiCuDeZ1MpYxrnhQr9vPgoWKeZmZT+fOGUsF2Wt1chXSFmiCU4IeqWZljxYRA0s8j2iBXDZ3l41QmEckknIRfZnVh6q3ilHnHwYg5pA6z5YgwPn5mA1G6wKkoTRl03kdPMKsfXl0ohQLRKGr68Nbx2+gtwXdqF8tkPDYJqOMKCmqIxdmBgzKYWGMEK+S3APBaGfZUHOQ0YVk7IMKmOxpj9qgSKU8ChlF5iAfkcPoyUnPijImARePjvN06JuSpdQME1g5pXSnJYTMan1w7GzSQgwY167A3UJv6AgAwqSwJ0AvIM8+IcBpj+fD7PaFL4GIV4b6QiWUl1R64c0KmOq5s5TWJ6n+YwR5LJWvUeKtI2pbibgcg92vNGLwDBToh8rQ+WGvBh/4Rg0lKOyfidX5lWQn1F6m4qMK3mcVOUYDsF30Q3/rQR9CCdZWal9lsD8WxVVX0v1PifxhE4I3r4eHL85HyW/ZmUe10cTBEFMLPeRMhZmnXU166zDMFgKUPT041g2PYBjhzrhGAzBWFSLprWCR/OIEqAzIX/NM1iZwxSxvvfRfYrvS8WEaqV/geTXEsopRdOLhTAK5hvyPWIEcHlg0ltQ/PwGLLx1HoHZxcibJ30ey3Unuo9cwowVJSh8OEo7UmVMqwvDAXjctzHHao6JeKiCJkFJyoMkfgEjqAUoSOf77A6afMbSRNNzpiKDyph0NsJYFYyMPJ86iZSx9JSRGOR8uOPE3pc74OYz9jMLUftGKVJ6lI01r9IhpRCfzoqXVqS6Mg5lqcqY8zNF3R6XuhmC+2gvQktLRraMSEbKchzjKpj0jOFV1aj9ZeqNEtPxh9NMJtpFsrIaxz4mloTjnzxGsz/NciRZgiCIScR9NEekg+25najbWIi5fziLY+80omZnB05fm4X8zU2wC4qYklwU/00O/Cf2obmxFT1f6WB5ohxNsZtv5hQKipJusBv2Qyn8zrKLUflcPsxTfOjd04y9h504H0iyE+qsPJRuXq9JERshjNDNEf+AxEdIYWbGyDIid5EGRSxdkvgFjByxipgCTd8fB0WMGBdMq+2qvkuaDllon5qHioZqFPAmeyeE3/NzGgmHbqq0hdjjLmyMPF5EfLxSHLfukSfM6PPoYV1dqk0R00hC39OYQ/Q1Vkenn6Hap8UeGVfE7iYTWS8ti2HjxjA6Mxb/jBQxgiAmH/eXmaImpBnb2FWte4BUPh/RjHIFjaNptlPOR23Ez8ym9311U8cxkpFZ3bGsjLnR9eoBnM1ejdqXC6R9yxSMdVZ7HGetM7JykAweXGB7M/rNMRv1JkLKK22MsS5pWFHRjOaySbO9ZGszXUzImFdUNK6MSW9TMtbnUSOD5aiaT5P8GTWTrB+5i884JssQgiCICYSUsTjuXWXsrqHJ5l/2KdJGvJlhet9XN3UcI0E3eg6fRsBShPInRh/Rb9z2UpP8KUZtoin7oCXyC5qs8CAM7+1Dz9ezUFJfN/kEr2TlkiQ0uiqTtWzGWvfuBVTDvmeQZOHf1YjbhiQDXO5Hx6eXYFyyDiVKX+p0mCT9SNDrhOe6HuZFVpjIUoIgiHsIUsbiIGWMICY17k7UHALWvVSGvESR8AiCIAiCIO4BKK4QQRD3FtYytDSQIkYQBEEQxL0PrYwRBEEQBEEQBEFMALQyRhAEQRAEQRAEMQGQMkYQBEEQBEEQBDEBkDJGEARBEARBEAQxAZAyRhAEQRAEQRAEMQGQMkYQBEEQBEEQBDEBkDJGEARBEARBEAQxAZAyRhAEQRAEQRAEMQGQMkYQBEEQBEEQBDEBkDJGEARBEARBEAQxAZAyRhAEQRAEQRAEMQGQMkYQBEEQBEEQBDEBkDJGEARBEARBEAQxAZAyRhAEQRAEQRAEMQGQMkYQBEEQBEEQBDEBkDJGEARBEARBEAQxAZAyRhAEQRAEQRAEMQGQMkYQBEEQBEEQBDEBkDJGEARBEARBEAQxAZAyRhAEQRAEQRAEMQGQMkYQBEEQBEEQBDEBkDJGEARBEARBEAQxAZAypsblfnTs70DHZz7pBEGMnqDXCecXbvjvSCcyxR0/3F+we3uD0gniriL1Ez3nKP/vecIhBINBhMbSRoNu9Ix53AgjxNIRvBWW3qeP7zOWhv09cFO1JAiCuCf40b8zpL8JGVc7trS7gCUV2Pe8TTo5efAftcN+xA/T0+x1tUk6O3FMtvTcVYaZ8HTrNr7HFEwz6KGTTitxvbsF7WdMKGmwozhbOpkILhTe/l56E8+UqQbop0pvhnphr++BP0k9DV9zwXH0GJyDQwjcCDFRT0RnMCB77jKsfLoI+fMM0tm7h1xntKEx7wRcaN/Szv7XxpjqrNRPjOkeGspwvAiHgkhS1aLJmgbDdLXaHUOkPTCmsO/o0/yOBqLagFbcXaj54Czm/LIW1SuN0kkF412Wd1i7vpPkCSN5JdXf7BLYG4pZzU+ftPobgiAIYsIhZUwNUsbSQnt6QvD29eD4zfko+XUejAnWZUVhQnqTjDEILGMm7EP//g50n/FHFBxkGWBZtQkv/NoKg+LZ0hKO5LqXgKg8TiHI+z9pRNNHPoQNFuQVPI78RQsxZwb74N8CuHLuLI6f6Id7KAzD8go0bLZBL34tBX701tvRMyS9TYkNFfsq2P/RyHXGurEFm34mnUwIU3SnM0VX0zq+JMwuKkPLswulcyr4j6F5twO62DqbIv9FpGdKIsCnUnSmTGMKBZe9R6WMpadwJurHNLczTtK2FkbgVDc6jgzAez1mRUenh3lRMUqfKURuIp1fzgPpbSpG1e+lUrYSfJ5q0kBre0w5+RD5TgJlLFW9VFxPyhhBEMS9BSljasgDX1oC0t3jnlXGLnSies8AU8kA85om1D2lMkPN4GZ9nuvSG8bNM4fQ7QoClgKUPzlfOsuYZobNalJdjRpfmELSyBQSnx7WdVXY9IQFhuEAPB+3o+2YD7rlVdi12RpJVyaEI++hGjT3BaOVF0mhCKjV04tdqG7pR+jhUjS9UphA8Q3Bc6AJrZ8HkLuhBdVPaFkhk5Sx4UJU1xRhjnRWjfPv16DzXHJlzFaxDxUZbWKSMJuq7UqCM2LrbMzK5NXfNqO1DyjcWouiyGXSKmgSAT+VohN57rEoY7NTl4GA1hUqVaTyRgJlbNiP/j270DXIlHprATasKYb1QVFxDocC8J3pReehAfjDRuS/uANlVm0qvyqJykyN2NW2Lw+g5gM3jKuqUftLOccUSn6isky0oiXdL11lLHV9T66MRadfgWLlkpQxgiCIewtNc80EkREsi2Hj8r7OjMU/U1fEOAZLHvKWjhxW80/FD2bmRp3PmxBFjHHBAYcPMK3ehqpVTBHjiZhqRO7aWpQv0SN06igGMuqv4cNZrowy3B/UoKZGOrgiJpyNxz84KCi9tlWJFDGOHrm/zBcEPs/gJfGUVrL0mGEwwJDkGLX8P5Ho9FHPMEN4CB30M5TPpm6OqsT2/D7s2xd/1K7iDUAP/U/E68aEhjIQjlEXBPdfuonQsPRWBf8n+5giBlg32tFSVQqbeWQFU6c3wrKiDPY3alEwO4CBtzvgzLTfZCKuObBLbif8YIoTJ9DXOnKuZhcc14TTiZkaXR8ihxaTzXFAp58xqdJDEARBjJ37UxkLB+A82Az7q9Wo3LIFlWxgbnzXAU+cAB1GcNCB9oZKbGHXbdlSiZq9vfByKVdJOAjviW7s3ckG+FfYtS+w6+qb0R3r2M9nN9l97Ef9CJ7rgv0lfs8taD6eKcldNBfi6ah8gT3XKzHPdcOBRv4c1Z3wSKdG8KF7O09PIxw3pFOM8DUnuvc2ooantbIaNTvb4RgcZXqnWlHWwoTStjoUp5zO10jSPOWzzPx9vEkXnz3m18VZ/gwH4enrQHO9XDfsaD7oREBhfeX3epmiY4TtF7Gz8zrYbDns1QtPmrpNMoLHD8JxnYnwSyrQphTuG0riVyokTHPEKfHBc+4RM0oVAu7zgnmY6UGaQh9/wvAP8XqZjbkPimfGxHAIN3mwhxRHSLUCuNH1Kuuv+CG1mfijEtU1raLCwmT9eHHfi4ETrPbMK8amFYknV6C3YP26fOiH3Th9RiUxfBVLJd1xx80Rn8eUZBfDrmwr0nIUX8mKnNtHK0cEQRDExDOplbGTJ0/CbrcLggF/5e/HTIgJ6K/uECNeLShGZV0dypfPwU1XNxxfxigZ5zqxfXc3E1tykLfcBouBKWfuHuz9wKUQCsJwvlvDBPZ+XDeuxLoX7ah7vgBzbnnheJspZF7pMgXhrzpR/3Y/vnvQhjyrFQsfzkwABf/RZuzY74D3J8tQvr0JW9fk4jZ7rtYGpoxwBXLmMiybx15D5+GOTdcQO8dNA+exa2aKp3C1lyklHXB881Ms21yHpq2lyL3tQvfueqbExGqkE0tm8jQE13v1aD3kRPChUmx9ndeNGRj6rAM7mnvhl1YIdFlT2P+/R/jfxPdKwmGxZugeEF7GTMjVgdf/gRXWdBvKNtpSrshEsJWhgq/Sfb4X2/d0w+kNjAjlXPj1eeA4YIf9ELu3uQRbnkqk1o0vrvZYBUD9iFOaU3FGVNITHtycTLr0rsGUkfNfsddZ8zE/E03+mgOtkVWexEenuCgUQw4KNq7DurXseLYadS0taFEcrW/JCotkYjrbhHh16yYCfOLGaETKx2HXcHfF6zdU1nJjV7ESHUlWgu8VEtb3eta/SNcQBEEQ9xeT1meMK17vv/++9G6EZ599Fo8//rj0Ll2C6G+pQddFbmLGBNGnRwTQcIgpF3rJ/Eiyz+fmRNZNO1D1mCSG8JWlV7vhy8pD1TvlsIpn2XkvPMMW5M6S3jPCTAiuPOCGfkU1Wjfmiicj92Xy79NMaUvl95AAVR8tXzd2NDJhhQnW9u3FMElqduiLdux4zwV9EVOm1poR7GtEzSEfDKtq0bLOIl7ECB5vRs2HXsU9+UoZXyUzo+Q1xUpWyIn2HR1wTStE3c5SmNmp8fZhk++v6sOXNE8l/wuVIBKyT4/ShyN8ipXZflZm7Hea2O/I3i3+I+z3j/ph3dyGquWshkh5HYq5jl0p+pJ9a0X5nirkSRHfRuXDwVfoPunAviMehKbnYv0r1ZjxsZjmONTyRSBJYAWGbroZ1qdKseHJ3KiAI8lJ4UOkQHxudZ+xlNHlYogEvEgJX2XJVGS+MAb2VgrKjHUTK/vHYhIg1T2lH0+ydMptzCi1RQHZz0gRcCR1tMAEfkXjQbAfzTVdGFL2YxGkuhAuRG1jKSxJ6hCfFKhm/aGqz1Q6vmCjRPa5hLUMbVX5rJ+X+4ZoYvuwSN+TgKjrk/n/Keu7mv9axOcrQdlKdU1LHyv3bSMkaIMEQRDEpGDSroz19fVJf0WT6Lwmhk6inyli0Oej9FfRA5pOVsSULCkbUcQ4M61YOJu9DvtxRelrMDNaEePoLPOFgTT0jTd+NndWITZlWOhw9/FZYz3y14woYhz9kmXIYe8DF84L6TCw91wMDLo9ipnYIM7+ji+VmZC3RErXuWOiadzyNdEmhfo8LFvAXq97cD6Vv8XdZMx5GoCjjy8hmFG8LjqyoCkvTyhL94VB8QRTeNcv1yN0ph1N7b1w+YIIeJ3o3r0LPT6uFJZGFLG0GQ7Df6oLzbU1aGWKWHheIarrq1HAyoAH71CuXrRsLVRZrVCig3H5etTubMO+fW1ojXy3FW3v7EPbm3WoWJWOIqZAg4mcunmcRCJfnASHdrcnHfQq3090JFV6hgdxSVpBdruUq+HRKP2Q1FehGMMefPQxu1mWBYVPSoqYknOdkXvs6hvfNRIe6VGtvFSPry+BB87k+SS8j9r/yoSCX1pZX+DAwcPcdDcB1wfQcZhlzPR8FKSMnDkejPhcwn0c/YIZNjeZVrSljZGpNVXi2p50bFulsc9R1nfJvyvK/yvjPl9GFG6V01k2MnFIEARBTDomrTLm96sLJInOayHsvSQqIExR4grKaBCd079nwpXwVoFk+nW4Hc31NahskMygmOwSJ8Q9NF9QiDIHUw6/4a85yH1UODFCVjbmcgXSd4WJJAzZVHHoLNyyb9id8zjPldTsPNiklRu/T9y4NOfR+GE8+0EugPhw5Vvx/aRgzHnKnoc/8uyFsMpmmjLZJgjZ8s0VSYHVwbq5CXUb8zHtUi/aG2uwo7kTAzeZoP0ijxI5SqXw1gBaX6yEfX8/vLCggP1G6/bSSEhwnV4S3ORjRupAEiMolZSRIAujRoOJXOc56VoFfKVB1UxL0xG/kjECX1FQ+462g698xhI6dRwDfMF8OlPNz/XCkSCcP1+tkP2Q1CPlcfPXfRi4xa59qgwFsfWLw1dTpHtoXh0a6oFd5VnijhgTuKggMKmOd52CkhVROFscUffSP1aO2iIzhvqase3VZnT1ueG9JipyvgsD6H3Xjsq6TrizbCjbXobcJPUuHLoZrQgmOtLcEDn0+UfCxJJ1CZ9k8aH3kIs9U4zSnkIZ0k1XXKs4kq9gclT84aT0f+dzw8k3bT/Riy6+WTRr92KvmwmUQWfS6ScIgiCIu82kNVPkPmJqipfJZBI+Gw1Jzd2UyKZvcddJZjlDMSZn153ofIsJ40Nh6GZaYF26GIuNV9DDAz9kK8xNEt43PeLNAtVNbqIZMVWRTRUtz7SgdqUhYp6nNIGJN3WJRzY5ik9PZklabknzVM4XDWaKsomR+LE6yrJMg3TMFL3Hu+GfV4Q8iyFKgIrat0oOVR50o+fwaQQsRSh/IsbsTXyXNqMrQ7ldaDCHStM8MZrEG2uLQm8i88TzOFDDFIIkoeDjTAPvuNGxfS+cyEf1K0Z8yCdXYkyAtZqO+Y82svrLl0xjvs9JZtqWEJVnlbc5UNtfTeuGzWMgsrn4Vz74g5KyxCNTzrFg2Yo1KMo3J16BTbfOptMOFWbVtY1FuPImN1PXw7pxB6qUQUcSlKXc96QOSc9QLUs/el6zozfKioApSjOnsdosMuPBXJims1dzPvKfuI2eykyYKVJoe4IgiHuF+8pnTPbjGvEbSEBCAV9NGZN8q67rYdvcgPLlkhAtD8zKQTWp4qCdeOXHg87qVgyEuOnNJsSIYhIKQVb2fZPywa0yeHs+qEbriVD0vlYxyP4xPwhlTPKN8SbbuylOqA3C+4UHgRT7nY1aOLruRvfBbgwM+uNN/rJ0MD5agPUbSmFVmsjG7q+kRHWvpWhS+yupkYYyNiEk8MNJSIiV2Q5WZqz+b2pF1WN6eA/tQHNfAPol5Wh4Lk9ULFIJyNzv7/BbaO1jipghDxUN5bDFbrM1KmVMhVHcR9zPj2/KbIUp7TIfZ9JQPhJyfQB7dzIl/JYRhbVNKOUusjyA02usLtzSwVxUiZd+LZnpJvg9VWUs0sZ+jwA3Q792BVdmFqH0wZMZKMsEdVUtfXI6+Cbuly/B4w4hd20Jwh+SMkYQBHEvkWiucsLhChdXvPhKGIe/ji14B6DLNolRv7yXMJhk75y08J7GaR6F0Fo6oojddeZjvhCL4wr8gWgzmpFDsaIgmyp+dR7uYQ/OX2B/K0wUOfMtYnCPK0MBlXuJh3Y/Hok7bnTWbMGWykb0XpXOTRDh2PI3zMV8bj52zY/rTCFRe9741YVLOPZeBzoOuZJGeRNMnGbOgD6d1saE68a6vXBcmYH88jq0tHK/L9GMra21RYjYabziwN46lpdK8zmmpCX0mZLSn3CvInakr4iNDi7kchM6rkdnFi7MxpvmaSbsg2O3qIjxQC7lTBHjWNZWYn0O9xPswPaGTjivJTeV41tCdDZsFxQx3bxC1KopYhPMpT5Wd9/rhkuxlcUPhcDne1HDzSNv6ZkitUNUxDh6Gyrqq1DA+jrfsVY0H/bGm5GrEBUF8QUe8p+bcTIF/b1DONTngf/WTenKJFzuR8f+DvTEbnmSBjyYUFw6XmvG3veP4fSgF36VCK8EQRDE5GbSKmMcrnhxk0TBj4K9jkURE7DkYyVXOEID+OiTGFEt6INvNEIJG4SFoVWni1LEAl9fgobhOUPokLeU+3YF4Tg4EoI9MQYsyzODByg4/7EL50NM2c2zRa0Y6JYsg5XVjuCnBzOnOHnPQvCjZwLv2S/vRpBqM+YK1nuX4OE+cRIhVzu64pQAC5Yt5WZLbnQf4D4lmcO6oQUtb1SjgPvuacTT54Bv2IzS7dUotZmjNu7lvmNmWymqt5fCPMyUByYMEsnQYcZMpmzOTOU7E8LA243oHgzBYCvDjucUgVyyTCh4uQFVT7BWcu0KAsOJ7xQe7ML21zowcG0acp+uxs5XS2GZZIrYDx3j8kIsY/19+eu7UBGrBRusWF/fCvvL1ahea0laJ0yrtkUF7BCON0cmRva9xdt2HasXGjxW/9UD5yknXL7vpBNqSIFFagqjV3CtZfHpkALxjKSjGoVJ+5gQvH1d6DjsZPVXOkUQBEFMOJPWTHHcuNqLxp098IV1MD22HmVPzcXvzx3Hhx8NwJ9ThtaqfOglkxBNZop3XGh/tR2ukB65RWUozQPOH+1GD1c2+ICXnXkzRTlEtuGJKjSss0orVCG49tej/VQQuux8lDyzEstmhXHl3El0f+SC5cVWlPEoiDKRMP3s72F1kxa+x1X9u04EHzAhf80zWJlnRPgbF04e7oHrkcpIqGv19KjBhYEeHL85HyW/zoNR41TA6M0UFd+dbkbBUysxw+tA75mbyDZPgc8XjDE/YuX7RhN6LodhWFCIdU8XIFcXwHnnJ/jo+O+x+vXamOAL6Zq/aUc0E52FUiboFaoFfOBIZXhdNey4CmqmTmkgm3aOipg8UjX/yghjLJOQD+7L05CzwJhCcWMkzM8wPMf7WZ0sjARfSUha5oXSs0nv0iU2nWPxLYq0q1Ehm7OO7XkyWnfG2DYEUpVlJn5DAwnL9UInqvcMCBNN5jU80FDyWKwEQRDE3eH+U8Y4QQ8cH3bj2NdDCAbD0BlMMD+ah9VPF4v+NwkFfDWfMb7Q04+O93uYEMeGuekGZOcUofSZGeiv6YgWChPeN01CLnQ2dmDgehiWZ5pQu1IeVPm+Uj3o+vQ0vFeDCP1BB8OMbMxdWoQ1T9lgjtKSRvZcS+YQz82ten5zDKe/YXl1i+cVe765y1C0phg2s7TSkDA9mWEsyhiGA3C+345DZ3wI3tFBP8+K4v9YBuvgLnVlgPv5fHoIPSc88F0LIvyAHoZZ2chdUYKSFbkwRpnxScJkMj8zJXLgDS1wM8WGHvim56JwQymKcrIj3+XBPIYGj6H7oAOeW2aU1NdpE6bHKAxGBRFJlxh/O7lMk/kkKtHuy5ZmmYwluEUmhOu0lDGVwB1pEJuHotDOQ6DXoihl8qdg2nTW3uUJlIwEYhnj82jee04Dd6Mspd9I5rOpZLTPl1AZ42bidXsxcJv1GdsVe0cSBEEQE8r9qYwRREZIc2Y/XSV8NAE8kpEJgTNDpLuyoj3NaZbJWFY177oyllnSW+kc3QraPcNdVMa0MtqVv7GseBIEQRB3H1LGJgNaZ5nvQohqYnKiGto+XcKsnrGbjC5iIhGHuws1H5zFnF/Wonq0q8HX+tG6+yiuLtqElg20Ne89jRzdcLTtM0NM6iiZBEEQRBykjE0CNK8SjGUWnyAIgiAIgiCISQUpYwRBEARBEARBEBPApA5tTxAEQRAEQRAE8UOFlDGCIAiCIAiCIIgJgJQxgiAIgiAIgiCICYCUMYIgCIIgCIIgiAmAlDGCIAiCIAiCIIgJgJQxgiAIgiAIgiCICYCUMYIgCIIgCIIgiAmAlDGCIAiCIAiCIIgJgJQxgiAIgiAIgiCICYCUMYIgCIIgCIIgiAmAlDGCIAiCIAiCIIgJgJQxgiAIgiAIgiCICYCUMYIgCIIgCIIgiAmAlDGCIAiCIAiCIIgJgJQxgiAIgiAIgiCICYCUMYIgCIIgCIIgiAmAlDGCIAiCIAiCIIgJgJQxgiAIgiAIgiCICYCUMYIgCIIgCIIgiAmAlDGCIAiCIAiCIIgJgJQxgiAIgiAIgiCICYCUMYIgCIIgCIIgiAmAlLEfPAH076lBzaut6L8mnfqhcieEYDCIUFh6P1oydZ84fOjf34GOj9wISmdGQ9DrhPMLN/x3pBOjYdyeMQy/m6fPO6ZnJAgiCZf70cH6kp5z91Aru+OH+wvWN3jHmOYbXta/OOG9Ib0fBb7PWD+8vwfue76TkvvbMY4H40IQXl7ek2kskOqg++roB76MjL/jRhDuj3jd7mfSxhgIS/LBpHzGHyakjP3gCSN0I4jgjZsIDUun7iWGWfpZp8A7BtXj1kin6u/bhZqaGnS6pROjJFP3iScAzynWkbuu4DvpjIDU8SU9FM95qY91tu91wxUnjKTIq2AIYakOpPeM2suAP6PrEE/fMVySzsQR9GHg8F40vlqDyhe2YMsW8ah8pQb2lg70ugLsFwnih4nrXV7f7egdkk6Mhn/1wMn6EpcvqicZH1ztQvu0H/VLJ0YI31LpD2KOyITPDRe632N9Q1/CniEhYp61w8XffHOM9S8dOPaN8JEq4RD/7ZH+LpbAIOuHT7lwJSSduGeR+1u18UAbvAzHR+i+hGO8vJONBXcB/1H7SHuT6mA3G2NGS+Lxdyz40VuvqOOj5jtccfG67WE1Ywy4OwX5YFdffJv/4RGC+3AzaiolWeSlZjjG0jePkh/9O0P6m5hs+HrR+PZx/PSXtaheaZROpgtv5Hb0DJlQ0mBHcbZ0eoIJfNGNnq9nYOWaQlj00kk1hnphr+9hT5EAcwma6orBc4d3uvYjftgq9qHCJn4cxXAAzg870HPKiwAbfHTTzbA+tQFlqyxQJiHlfRTI1yZHznsX2nlnm10Ce0MxOyvBhZ32FF2w4jtcMGk/o1ae0v2ld/GMfCedZ0x536jnkeubDRX7KhB765CrA/XvOhF8wATrynystNkw1/hj9slNXP3yPAY+Py7MnOvmlWDHq+yeo54u8qF351s4rl+N2pcLhPoxPmTmd8JfdGD7YQ8Wb2zBeqt0kvhBkrj9qqOtj1GwpAL7nk/ZqAUh/HayCbqsaTBM10X6J9PTLB2rI70WQ27r0tsERPoYuS9XS991JzrbOjHAVyx0BtYvv4Dy1SP9sphnUp8ipSdZ35Uqj9Mtg8nL2Mb38Km9qNzvZmVtRfmeKuRNlT7ICPK4oT4WZIyQF70d76DXHUQ4SwfT8jJUPpsHozR2iO0HYv5ArIOIq8tq8EnI2/heeidz/v0adJ4zonBrLYpibjFlqgF6ZR7yidbbsXdQMIW1MT1rYynGzdR9gFz+ye8TvuZE94FDGLjI8go66OflYf2WMuTNki6QSdjm7zIZkYGTE2kD5kJUP1+AHw8FYVxkgUH6/G5BythkJiMNYmyd9bgQ7EdzTRe8/O/lVdi3eRTSp7cbNc0OBBXfT65g+OHY2YTuy2EYbSUoXqLDFUcv+i+HoGf32MXuwbtE4cp0FBVu7ndnpLNV76inYNp0PXRZCZSxGEYvSGi7PyetZ0yEXAaLytDy7ELp5FUca2mF45rKYMDKvbW2C56Z+aiuK0NuAiU80NeMHYe80D9Ri9YNFulsumjPi7GRmd/JSHkQkwqxnUpvNKPSrmP6GM6VI/XYeyIEPFwK+5Zl+Kl0XiAi4CVDgyIl12mt41AyZYuT6PM7bnRs3wtnyIi8tcWYca4bjsEQzGvsqHtK/D0xL0kZi2eM4/uFLtS81Y/g9AJUN69HbkZtpe6GMsaev5E9v0+P3KJSWIO96D4ViBrTxb51NMqYnH7txLURqa4mJNIWkitR4jOEVRVAEVnGSHIf1v4aG3rggxG2XxVjIc6j92MXAjCjpL4uuu5MFmXsLqTDvX8L9p5STBpNEGSmSNx9DDlYPI91k1kG5P18dMK2z+US7NCtC3LEEwoipjMK87nwqW5BETOttqOpohj5SwuxfnsTym16hE51sc5cujBdpuphMBgihygD6aCfMXLOYOCdpHC1BsKSychNBDJqBpF55DLAOdGkQTy4IiZ8HM8lDzzDbMDKL0yoiHGMq4qEQSQ06GFDFEHcm1g3tqClJd1jGwpnSzeQielj8M1H6BpgihjvUy724kPnTSaIKfqblIoYx4Tihn3Yt0/tsKNkNApKKCSaX9+8mZaPkL+vG85betiet6N8VT5Kt24Tft93pAeue9G0/l5iwXq0vMPKvCXTithdwtUjjN2mp7ehem0+CjfbUbGEj+lMoR+zqRlXaGLbRhvKhLlfAwprYz/bF68w2JiyFXONcNQWCisvev008TpNxMoVyiOVjBGG8zBTxIZZu3+tCRWr85G/ugJNrxXDNOxDz2HnfesaEJ4kDz5Fer2/4D4rHx+Ew+WDn40a+pnZyFmxGqVFNhhjx7HhIHwDR3Gw7yx81/jFBmTnrMTqNYWwzZYudneieu8AQg+zjq2mIHp5844Te1/ugPsn+ah6swxWTR2eG1017egPirXEf8SOLUf4X9GzX+FrLjg+Oorjg0MIsrHZMNuMxas2YHW+GYZUv3O1F42vs8b5ExvKGyqQJyc66IGDNdoBN8sb+Z5PlaN0uTGycqScrdiW40bnf2GDpuAQq4PBWowXyouTmx6y5yjc3oZC6V3asLQf6AsA01nnmxcveLg/YErBB+yPyGoF64i+EE0xin+p7Cz1yGOdUo/LgdOnvCg1j3YVJoPcceHsV/yPEFxON8oW8J4//Rm6cedGP2sTrAz0bMB6owK2iGlGkhl301xWFi74v3Ij8JQpYkYSS9h9HoP8jwdN7Pr0cR+sQfsJbobBGOqBfUuPcD5qdi1VPb/A2vQe1qZnFaK2sRQWKa1hVve3sbrP23r5g0fRmep3UnGtH63N3fBIEweu9i3YIvylnNkMI8DqaPcnxzF4NYhQlgEm82IU/sfVyJ83SmMK1q95Pj2I7r5BDN1gGcCEeWO2yj2F6w6h54QbviGeUSaYbcUoX5cX01eyNJ7qQjsb1H2835pqhGV5CYr0PWj/RBfVb8mrgHH5JK+cRNqtDL93D7o+PY1Bn9wHF6H0GabUR5KqmBF+pxThDztw6HMvhC50qgn5z1aibGm8mUtw0IGDh4/h0lAQwWGm9MzKjunvtPy2Ojp2bVzvpDRbks0AU8H9Zm8N4YrzJHr6BuC9EYZhQSnqXliGm4d3o/1QIyqPmGD7ZSEKFi3E3Gx5UujuEpmcuXgSp28UoHDmSFknJojBr9jn+nwU2OREm/B4gQU9Hw7iPOsIbAuk03cdP3pes6P3mhHF9U0omSOdhhfdrzbDcSN2Nj2Mgb2V6HTHXK9V3lCMq1vN/dj9Xr8QJMLyTAtqV/LKptbG8kfVR0aQfjPatFWx2l+by8bTTjZG+gX/O91MNoY+V47ih2MGeN5PfHIAH346CD/ry0QXgFyEeb+polBzc7me3xzD6a99Yrubk4OitRtQmCM2Ks8H1Wg9EYJxVS2a1snjchiud7eh/Uwokiee/85HCgsKVsi5oINthQ36MwM4fyHI+pwUjTRdmOzhEPysgxg45kRxRV6Ui4NWwkN+oa1YHoxUqvGFyaGnz7HXJSWKesyYw94v6WV5ehrOO3nIH62ZqhY5maNa3zixq6jaZODEaBkz2W+8wn7jlvhOHnvTGr8ziCbVYKI4efIk7HbufLlFeOXvxwxXQrY3MiEqgBnLy1H3+laULvge7iPt2PF/dsLN5I0Iw2yAf2M7Gj/oR2DmMpRvb8LWNQvx/TkmYLCBv1O++NHFsPEWefE8zsc6wn51Fm7WGel/vlijIsbJQclrO1G9ShQejKuq42ZNue/N9vp29Jz7HgvXbEXT9nIsmxlA/weNqN/DOvFkM4rDbDBp47MketjKykYUsRBrEA2t6HYGYZbvOWMI/ft3oFnFefvmqTbsaOlmVToHecttsBjCCLp7sPcDF2sK48T1Aex9ky+1G1DwXJnqbB4fIIXZp4hAdwmXuE2kZSFyYzsbsxU5rOyCrHMce5qDfFKYMfpVLf9ve1l90UM/nRXHqY/Qe5WftaJMMXtetki4NDGCYiA5o8YcvB8cM6yedOzsgleqPyOKWAqyi7HlaTNrJ91M2O6E44JP4TjOBM5rXjgPt2L720wJms465Y3Kzlo7OWtew86XC0X/rdmFqJbybdsqqYPVUs8XrEfZElYxrjNh/bdy3ffD8RFTxNidC9cWwJbqd7RgzMeW+p2RMh1ZTSljpc5hSvn+7djR3gP3nYUo3dqEus3LMIMpcZ0769F6PJmgmxjPQfbdQy5cNxeiso71a8+I9+z+xMN+UYb99nv8OieCD5Vi6+t1KF8+A0OfdWBHc6+ij5HSuH8AvttG2J4uQ+kT2bj9eQdTxMbkRi7gP9rM7u2A9ydyH5yL265utDawwVvZXwv40F2/Ax2fB2C05iHPaoLujh8D77XFBczwH21EzW7uiD8Hy56tRd3WUixk3+8/4oBP6gzS++0EhANwHmT3eYm1wcrqkVXkVypZm6xE9c52OAYFNSYePpn3IrumphGtR84ibClGRX0bWli9M081wLrBjtY3alH2xCwE+rvQ2liDavYbYws+dFtsl9P10eaPyQg5cfQknyBjfRf3o2R1i2ePadU2qT6zY6vUVqK4iiu8j7PMx3zxhIBh3nzWw4fgZ0py+vhxRbB08LN+XyxIbpYY1Q9qMh81IYcPDjzwkrJ8hjxwS/374H/3iH8IDMLDJ9L0OciRBd505A2J8FedqH+7H989aGP114qFD/MBOlEb68HAmFeAEhAcQNtrzehmdSknLw82iwHhG270vN0Jl1LOkeSk1iNu+LPMKFhXhmKrDpcOOwTZJw6WJ831HXB881Ms21yHJtbucm+70L27no1PYobksntwmSrw6cGRdjvkQA9TxDCrEOue4HkSxBCfSZs5H3OVOherS1x9G/pWGDwzRtjnQOubrN/LssBm1QsyWNMHbqZMShekgdvNG6gR84WyvQt4LwluIZZHlK1MZP4jPLe8oow0GrTKyWmRWgZOjNYxk/2Gytib1vidQSatMsYVr/fffx9+v5hx/JW/H5tCFoTj75kgz/pn67MNqF5rg3m2Bfmb7NjKC/3aADr+60jnGvy0Az2X+cVlaHi5FDazEZYVZbDzQWU4gIH93YLZFV9xWfxz3mm7cfZMtEgvztywYl+Ujl+UDnqDATOk6U2dfkb0UvSwG92dTEAa5r5JdpStsMBotqH05QZhCT002IXOzxINYlzA2gvHdaaHPL0NFYIWyQnDuZ8JGIK5yA6UR+65TZiF8H3cDWeMohm6FoJlUxPa6qtQvrkCtdtLwURt1kmdFVc2MgmfeTvaipo6PoAZkPd8A9ZrnjFlwgXvD2awfBRPKJgBIz8ZYAqUeGL03PHgvNChhXDenX7PFnK1YxdXBh4uQUNNCctLH3rebIWDCRa8PsgmCYlnvZVKW7XUacUoculUQxWCg71ofa0dzqAeuc+w+oPOKCGHR61K5odiWl3HhLJSWKe60LOnEdVcQBW+xwRONvB3fMaE6BXlaOKrbXLVTBO+ImGYwdoKf5Olxww53wSlUWs918G2kaWTtTffkW5wqzBu6sqfTb/iWZSy8Sv572gkS2zrcpnqIuZm0n3d3eg8xdoyE0C21pch32KE2VaK6ga+yh6C5x860Z+24u/GAH8g2LD+hWLk8n5tKbtncxt2lY/M9IZPMWWKCT/6JRXYsTkfltlm2NZWYxufNfT1MGVW6usuSGnU21C+yy6YwBSurYJ9VxXyZoqXjBpfN9qOsAZgLsG2SB9cjh1/a4P+FhPgPom1Lw4gMLUQtbtaUFtRjvIqlp7H+BP5cVYZQe1CJ3bx++4lGa4AADDbSURBVPI0N1SjdKkFZks+yupb0Vq/Hhae+Wn/tgpcUGlmyuFnQzA+UYG6lla0yaZKb7WiqXY9rDGCaBRT81DB2m1rG7++BXXPF8M2R6osErqZbAxj+V3X0sbu24bWlqb0gsAEmYAdFSZfmkyK6S/DoZtShMSYKIX8GXd3MOVUj/znmpjCzgTVM+2ioKpTmFjKbSUKqW+eGvOZXlQEvR/WCP1DWr53TGE4L5lKu13ixGCsyWjKCS2J3D8XzeC9X4/EAwwzwdbPUqtjCQ597WV/S1xlAi/Pl4himZ68IRO46MWsp+1oqa1g9bcKxXxQHc82lohQACFLGZr22FG1uRwVta+hdB4/78JZxQAf/KxTlJOyi2FvrsX6Vfko3lyLFm5RIF0zgk+cCOZ+Sq+wdmczw8jaXfn/Uc76eyabHOplnzGm2lC2jlVibkJ3aICNqKKZnZ/1TvnPypYK3yHEVzVY3Yky9pPqUuhEq1B3kq/MpiZ83QPHu3ZUNzJ5D7ko3b4VFS82oGqFEYETe1FT24yuUz7t28Tc6McxPik6y4ZlvGyjCI9ELo6KUsxhn92UPlM5kv7+v4VYHrIm/cfxEpDhj2ew/0MY2KMYx9OYtdUsJ6dFChk4GZrHTPWxN63xO4NMWmWsr69P+iuaROc1MXQSA5fZqz4fK9mAocSyqkBUJAb6JTt1P06e4N0Ca/wr86OXoi1FKOCd0q0B9H8pnrIuYQM0exVnPGQ8cPKZnCzW6H4mncoEX7Ln4C1rXgGKonq7kbR6+0+ODBIKQny2mqeJCRjlyqXYaw4c48vY84qxQSkFZ5mQl8euYwogNxmJYkkZqh5TzHXOtGIhVwDY4HwlI3uasc7HxzrCg82oeakGrUc8uD2bddyNLYKvl3bYwCkoseq9lSBYsAYptclREzpzWpwJZL8V/Pyk+qygGmFR0dzBOkBhRejFAhjYwFa7nSlkTMHrbqyG/d1eeGRZKSFi5yJ2WjOgF1q38txIx5Mu4atOdDXXoGZ3Dzx3zCjcyoSLlaxesA5YKeSMKIGJMeQUomK7KJS2vTnyXVHgbELthlgTuAySTj1n/UTpr8Rz3f+1Fz1HWNvOsqL0P+RKF4w/rs+5IMKa65NFEVNJAbkPG/ai//N0hQ2mOPLxl4k98sqBAFMMuYApEoCjj/dlZhSvE/s2GVNenrDi7L4gZpTrhJhG06oS5Ckv1M+CaYwDm7vPwVLC+rU1xVGRNfVLliGHvQ9cOB8ziWJCyXNMWFOkw/qoKFD7hkZmCeQ0m1dviE4zV46lNKf/2yoMOoTJFMPKKlEYl5VsDhMaRUG0jIl4TBDtcwqmSyNw0x1xy4dqOexyyoOvolWjkv2tWZ4KXYFLGSb/ml98rpHKIBDoa5VW9XZF/EJ5v9DBzUO5zvr0NpQt0MO6qYEpZAaFoDp6qwN5Rlyr8sTx9vE9loww8n7o3DFB8BImTkbTD87PFRUKaWWBMzjI2oU+DwW8/Q2x89IkZXBQDCdusS4UyzgteUMBEyI3xZhJjWcbSwxTiF7MV5iTG2C1iuO9/1u55jM5qV/MGduakujot7OMELoZJaw8+ESwfvkaFCvN5Vh+LuOTq0zxkRVp/WOlou8iE667P+lBD++3raUo1ToJywNLsbojr66kS+jzdiZ3sPbHxqruc9/B/ASfJGTjm5mVbhbLi41NwsSibTrfP7SRtVHW9hq5opkcz9EeQWm3FBYJdSAaNzrllfMWR4wMx/rk3dJnKoem1XC1wI7SOdsmxTi+UetsTnpycqaIXenmh7z1RibGzGT3Hy+USZ1UyCtisSQ6rwVxRothmS8MplHMnI9cPsM0fAmX+P4ld7y4JIzdFsx/hL8qMbBz4gzDpYtSFy2bKrIBOiKEe5lgx2uFbRlsGcxp70Vxls7wCDfliIGdEwYPxSAhE/b1Yvf7vMUygeV5pU8G49srQiditFrj7mmaIxro+nyp816ctWCtW6sikoLBT/ah+/MhzGACfNn2FrQ1qIRhTUk2TA+yl2+uRAbUCKycBcXxwbkqJjRpMMyUpsMsb6fno+JZvjw5gO6PtdTVMNwf1AuK5pQFJah9fWRFSGcuRl1rE8ofy8Z3LHVRphix8IhrUTNl8r5yN+ERNt50wnG4YxQbxYozZpUNHehn7cLCB6TWOpRKtv1MyokSckaUQG2MrASNXlFMizTruempMhSy+hY60SMIEaZflSI/asQZT2TTEQNyLfGFnyOYl7A+0etNU9i1oGiNlQ2cAfQz5Zkr+q5rsXfwiaZesxfCGjvznm1iLYrB2pOf/RNNwphwsiBagBw77N7CXlI5yH1UODFCVjbmcmHbJ5ZnUmTP6IindvJ8FcnQbzOFi//89/93QBAQVGGfCdbNP9FFz/DHrGpHHZKwNGK+E3+MehX8egCsqsM0O7qj5b4UYgACyWdjqBfNr3fAecMkrIjVyQoED8y0maVhawms+jD0s01JJrpYXvJ7sbyM6i2l9+aHc9PrG1iaDn7KFIV5BajezM0ifeh+rz9GyU0DQw4W8vTd8MAjKAleePgcBJMhiiy8/bExXvDxZbLA17xSMdlA8klJS95Q8tD8GCF9PNtYmjwgFsT38sTmMOsnBDnJioWx7UQFv09sMTmPxlfO7Af5s7H7fSu+ZzUOxZt4GbIx6CM+McLklnVKgd8kjutDrB0q5Y2rYrs0PWQR6o68upIu+iUFWP3LMlTVNqHtrRbVSUJhYrG+DW1sTKx+rgTFT61UUbBG4NYv+3gU1OxilAmmlrFwnylp5VzhN8sDj4ltj59nSi8/yf2u5HPsSBoJkMk3PF2XvomTgOD9hsuTZsx9WDGOa/Fl5aQrJ2eI+avKUf5c9FFq4xJcZsbMxPcfPzKoImQWk0m900l0XguBG3yIYcSaRAhMk2ZEg9xijXW+N4UBiYmLqsuW0/SiNT3fTFlANlVULOHLDs22paPzfUnEzRvi0PJTtUg8kWe7zq4T/pDwo/fveqROS/R9UVZG/1Vx1jhwVPTRizoy4mg0GnSwbdrFOsJd2LqpCDaFM64QMVG5jH/DC9/sYtS+odYpGbFwAWtINwZwMmb2KHjiOBtO2VCiEpVRO9z0cx8GbrH7rC2Fjc/osZ7Pf3QX2r9IJQboYP2bragV/EBUAp/ojMjbVIeW50fMx8SOgv2OUkg+p4xoyI9WOG6yTnVmAGcPH8Khj4/jEk/KVBOMcdOVydAj/+n1KNxYi5bYASlqs2puSML5Keba8pC3PFeh3Ioz/HH1SuvxbubqX9r1PMuCXMFvhJOLQr4aeNeQfQ9/yq224tBNkwpiFCa2huVVaOCzukzQ9J/pQftrlUzh7oJbrq5Dfgg5da1Xxf+QO1rLDMEvCKnqaRwbQ5Kg50KHYnNw8UhuDpuc5PkqkqHfthRjA4/uxvfXa+6C4wsPfFKbCXjdGDjaDvtO7odiRsna/JhxSVrVnj4trUhbU6aJAtWoJzcWlGFXqwbfCSZQVrzK+oVWu2pwFENOMaoa6lAiyj9MAbGhlAs2q5R+KyZYHmGFcO18xA+L4/5K0HiQG+/ikhhuLvkeH+NYn/VrJsRbSrCez4Rf7MJbh7yJleGkmJBr5eOOjwmUrIe7xpQylk7zwzkwMCWL55AoaEpCoH4hrNLzpiVvJGU829gYuRYQ+wleVzWs0A19K6rcrvdi21QCc8KHcgWfbgGm+BQIs0AjiP5Okq+eRPArvmKth8Uyhr5a2E5iDhavWCjsg3k7xebmt7+fgTk5y7CMKSQjY2EMV3uxm41lId7Wt8SsIo43sxcidxZL26mT0SaDwx6cFEz6ckWrpnRJV07OEAYLkzGWRh9WwXw7M2Nm4vuPH5M2muKqVasEH7FY+PnRYpzJZ/pYg09mrsY0akFYnTkD0tXi+diG8wfxHgZ2nYxgqvj5gOgvtGAazp9jxZ1pE0XGjJl8cAgi/AfxfRSRZ5vFrpP+lGHPYd1Ui/m/bUbPmU50XbChTFrylxU7PtNa+0v1CD98Q8O7zlQddEO9aIraG4Qpky1MIIIi6to3x9DxHt97Jg8Vsc/NMD9VDGtfJwb2t8L0UiUK57EcdHWh+bBPMAtZrRKVURshuD9oEkw/dYuYoCH4p+hRvLUCV15jQut729F4pRIv/To3cYRLvVmhhIURvNCPo32ncZZJg0EpmpDQ2c00IvshK1Y+XcI6h5j0Lq3AvqXS3xrwazFpkLEUCD5SAsMBuP9bF7o/F6NmxaKbZUXBM+tRvkgpnIkz/Bukd1H4j6F5twOBqL3KYpiSTvjf5KRdz1nd6/6ciXHcZCvsQfd/9SB/490yU5zB+iz2ciMc7aMjI5ucsA5rNHN2wqxuQ6Fgatb9913ov9yPvQ1hVLfwPeAkPwwemKSmCKo5xaMB4pI46IUSpHFMMIFVuDevP5ugXjumxKwmaUHO1+9EfyVVMvXb3DdxF5pcDvT0OXHs/X50RywWeJvOhmVlGcoL82FO1L1ec2AXjzIpvVUimA7GWO5nYr8c1UiQKhjnyR0D444fzo97cPzcJQxdV/iwsPZkyJ6LxXmsn30iD4aYG+c+lg/jCQdTpHqR+3IxZlxgYxNvc9bHR4JLpSLkRfee3YJJqGguyU/q2Hi3DSXfsrGirxn135ag/G+LU0bBjMXyMNMI+1zwei+x3vkSU8sMKMxhLS47F9aZPXBw80SmLHElDdaRQCRpyRtJkevieLSxMSL3EwxVOSmGaeKDCD58mxLIRcru3v+J6K8rdL+D3ei+kB+RWTiGZY/D+g9sXD/YicWvliHnZi/eOSqO6Y+PYX7V37drDL5mckTAEYIs7W/tcQh1J+/5rdEmmncFM4p/ZYXjwAD2vTMf257jUTh5YCN5Erk46YpeQkYhJ48v4ztmjid3UzdPi8cffxzPPvtsZCWMv/L3/Pxo0T0kmaKxzjPObTY4KJkhzMfch9jLVItoisJnXWQfkghBDA6KevX8hxSDkWSqGHR74Gf3O8+njDJsosixPCR294HBQWHlLQr2bEJyZ8+FJWamgjvilz9mQfEzfKk/hIEPeyMDvBi9it1z6DqmyUvVMYeWmS9t8A2YK7HlhRp0aA5Jxhp7xIFcNsFTIDcy+TUWfT4qZB8s/ttbKlHTPoDAdKaQvjISujwt7njR07ANe0+wumAuwY4XFGFu9axDrq8SZvJ8x/bhIPfTS4kYBahmTzfOhkxM6apEnWx29PpWlK+yQu/vR0dDNRo/STRQBOH+iJsjcr+JTONH784d2Nt3BTMeK48ORtDWipa6ChTMvgLH2zti0ifN8KsdslN/nLmj4sig/WJ69TyI/ve5EGxCyfatkrnih+jJbJCuJLA+iPdFiInmJuFh7Z/DBeKx5JBuTh7Wb28QnfNvueDktzXMxXw+qF3z4zoXplXySTRlmYO5gmARwJVv1IVOzTChNfoOTLAVutcr8AdUfl841FYdUmEWzZtY+Xq88fkqksnf1sHItwOosaPlLaYoLeHneIjmNrS+UYeqtUkUMQ4PjKAwR0p4pKGBhUOKmf2b4kz+dz53lDlzx95G1LzaJVgOpIRHDXzFjo7jQ9AvKkL51qaIuWTdC2uw0hTC2cNMcdzOA31I35GxlKJyjRnhiz1orNyCmrdZv2zIQ0V5jA9KQgLo39sMx+UwjCuqsFXpb5VlQnFtHUoXGNgQfxZeKYx1Wjy6ENyoLvSNFwNeL7snqxtCu7SIdcR3CYMXRdO4iL8YIy15IykZbGOZxpANk1BIlySz3uTMF0w7WasaCqi0J/GIdPc3+tHJTf2z2dgqROLkMgvrj5VjPxvXy59nCv6NAeyt2YLKxh54w2aUVI5yTJeIMguMOUbar/rn+5SKGI+kesCO7buZIvaAGYWvNKTp7x7TVhXtlZvO8vbq/MKBbt5e25vRcSLxCpSejdlVT5gQPtcJOw+c9ZIdnefCMD1RJU0ij4LRyMlqJJiwSJ+7M2aOB5NWGeNwxYuHtOcVnL+ORRETmLNSdCgMDcDBZ94UeH/rgGBl8NjjyBNyhQnDT/C5AtYB9IkOgRG8x+C4yF5ZR/C40DAlZFPFobNw9p8X7jcWE0VxZo0NkqHbwmuEJY+LfisXHTjGfyTCSFrNT6xkT6DEhMKnJUf8BaUo5aPLUA86j0sV1rIMy/jPubvTUpBGBRuIzvLoO8NBOP856gGSMuJAHr+xsGjWwrqErxKLDoIP1lttaKplnc9z5aiuY8pESwXyxWxOH9YRrSzIYXldhZbt0U7+AgYr1jfwiGlbUbZUQ2fn60X3qSDT48rRUFuO4hW5TEiTBqnZFlhXlaKqfgeKs8NChL/Y6JYi3+GKi3XQp0Rn8kTIIafT8iu5IAYjMK99LT4YAVemhKiEYsQt3zFHvAAyVu5w52Y2iDAlng8iSZFm7Li5SVTrSaOeh10H0cPauX5JCQrnWFAiBLLg5r4jkxgJfydNxNVu9pu3o58r73EpII/jmBipTYb3YUIUH7Nijx2tBOH6LDYk8zTo/0j6U8CCZYLpmRvdB8Qw5eoYsNgmzqm6BwbYnRUEfbiiouuYzOL1/kGF6Rg3MWP5Gl1ndchbyitoEI6DylD6Y4Xd93GxL/R9cjBGOQgjcJkHnBiv3x4FfP+1GJMu1SMNc/LB3yhMmvnKNDt3++tjOHT4EI5xU8oAq4fT52Pl6mWYK34lCWE4/xuPGsgUn+12plwWwmoxRoRr8wIxul4Dj0IZdKpGoTQ9VSeE6K/iZowv29HWzKPrSR+mxIiCqjpUb29B00buCxmDjgnBL7egbU/t6FYkpuZgPq+y357FyW9YZbHkYr7U11utvI54cbyfP9OIv5hAWvJGMtJvY3ePXCmSdBADn0f3+GHfFcmEcQTdkmVChNogD1mfdFIrDNchHuhCD9uaQpgsJSjlW42wttAR2WpEhI+XLXvsqOZ150VuNls3AStPKoQ96HqNb7Phx7QFJajeWYfS2P3ZNBDVVuX2ysfbG2eF9nro47Niv/mni7Fs/o+F76ijF7bCaONBsl7krg7VqGtthX2DSpvRTJpysuS7Bq9HMZ5xN48uhen7CAll4CSMz5g5/qTsBn5YGFD4n0rAg+G4369H62EXfNe8GDhgx26+ga0hTwynKmF4shwl8/jFnajf0w2XLwDviU7YeWPgTsplYuhrJWJURR96P2FKwRhNFHWSTXrw80PoueCD94teOHl0Jh7RrSwPhiweXceOzhNeBHwudO+pFyLq6OaVoPzJZFOteuRvXC/MHHmPHIRTaEFmlFbyvGEN412eN054rwXhuzDA7luDypYxOEHHYihgHUEh8p4oRe3faNcGlA7kQpQlmau9+OiU2A2ETh1NHuo7SwejxSrYAOeaRzOrHo2BKWJ1rDNLvMk2/z2zts7ulhh+dsofGxNfnzVDNGsZZteqKmMamSquRGVw0Wn8ueaBMNnFlPiBz5zi7GAimKI8X3C8H8ChI0y49DrRe4oLTBrr+TAbSD/g9v2iEsazSWfbgJKH2R88rLssXCX8nfQQTKEY7o874PT54OnrF/23rKUoW87a8nUHdjd0YsAbgI/vc1XfCfewDuY15cLmuukQPnMQHQelSHd93IfJB9fhNmE/IcxmA6dk3mP+daXQ//Ew5bz/c7LfDvo8GOArHJXNkXZmeHKDGEHzYhdeF/pJnn7WT6qtgnBypGBHg51oau9lg3gXmmu52bE5ZgKJ5fnyclTw52d53iTtTRdkfbab35/vp3VBujBNdLYyMV9vudBe34pulw8BVnbde7Zjx8429DBJeUy/zTc3VVOY2CGGafejp17982ifvBGSBetQHlomWKybY2fzpcimb4iHvaYC5ZvXo3iFRVhJTo4Unp6bCP2xcEIV/cwZgl9E6LYUtTEGHqLfyv0zFphSh6+ORW9GbooN0HVTR9vZGZHLAxYN+8DjTxhzciJ5Io7RIfguM/lB4S8mkp68kQxBFuFSrNY2dhex8j3BprNyPdEG+4EBeH3SfpHcF1K6JsLUPHEli8lIPTuZ7CL0P0yuOudAZ30lqj+QFLoLXejk1iQPl2CDsBm4DrZ1JYLMIm81EsVUE3J53VnE6utkGdN0uSjdtB6lW1mbejl981gZtbYqWKJIbbWloRYVm5lyxSdB5mgw2uabhS/iflC5MGdAAEhLTp5tw2JhvOzH3je64DjRy/rfbWgfnAWzyjiWUAZOxjiMmXeDB+x8yel+4o8ewV8+/gh+wgSQr1396P3Hf8LXtwx4tGgDqp4vxvyfSNdxfvRHeCT/cTyivwnf4Jfo/8dP8E+XbsLw53+FDS88j+KHlRdLzJ6Ka5+egu/37O/Fa/D/+sUYNPDpj8CafQNfX7iAM58NwPUvTPr53/OweI4OOtNirMz7M4SH/gVnTznwyacuBB4w4S/WvIgXNvxCEY72Fr7u78fgrT9C7soCPMI6TYFpD2HO7VMYGPRiMPQI/or7+ETlzQn84z/+I/7J/S+4pc9F4a/+Eo/M0uOBH7HvDv0OH/9uCJjzC/z1EuXzJfgtFfQPPorFC+djppa+4NbX6O8fZEJcAQr+H3z6Xvod5GKZ+Wv8/VvcNMGKsv/8F/jXf2LPdPpb/MmSX2DuKKd7bn3dj/7BWzD94q8xluKLZwi/+/h3GJqei4KVjyBqIYIzazaGz/Xj3JcuXPz9n+DPjDMx/ac6PMA/Gw4j9H+xfPivbej6ku/99Dcoe0wtSplcBkY8+sQC/PGdO7iT7AhnYeqPhV9IzZ+y9H3ZD+fp07h450/xv/1vM6BnAo7wbR7M46ob/5/9b+Pji3dgXl2O//BI3BPGI5Xtrbi6pMKMR7F00R8h4HZj6MePYmX+Q0hsOcva7qI/w42LHlw48xkG/vkSbmTNR56N5ZmGen7t4za8/99vQf/4f0LFMtm6fCoe+t+HWVv8Gt6vr+HP/vIXeFCX5Hekb2nC9Cj+POtbeC9ewP/v0wF8dfV/4U8Wsb5nhg4m20r8xZ+G4fedxcCxT/D//TIA3Zy/wH+oeAEbfyGnTTsPsLx+fNGfsOp4Cb87+ykcH/fjy//5e8xeshG1lYV4UPYkjun/Tjg+wT9+fg7/8r+mIfeXJfjLh43Q82t/NBOPrvgL/Nl33+Dy/ziHfscAzv1rFn729F/joaEv8c13Mf3BFBMeffgBfOv14duLbrgu3cLMpevxn1/IxZWjse0j+vmdnzrQ+6kTnqt/gCl/DZ76xWzM0PEamKTvUe2v5PuG8M3l/4ELAw789p8GEfjJQ/jLv96I4p/PYFdo/W0VjI/iiZWrUFRUNIrDhgfldsWR2sgD1r/CLxcaMXXq1KRHoiSNGin//ijS/8YyFbP13+LE79z4nesafmL6U5gMLP+kehQOBXD5n3vx93//Kb793ozi//QfoKVrUDJ05mP8zm/CL/76FzBJ6RlL/yzeL/U4JTMzawifnvIhDD1sq0vxsz+VPpj+AAIDTAH5N/Z3zkpsXDZ3pNw46cgbCcdVBm+Lf6HSxtb+Z/w/H/gUrjSeJQrV35TGKSYGC/ktneXIY2NUXdCx6/6CPeO/XoHnq1P49NN/wqXwgyj62/V46F9OseeNvk+U7PI71v8cdcA5+H/hD6bHseavfoHZfxTAx2+/j69u6ZFfVoE8Oa+ZzDJ/+Az6/4cXX1/7M/zlLx5kLTQ1Ypoh5g9iZYn0SafuPPCnLM1GLf4dcv8Vn+fpkaH7pGzzCtKSk+Xx8hJ8vkG4v/JB98hf44WX/wq6UyrpTiIDJya9MVMsTzYEZ1zeS48f/TtD+psgJifcTEfNgV2vh55vZviAGSW1tSg26xC62I3d3FF2aj6q3iiDNS2JWMR/1C4472bCET4aHlWwHa5sReCRWMIBuI50oSdRgAyDGXlPb0LpikSrbX708n1/Yu1DEpEsLWpoDOBRGhXAIwly2fIwvc9ryOzQAFqrOxEoqkPTWtF0h5isyHWR+1dI4dCJ9EnU/yUi3TadCr7K1+4SLBPEAErqBC8P4KP/8hGcvmC887xOD1NOPko3lMI6CrNw7jdz+/spmMZNo6X0jKV/5vsItZ+henlfIERGZLrcdFZ3eHTYqGBg6TM+dUfuK+ODf6RHhu6jsc0TmYOUsbsID8d+W4PvAY/mlrlgGT8A+KrQrdvxsTmypgE3fPh9tiV6/w+m0Pj+5wyYRxuKVOi8vxdCRE+oGV/Uc0uCiPD3JIGvht2WS2WU6ZOfccq0lIE6wtec6NzbAWcoD1U7y2GdtG2EPVNQpb6qkLE6FlUWybib9YiUsYyQqP9LBI9yqXWfIC1c7kfHp5dgXLIOJYu02VqJypP4N41nd5MJ6HvuM4JeJzzX9TAvsmZww+0A+vc04+jQYmx6Y70QMGZ08ABeh3D6xnwUbRY3Fh8V0nhCbffuQcrYXUP7igXNRhBEPMG+ZrzuXogXnlfZj21SIa2ASu+SkbHVV2kmMzVjnXlNB1LGCOLuMgF9D0EQY4aUMYIgCGIcIGWMIAiCIFJByhhBEARBEARBEMQEkG4AWYIgCIIgCIIgCCIDkDJGEARBEARBEAQxAZAyRhAEQRAEQRAEMQGQMkYQBEEQBEEQBDEBkDJGEARBEARBEAQxAZAyRhAEQRAEQRAEMQGQMkYQBEEQBEEQBDEBkDJGEARBEARBEAQxAZAyNukIw+92wvmFG/470ili4rnhZWXCysUblE7ce4RDQQSDIVbDxkA4xO4RRCjJTYLexPU3fNUt5KP3hnRiNFzuR8f+DvScu3fLgiAIgiAIgvOjf2dIfxOTAj966+3oGTKhpMGO4mzpdEYYz3v/wHG1Y0u7C1hSgX3P26STWnGhfUs7+18bpqftsK82Se9GT+B4K5p/C6zeWo2C2SwV725B+xkbKvZVQO0JfJ914Jh3Poo2F8AsneO4D9bgwLnF2PTGelilfLBV7ENFgmwQf0e9jvmPsmc74k/6/ZRIachUPhEEQRAEQUwUtDJGEOMOV4D2YV+qo6EE6agW4Vt8pUvlkJatwqGbCN64idCw8DYlgUEnnKc8CEjvZYTfYfdRXwwLIxTz++LPs/M31c4ngiusW7Al4WFH75B0KUEQBEEQxA8EUsYI4p7ED0dLDWpqVI4P3NI1qVEqdBElKqJAhRBOqci50Rnz+53n+PkAHLtjzmtJ1uxCVLe0oCXu2IbC2dI1BEEQBEEQPxBIGSOIcSfVqo901PcwFStNsktgj11h02xGGa3QiUqUUrnaBcc14cIkxK76taFVUqBa31Ke12iWmKXHDIMBhrhDDx31VgRBEARB/MC4f3zGbjjQ+Go3fPp8VLeWIVc6LeJD9/ZGOK6bUfpGHQpnimfD11xwfHQUxweHEAwBhtlmLF61AavzzTDECobhAJyHOtB7bgiBG/xiA7IfKULpM4XINUiXXGX3++0xOAcDCNwMAnp2Tc5qbOI+OjrxGqVfV/HWZ6D/rBvH3D4E7+igzzYj71flWL/UKF3LSOjLJPspKX2EEvmMhYWgC8eOHsfpb6/jtpB+E8zLS/HCr62KZ5XuyRWAV+aiv7Ud/VfDwMPr0fLUFdTvHUBoXilathdCemSRYfa9F9n3fpKPqjfLYI3Nu2En2l/oENJa/k4F8uTP7wxg70udTD2ITa8X3a82w3Ej+npt5SXnAcuXttUItL+FHncQYWW9CHrQe+BDOAb9CIVZvs+zoviRMLr73HH5HL7mRPeBXpz1+RFk1xpmZGP+itUoLbLBGClTKd9G5W+WCOk5wMqioVjVvFH0z0Ik71L5jCX6POp8Ip+xYVb/329D5yl/1Gqabk4+yirLkDdLfJ/YZ0xRtxI8TwTyGSMIgiAI4gdCrFj8w2XmMiybx15D5+H2iqciDLFz19nrPHaNpIiFXB3YXt+OnnPfY+GarWjaXs4+C6D/g0bU7+mHX2m+FWKC5Ks70PGZD1hQjMq6OpQvn4Obrm44vpQivvm6mZDZjt5BIGdVOWobarHe+mP4znShsZ0pMeJVCpiwvbsV3V/rsPjpcpQ+YcaUa170v2dH62eZjSIXPtWOmuZO9P+rESvXVsFeV4EC0014j+1F8+HYzGIMn0dnw1703zLDttwK66PzYbA+jnyed5cHcDLWt+fL03Cx/NL/fHG8IsbJykXuw/yPQXhY/kT4ipWL8Icf5y8onvmaBx4eje9h9j3pfmmVl0AAx/Y0onvwp8hZboNlSS7m89NXe9G4vZUpaH5MMRegdGMxrA9cEhWxWG70Y3d9B/q9U7D42Vr2m5UoWvA93Ed6MPA/pWuUnGFKhNqKWOxR38ue+O4jK1GpTRPj8RxsQsfnNzH/V9VoElbE2tBaV4ac4AA6dnbCE3NPV/vEPitBEARBEMRk4P5RxmDAsjweIy6I02eiFYzghfOCQGj6mVVc0Rl2o7vTieCwEYVb7ShbYYHRbEPpyw0oszLBf7ALnRGFKIj+t9vhusW+v3oH7JsKkWtmSsraaux8sxUVK6Q1InMJKrfWYdcbTAlblQvzbAvyN5eLq3Duk3Cq6FfGFVVoaebX56FwQy0a/tYGPcLwfPQR3KMQmBOhW74JtVub0FZfgeKl0rO+WAr2qAh8fhIe8bIRmFLonVkCO0tbxeYqVK3m+WrBMmHFzo+BAaaUKvD8d65h6WFbwu+ohgE5j/IVjhC83hHR3HvxEquhOsE8zfs1+1vm8hXwXzA8NHcU5SXjg5evju2yo2pzBWo35kHHy/K/9MAX5mVpR0vtehSuKEZ5bQua1lqk740QOHUSXlYOxqf4aiX/zVwUbmLK8ls7UDJHukjAirIo/6cUR01hWoE8kuNHT72o+LSfkU6p4of/W/56CVe+YS989UlSDpN/j+NmZR5ij1mKytW5ME7l53TQm/NRsZYVwK0BDMTostaNY39W/xH7SBq1hqokCIIgCIKYRNxHyhgT3pcsE0J2B90exWx8EGd/x5UzE/KWSGLhlyfBZUvMK0BRlAyuR/7KfPY/Uw76T4r3GDqJ/ov8o3yU/iparNTp9UwkldHBlGMWvjuCBfOF+3txiQvAUZiQv0ppIsh+YmmRuPoUcuGscgVpzBhgyVGYPnKmsrRxs8DQFXjj/IaY0rOpGKaY2mN+UgyJHjhzWlCWRDxwnmGZqbdh8aPSKRVMFouQN36vl6mbnAA8g0yBshSggOeR9xLLJRHPoKjcLbRKhZNOeSmwriuHTVkgcllm2VASU5bGP50h/TXCjBniucBlL1MEhT8FdFPlUuemhFxZqER1xA9Lw/FKpaBg2I/Gpng0cAVVVHzKFkmn1BhywSWUcxCnnSynrWUR5TDp9wSmQPcT9vK/QrgtnohwO3ST/c/awUhDENBNl3zBpsd8kAbGVdUjaUyk5xMEQRAEQUxi7itlLGKqOHQWbnnT2TvncZ4L4Nl5sEk+ScKKDMPwyHxx5UUJOyfI+0NMObgDhJmSIIjMlvnI0ZKbdwLwftGLrr2NgtAtrzqE/yC+JkdW3kLwD6kspY2RcMgHT1832lvsqHmJ+1Xxs98DcatwZsxXbkQlw/L3cW5ueN2F07I25nXjPNfFEpkoyuQsFPPvKw8EPfPOIC6xexgeWozFD7FSuOGGR0iPH96vueYl50V65TWCCfMfilEEfFfEsnx0YfK0SuiWrxYj/Lk7UVPbjK4TviiljP9GYY20AjSKY9uqTKyP6aCfISo++iR6j/fEAHt2E8ysXIOfHcVAWC8Fzkj+PZFcFBaxL17uxut7uuH0BhAM8rrUgebDrBDNhShcIF2aQXT6GWmkkSAIgiAIYvJxfyljTFQXTRV9OPvPojITdjHFjL2a8mxMFBW5eUP87Kf6acJrFFPl1a7r7DogcIM7mzEi5xMRgvdoK2pe3oHmv+tlCsd8rFxTgeIc6eM0uR36TvorA/DgCwfsqK5uROtHp3Hzj6woenY98tIOJW5A/grBuBGnT4nrWN4zpxFEMhNFiSwrFvKVs2EPPPyrgx6hXHJzLLA8zL25/LjkDTMlzYtLXCl7eCEWCuZw6ZVXMvzXJGe3lGUpkWVB6f+7CeVPWGC45RX802peqsHePp+0uievAE3DFOm9JqZMExUM6fnGnau9OPhpAFhUjK0bCmEcdqNzd6+Kn11iTE/VomlzAYw3BtDZvAM1NawuHfHCsKIcTbUpAnIQBEEQBEHcp9xnyhhTFyRTRa/7vCAwu88JqtiIiSJjxkxxfUV1tWpYFrNnsesA40wpTNydUEQAVyN8qgPNRzwIPliMuj1tsFetRzFTXOZOly7QRBghaXUne3bmxFvff2tFx+d+6JaUo6W1BbUVpShcmhNnhqgFXd5K5OuB4Jmz8DIFyuNmilIKE0URHSwW/kxBXLochJcpY9zXKpcrq3ylir24uXmipKRF/MUY6ZRXMiLKXOQ7GtAZkbehFi1vtaB6nQ3GPwThPtSI3ceVK5fxe3ElPdLYJ0xJOMT3BvPB84UD3TyYjBZ48Jk3e+BjraJkbR70llI8u4IVoK8Hu/Y4BP85behgXL4etQ2taJPD2b/VhNoNeYqokukj7oMWgPecE47DHeg5p8xXgiAIgiCIe5v7ThmLmCrySH3DHpy/wP5WmChyLA8JcfUQYMJ/nOjHlAHBjG72XFimMhE02yQqBd5LGEy4khCG8wtBhUDhhhKYR7viMTyIS8KCkxGmB4UzidGsUHhx+osAe7WidFMeDGMQnAWyrFj8cybM3ziNs+yZzw5pMFGUMC0QA6h4vzmLK9+wnM+eL+RxxH+N5f2AjysZCn8xRjrllQwDK0vBheybKxH/NM3oDMhdVYGmFyUftd+dVaSFh4Uf2W8r8aEecj4pQz2wS0EsKqu5MteI1gO9OO0NcAPT5NxxoeNVHnxGD9vzWyNbB+RubELVCiNCg9040JeG35q7CzWv1qD1OK9Po0TxPMIzvcKfaQea3+nEsS888F77vXQhQRAEQRDEvc/9p4wxcV8wVWSKzfmPXYI/k9JEUWDJ48LqDi46cCxKKg9hoE8MQ29+YqX4HUs+VgqBLgbw0ScxgmvQB59gGncTN3kcA/xYDHQgE/LCI0SwUyOMcIw+JfjySIEqVsrR+h6cK6z0wcsE1YgyGILrvS5oCzAXktKmiw6ycN2LS6NchLA+mc/UxSAGDvbCp8VEUcYihar/9iROsnzXP2KRysWEXCtT0254cPxLnscj/mIC6ZRXMnIWiwE9bgzgJFfSI4ThuyyZMCrxDqA/dulIr1cxSeR7aI0oGIkPphhJ30iNij/am22iUtfWipbNttSmkVNtKN5QiNKtDaiIimSih5UpZG1vtqL2qZS5NkL4JoI3grgZSjwRYFq1TUhrfMAN9YiTkY2j32lDyxstqF4VE2gmhsAX3eg46ICXFzpBEARBEMQk5z5UxmRTRSaof9LPVIZoE0WBLCtKy/JgyArAsduOzhNeBHwudO+pR6ebqS3zSlD+pGwkZ0LxlhJh02bfkSbYDwzAe40HL+iEfXsjGj/gyoARNhv/jQB63+nAgNcH74kuNL7WjP64SIUy7NqdNWg97ITX54XzcCvqP2SaRpYZJf9JsanybBsWc2XwRj/2vtEFx4letNdvQ/vgLJjjzPJ+Cr1gFvkdbgZks8ocLBYEcRe69nTD5fPBdbQdO+o64f434YL0Mecjn6UpFGISsSYTRZkc5PJrWRp8TLHMyRnZmlv0G2PnL7MXhb+YQFrllQThPnz7AFY33hbv4/M62X22ozFW0YYfvQc60dVYDfu7vULQigBTzjr2O1id0sG6gqVHujIC3/Q5aiUswaFxY+hIREL5GEVkQtPyUhTmqOeNbrpG37l0mCoGBokPuKGDXvks0pGW31ywHx3vOeD8rBvNvxmdqSdBEARBEMTd5L5UxiJR//hKUoyJoozeVo6dDeVMUJ2C8x/txo6dHTh9w4iCjXXY+WpMWPc5xajbWY3SJdn4zt2F5tca0fZbL6YtKUHVBtFszfTUVlQVWWC86URnSzPe6buC+euaUBcTQj1Clg2lL6zEtMFD2L2zGZ2fX8WsJaWobq5DcdQeVkwZfKkc+fMMCPv60f0bBwIPlqD29XIsjhNkDchblQ/jVL432l4MCLFHdLBt3or1S8yA14H25t04+CVQ8HILytO2mZNhCu5yYb1Os4miiE5hfmgR/cVkJL8xjtJfTCat8kqC3laBhq2lsM35Dq7fNKNxzyF49EWo3hobhILle10TKp62Ydq3x9G1ewd27O6Ghyl0JVt3omq5cqXp/iIcuolgkPt6JTuS+1iOCkMOFs9jWl4Wq+c/Vy6dEgRBEARBTE5+9O8M6W+CyBjuA9XY+zmQX9VKe0AJZorpmSCWNNgjPlyjJXzVDde3gHmRFSammLve5Rs4c/+19HzTeGCQ299PwTSDHjq+GXS7C7aKfaiIvYn0mTbST0cE6XdMT9thX52GGSVBEARBEMQkg5QxIvOEBrD3lU64ZxaitrEUlvtz/VVBGKHg7dQBNSIwxYebCGY434JeJzzXjchdaok3obyXuOGF82IA+gdtsM7JuCElQRAEQRDEXYOUMSJjBAY9COqu4/j+Tjiv6WGraIoJDEEQBEEQBEEQhAwpY0SG8KL71WY4buigzzYjf+0LKF10T6+/EARBEARBEMS4QsoYQRAEQRAEQRDEBHDfe/MQBEEQBEEQBEFMBKSMEQRBEARBEARBTACkjBEEQRAEQRAEQUwApIwRBEEQBEEQBEFMAKSMEQRBEARBEARBTACkjBEEQRAEQRAEQdx1gP8/X4u8ihX/zoMAAAAASUVORK5CYII=)"
      ],
      "metadata": {
        "id": "0saSHHTEAXo-"
      }
    },
    {
      "cell_type": "markdown",
      "source": [
        "about tensorflow-addons\n",
        "\n",
        "https://github.com/tensorflow/addons"
      ],
      "metadata": {
        "id": "JbW0n7N-LooS"
      }
    },
    {
      "cell_type": "markdown",
      "source": [
        "#EDA"
      ],
      "metadata": {
        "id": "ELX0RAT2MObw"
      }
    },
    {
      "cell_type": "code",
      "source": [
        "train_ds = pd.read_csv('./train.csv')\n",
        "train_ds.head()"
      ],
      "metadata": {
        "id": "FVpkDqALAYVW",
        "colab": {
          "base_uri": "https://localhost:8080/",
          "height": 206
        },
        "outputId": "349b7102-5ee8-462a-ecc3-57e62d078a62"
      },
      "execution_count": null,
      "outputs": [
        {
          "output_type": "execute_result",
          "data": {
            "text/plain": [
              "   Unnamed: 0        id                                    genome_sequence  \\\n",
              "0           0  11408003  ccacatcccctccagcacctgttgtttcctgactttttaatgattg...   \n",
              "1           1  18639873  tgtttacttgccaatctttgtttagctgtcagagtggcttgctaaa...   \n",
              "2           2   9869298  tctgtgaagaaagacattggtagcttgatggggatgacattgaatc...   \n",
              "3           3  10762804  ttgtgagaattacgtgagatgatagatttagggactatagaatagt...   \n",
              "4           4  13724428  gcaaaaaataagttgataagttgattgatatgttattagcttaatt...   \n",
              "\n",
              "           species  \n",
              "0  Gorilla_gorilla  \n",
              "1  Gorilla_gorilla  \n",
              "2     Homo_sapiens  \n",
              "3  Gorilla_gorilla  \n",
              "4  Gorilla_gorilla  "
            ],
            "text/html": [
              "\n",
              "  <div id=\"df-3e475a7d-8171-4f38-976d-fa6dff06b7c3\">\n",
              "    <div class=\"colab-df-container\">\n",
              "      <div>\n",
              "<style scoped>\n",
              "    .dataframe tbody tr th:only-of-type {\n",
              "        vertical-align: middle;\n",
              "    }\n",
              "\n",
              "    .dataframe tbody tr th {\n",
              "        vertical-align: top;\n",
              "    }\n",
              "\n",
              "    .dataframe thead th {\n",
              "        text-align: right;\n",
              "    }\n",
              "</style>\n",
              "<table border=\"1\" class=\"dataframe\">\n",
              "  <thead>\n",
              "    <tr style=\"text-align: right;\">\n",
              "      <th></th>\n",
              "      <th>Unnamed: 0</th>\n",
              "      <th>id</th>\n",
              "      <th>genome_sequence</th>\n",
              "      <th>species</th>\n",
              "    </tr>\n",
              "  </thead>\n",
              "  <tbody>\n",
              "    <tr>\n",
              "      <th>0</th>\n",
              "      <td>0</td>\n",
              "      <td>11408003</td>\n",
              "      <td>ccacatcccctccagcacctgttgtttcctgactttttaatgattg...</td>\n",
              "      <td>Gorilla_gorilla</td>\n",
              "    </tr>\n",
              "    <tr>\n",
              "      <th>1</th>\n",
              "      <td>1</td>\n",
              "      <td>18639873</td>\n",
              "      <td>tgtttacttgccaatctttgtttagctgtcagagtggcttgctaaa...</td>\n",
              "      <td>Gorilla_gorilla</td>\n",
              "    </tr>\n",
              "    <tr>\n",
              "      <th>2</th>\n",
              "      <td>2</td>\n",
              "      <td>9869298</td>\n",
              "      <td>tctgtgaagaaagacattggtagcttgatggggatgacattgaatc...</td>\n",
              "      <td>Homo_sapiens</td>\n",
              "    </tr>\n",
              "    <tr>\n",
              "      <th>3</th>\n",
              "      <td>3</td>\n",
              "      <td>10762804</td>\n",
              "      <td>ttgtgagaattacgtgagatgatagatttagggactatagaatagt...</td>\n",
              "      <td>Gorilla_gorilla</td>\n",
              "    </tr>\n",
              "    <tr>\n",
              "      <th>4</th>\n",
              "      <td>4</td>\n",
              "      <td>13724428</td>\n",
              "      <td>gcaaaaaataagttgataagttgattgatatgttattagcttaatt...</td>\n",
              "      <td>Gorilla_gorilla</td>\n",
              "    </tr>\n",
              "  </tbody>\n",
              "</table>\n",
              "</div>\n",
              "      <button class=\"colab-df-convert\" onclick=\"convertToInteractive('df-3e475a7d-8171-4f38-976d-fa6dff06b7c3')\"\n",
              "              title=\"Convert this dataframe to an interactive table.\"\n",
              "              style=\"display:none;\">\n",
              "        \n",
              "  <svg xmlns=\"http://www.w3.org/2000/svg\" height=\"24px\"viewBox=\"0 0 24 24\"\n",
              "       width=\"24px\">\n",
              "    <path d=\"M0 0h24v24H0V0z\" fill=\"none\"/>\n",
              "    <path d=\"M18.56 5.44l.94 2.06.94-2.06 2.06-.94-2.06-.94-.94-2.06-.94 2.06-2.06.94zm-11 1L8.5 8.5l.94-2.06 2.06-.94-2.06-.94L8.5 2.5l-.94 2.06-2.06.94zm10 10l.94 2.06.94-2.06 2.06-.94-2.06-.94-.94-2.06-.94 2.06-2.06.94z\"/><path d=\"M17.41 7.96l-1.37-1.37c-.4-.4-.92-.59-1.43-.59-.52 0-1.04.2-1.43.59L10.3 9.45l-7.72 7.72c-.78.78-.78 2.05 0 2.83L4 21.41c.39.39.9.59 1.41.59.51 0 1.02-.2 1.41-.59l7.78-7.78 2.81-2.81c.8-.78.8-2.07 0-2.86zM5.41 20L4 18.59l7.72-7.72 1.47 1.35L5.41 20z\"/>\n",
              "  </svg>\n",
              "      </button>\n",
              "      \n",
              "  <style>\n",
              "    .colab-df-container {\n",
              "      display:flex;\n",
              "      flex-wrap:wrap;\n",
              "      gap: 12px;\n",
              "    }\n",
              "\n",
              "    .colab-df-convert {\n",
              "      background-color: #E8F0FE;\n",
              "      border: none;\n",
              "      border-radius: 50%;\n",
              "      cursor: pointer;\n",
              "      display: none;\n",
              "      fill: #1967D2;\n",
              "      height: 32px;\n",
              "      padding: 0 0 0 0;\n",
              "      width: 32px;\n",
              "    }\n",
              "\n",
              "    .colab-df-convert:hover {\n",
              "      background-color: #E2EBFA;\n",
              "      box-shadow: 0px 1px 2px rgba(60, 64, 67, 0.3), 0px 1px 3px 1px rgba(60, 64, 67, 0.15);\n",
              "      fill: #174EA6;\n",
              "    }\n",
              "\n",
              "    [theme=dark] .colab-df-convert {\n",
              "      background-color: #3B4455;\n",
              "      fill: #D2E3FC;\n",
              "    }\n",
              "\n",
              "    [theme=dark] .colab-df-convert:hover {\n",
              "      background-color: #434B5C;\n",
              "      box-shadow: 0px 1px 3px 1px rgba(0, 0, 0, 0.15);\n",
              "      filter: drop-shadow(0px 1px 2px rgba(0, 0, 0, 0.3));\n",
              "      fill: #FFFFFF;\n",
              "    }\n",
              "  </style>\n",
              "\n",
              "      <script>\n",
              "        const buttonEl =\n",
              "          document.querySelector('#df-3e475a7d-8171-4f38-976d-fa6dff06b7c3 button.colab-df-convert');\n",
              "        buttonEl.style.display =\n",
              "          google.colab.kernel.accessAllowed ? 'block' : 'none';\n",
              "\n",
              "        async function convertToInteractive(key) {\n",
              "          const element = document.querySelector('#df-3e475a7d-8171-4f38-976d-fa6dff06b7c3');\n",
              "          const dataTable =\n",
              "            await google.colab.kernel.invokeFunction('convertToInteractive',\n",
              "                                                     [key], {});\n",
              "          if (!dataTable) return;\n",
              "\n",
              "          const docLinkHtml = 'Like what you see? Visit the ' +\n",
              "            '<a target=\"_blank\" href=https://colab.research.google.com/notebooks/data_table.ipynb>data table notebook</a>'\n",
              "            + ' to learn more about interactive tables.';\n",
              "          element.innerHTML = '';\n",
              "          dataTable['output_type'] = 'display_data';\n",
              "          await google.colab.output.renderOutput(dataTable, element);\n",
              "          const docLink = document.createElement('div');\n",
              "          docLink.innerHTML = docLinkHtml;\n",
              "          element.appendChild(docLink);\n",
              "        }\n",
              "      </script>\n",
              "    </div>\n",
              "  </div>\n",
              "  "
            ]
          },
          "metadata": {},
          "execution_count": 12
        }
      ]
    },
    {
      "cell_type": "code",
      "source": [
        "train_ds = train_ds[['genome_sequence','species']]\n",
        "train_ds"
      ],
      "metadata": {
        "colab": {
          "base_uri": "https://localhost:8080/",
          "height": 424
        },
        "id": "LKpyx7cnKiuH",
        "outputId": "df7c5c95-8a41-4620-cedf-e6600d7147ff"
      },
      "execution_count": null,
      "outputs": [
        {
          "output_type": "execute_result",
          "data": {
            "text/plain": [
              "                                            genome_sequence          species\n",
              "0         ccacatcccctccagcacctgttgtttcctgactttttaatgattg...  Gorilla_gorilla\n",
              "1         tgtttacttgccaatctttgtttagctgtcagagtggcttgctaaa...  Gorilla_gorilla\n",
              "2         tctgtgaagaaagacattggtagcttgatggggatgacattgaatc...     Homo_sapiens\n",
              "3         ttgtgagaattacgtgagatgatagatttagggactatagaatagt...  Gorilla_gorilla\n",
              "4         gcaaaaaataagttgataagttgattgatatgttattagcttaatt...  Gorilla_gorilla\n",
              "...                                                     ...              ...\n",
              "19799995  agaggtgaagcacttaaattgtgccaggcacataatatatattaaa...     Homo_sapiens\n",
              "19799996  tctaaagttctggaatttcaggcatagagccaccacatccagccga...     Homo_sapiens\n",
              "19799997  tttttgttaaagtgaagaaataactttctttttttgttttttttga...  Gorilla_gorilla\n",
              "19799998  gagccatgtgttatgaagagcagggcctccattggctgtgtccctg...  Gorilla_gorilla\n",
              "19799999  tttttatcacaaactttaatgccataaattaatatgtaacacatat...  Gorilla_gorilla\n",
              "\n",
              "[19800000 rows x 2 columns]"
            ],
            "text/html": [
              "\n",
              "  <div id=\"df-cef6bfbc-77bc-4032-911d-89ab928c8bdd\">\n",
              "    <div class=\"colab-df-container\">\n",
              "      <div>\n",
              "<style scoped>\n",
              "    .dataframe tbody tr th:only-of-type {\n",
              "        vertical-align: middle;\n",
              "    }\n",
              "\n",
              "    .dataframe tbody tr th {\n",
              "        vertical-align: top;\n",
              "    }\n",
              "\n",
              "    .dataframe thead th {\n",
              "        text-align: right;\n",
              "    }\n",
              "</style>\n",
              "<table border=\"1\" class=\"dataframe\">\n",
              "  <thead>\n",
              "    <tr style=\"text-align: right;\">\n",
              "      <th></th>\n",
              "      <th>genome_sequence</th>\n",
              "      <th>species</th>\n",
              "    </tr>\n",
              "  </thead>\n",
              "  <tbody>\n",
              "    <tr>\n",
              "      <th>0</th>\n",
              "      <td>ccacatcccctccagcacctgttgtttcctgactttttaatgattg...</td>\n",
              "      <td>Gorilla_gorilla</td>\n",
              "    </tr>\n",
              "    <tr>\n",
              "      <th>1</th>\n",
              "      <td>tgtttacttgccaatctttgtttagctgtcagagtggcttgctaaa...</td>\n",
              "      <td>Gorilla_gorilla</td>\n",
              "    </tr>\n",
              "    <tr>\n",
              "      <th>2</th>\n",
              "      <td>tctgtgaagaaagacattggtagcttgatggggatgacattgaatc...</td>\n",
              "      <td>Homo_sapiens</td>\n",
              "    </tr>\n",
              "    <tr>\n",
              "      <th>3</th>\n",
              "      <td>ttgtgagaattacgtgagatgatagatttagggactatagaatagt...</td>\n",
              "      <td>Gorilla_gorilla</td>\n",
              "    </tr>\n",
              "    <tr>\n",
              "      <th>4</th>\n",
              "      <td>gcaaaaaataagttgataagttgattgatatgttattagcttaatt...</td>\n",
              "      <td>Gorilla_gorilla</td>\n",
              "    </tr>\n",
              "    <tr>\n",
              "      <th>...</th>\n",
              "      <td>...</td>\n",
              "      <td>...</td>\n",
              "    </tr>\n",
              "    <tr>\n",
              "      <th>19799995</th>\n",
              "      <td>agaggtgaagcacttaaattgtgccaggcacataatatatattaaa...</td>\n",
              "      <td>Homo_sapiens</td>\n",
              "    </tr>\n",
              "    <tr>\n",
              "      <th>19799996</th>\n",
              "      <td>tctaaagttctggaatttcaggcatagagccaccacatccagccga...</td>\n",
              "      <td>Homo_sapiens</td>\n",
              "    </tr>\n",
              "    <tr>\n",
              "      <th>19799997</th>\n",
              "      <td>tttttgttaaagtgaagaaataactttctttttttgttttttttga...</td>\n",
              "      <td>Gorilla_gorilla</td>\n",
              "    </tr>\n",
              "    <tr>\n",
              "      <th>19799998</th>\n",
              "      <td>gagccatgtgttatgaagagcagggcctccattggctgtgtccctg...</td>\n",
              "      <td>Gorilla_gorilla</td>\n",
              "    </tr>\n",
              "    <tr>\n",
              "      <th>19799999</th>\n",
              "      <td>tttttatcacaaactttaatgccataaattaatatgtaacacatat...</td>\n",
              "      <td>Gorilla_gorilla</td>\n",
              "    </tr>\n",
              "  </tbody>\n",
              "</table>\n",
              "<p>19800000 rows × 2 columns</p>\n",
              "</div>\n",
              "      <button class=\"colab-df-convert\" onclick=\"convertToInteractive('df-cef6bfbc-77bc-4032-911d-89ab928c8bdd')\"\n",
              "              title=\"Convert this dataframe to an interactive table.\"\n",
              "              style=\"display:none;\">\n",
              "        \n",
              "  <svg xmlns=\"http://www.w3.org/2000/svg\" height=\"24px\"viewBox=\"0 0 24 24\"\n",
              "       width=\"24px\">\n",
              "    <path d=\"M0 0h24v24H0V0z\" fill=\"none\"/>\n",
              "    <path d=\"M18.56 5.44l.94 2.06.94-2.06 2.06-.94-2.06-.94-.94-2.06-.94 2.06-2.06.94zm-11 1L8.5 8.5l.94-2.06 2.06-.94-2.06-.94L8.5 2.5l-.94 2.06-2.06.94zm10 10l.94 2.06.94-2.06 2.06-.94-2.06-.94-.94-2.06-.94 2.06-2.06.94z\"/><path d=\"M17.41 7.96l-1.37-1.37c-.4-.4-.92-.59-1.43-.59-.52 0-1.04.2-1.43.59L10.3 9.45l-7.72 7.72c-.78.78-.78 2.05 0 2.83L4 21.41c.39.39.9.59 1.41.59.51 0 1.02-.2 1.41-.59l7.78-7.78 2.81-2.81c.8-.78.8-2.07 0-2.86zM5.41 20L4 18.59l7.72-7.72 1.47 1.35L5.41 20z\"/>\n",
              "  </svg>\n",
              "      </button>\n",
              "      \n",
              "  <style>\n",
              "    .colab-df-container {\n",
              "      display:flex;\n",
              "      flex-wrap:wrap;\n",
              "      gap: 12px;\n",
              "    }\n",
              "\n",
              "    .colab-df-convert {\n",
              "      background-color: #E8F0FE;\n",
              "      border: none;\n",
              "      border-radius: 50%;\n",
              "      cursor: pointer;\n",
              "      display: none;\n",
              "      fill: #1967D2;\n",
              "      height: 32px;\n",
              "      padding: 0 0 0 0;\n",
              "      width: 32px;\n",
              "    }\n",
              "\n",
              "    .colab-df-convert:hover {\n",
              "      background-color: #E2EBFA;\n",
              "      box-shadow: 0px 1px 2px rgba(60, 64, 67, 0.3), 0px 1px 3px 1px rgba(60, 64, 67, 0.15);\n",
              "      fill: #174EA6;\n",
              "    }\n",
              "\n",
              "    [theme=dark] .colab-df-convert {\n",
              "      background-color: #3B4455;\n",
              "      fill: #D2E3FC;\n",
              "    }\n",
              "\n",
              "    [theme=dark] .colab-df-convert:hover {\n",
              "      background-color: #434B5C;\n",
              "      box-shadow: 0px 1px 3px 1px rgba(0, 0, 0, 0.15);\n",
              "      filter: drop-shadow(0px 1px 2px rgba(0, 0, 0, 0.3));\n",
              "      fill: #FFFFFF;\n",
              "    }\n",
              "  </style>\n",
              "\n",
              "      <script>\n",
              "        const buttonEl =\n",
              "          document.querySelector('#df-cef6bfbc-77bc-4032-911d-89ab928c8bdd button.colab-df-convert');\n",
              "        buttonEl.style.display =\n",
              "          google.colab.kernel.accessAllowed ? 'block' : 'none';\n",
              "\n",
              "        async function convertToInteractive(key) {\n",
              "          const element = document.querySelector('#df-cef6bfbc-77bc-4032-911d-89ab928c8bdd');\n",
              "          const dataTable =\n",
              "            await google.colab.kernel.invokeFunction('convertToInteractive',\n",
              "                                                     [key], {});\n",
              "          if (!dataTable) return;\n",
              "\n",
              "          const docLinkHtml = 'Like what you see? Visit the ' +\n",
              "            '<a target=\"_blank\" href=https://colab.research.google.com/notebooks/data_table.ipynb>data table notebook</a>'\n",
              "            + ' to learn more about interactive tables.';\n",
              "          element.innerHTML = '';\n",
              "          dataTable['output_type'] = 'display_data';\n",
              "          await google.colab.output.renderOutput(dataTable, element);\n",
              "          const docLink = document.createElement('div');\n",
              "          docLink.innerHTML = docLinkHtml;\n",
              "          element.appendChild(docLink);\n",
              "        }\n",
              "      </script>\n",
              "    </div>\n",
              "  </div>\n",
              "  "
            ]
          },
          "metadata": {},
          "execution_count": 13
        }
      ]
    },
    {
      "cell_type": "markdown",
      "source": [
        "총 19,800,000개의 데이터"
      ],
      "metadata": {
        "id": "m-eXpMWFK70f"
      }
    },
    {
      "cell_type": "code",
      "source": [
        "len(train_ds[train_ds['species']=='Gorilla_gorilla'])"
      ],
      "metadata": {
        "colab": {
          "base_uri": "https://localhost:8080/"
        },
        "id": "5QNqQK82Ktw8",
        "outputId": "286e8d9d-a517-4941-a227-a856bb7a22dc"
      },
      "execution_count": null,
      "outputs": [
        {
          "output_type": "execute_result",
          "data": {
            "text/plain": [
              "9899415"
            ]
          },
          "metadata": {},
          "execution_count": 14
        }
      ]
    },
    {
      "cell_type": "code",
      "source": [
        "len(train_ds[train_ds['species']=='Homo_sapiens'])"
      ],
      "metadata": {
        "colab": {
          "base_uri": "https://localhost:8080/"
        },
        "id": "Kb84OwsSLeaV",
        "outputId": "58a7a2a7-5c87-48f6-d542-f3448af6bd50"
      },
      "execution_count": null,
      "outputs": [
        {
          "output_type": "execute_result",
          "data": {
            "text/plain": [
              "9900585"
            ]
          },
          "metadata": {},
          "execution_count": 15
        }
      ]
    },
    {
      "cell_type": "markdown",
      "source": [
        "Gorilla_gorilla = 9,899,415\n",
        "\n",
        "Homo_Sapiens = 9,900,585\n",
        "\n",
        "약 1:1의 비율로 구성."
      ],
      "metadata": {
        "id": "I6ev7XzfMmhV"
      }
    },
    {
      "cell_type": "code",
      "source": [
        "train_ds['length'] = train_ds['genome_sequence'].apply(len)\n",
        "train_ds"
      ],
      "metadata": {
        "colab": {
          "base_uri": "https://localhost:8080/",
          "height": 424
        },
        "id": "_03iN6H2NAeI",
        "outputId": "547e8f18-d704-4087-967b-d6c1db262428"
      },
      "execution_count": null,
      "outputs": [
        {
          "output_type": "execute_result",
          "data": {
            "text/plain": [
              "                                            genome_sequence          species  \\\n",
              "0         ccacatcccctccagcacctgttgtttcctgactttttaatgattg...  Gorilla_gorilla   \n",
              "1         tgtttacttgccaatctttgtttagctgtcagagtggcttgctaaa...  Gorilla_gorilla   \n",
              "2         tctgtgaagaaagacattggtagcttgatggggatgacattgaatc...     Homo_sapiens   \n",
              "3         ttgtgagaattacgtgagatgatagatttagggactatagaatagt...  Gorilla_gorilla   \n",
              "4         gcaaaaaataagttgataagttgattgatatgttattagcttaatt...  Gorilla_gorilla   \n",
              "...                                                     ...              ...   \n",
              "19799995  agaggtgaagcacttaaattgtgccaggcacataatatatattaaa...     Homo_sapiens   \n",
              "19799996  tctaaagttctggaatttcaggcatagagccaccacatccagccga...     Homo_sapiens   \n",
              "19799997  tttttgttaaagtgaagaaataactttctttttttgttttttttga...  Gorilla_gorilla   \n",
              "19799998  gagccatgtgttatgaagagcagggcctccattggctgtgtccctg...  Gorilla_gorilla   \n",
              "19799999  tttttatcacaaactttaatgccataaattaatatgtaacacatat...  Gorilla_gorilla   \n",
              "\n",
              "          length  \n",
              "0             80  \n",
              "1             80  \n",
              "2             80  \n",
              "3             80  \n",
              "4             80  \n",
              "...          ...  \n",
              "19799995      80  \n",
              "19799996      80  \n",
              "19799997      80  \n",
              "19799998      80  \n",
              "19799999      80  \n",
              "\n",
              "[19800000 rows x 3 columns]"
            ],
            "text/html": [
              "\n",
              "  <div id=\"df-9e2baa13-1ab8-4de6-9afd-97a90a898395\">\n",
              "    <div class=\"colab-df-container\">\n",
              "      <div>\n",
              "<style scoped>\n",
              "    .dataframe tbody tr th:only-of-type {\n",
              "        vertical-align: middle;\n",
              "    }\n",
              "\n",
              "    .dataframe tbody tr th {\n",
              "        vertical-align: top;\n",
              "    }\n",
              "\n",
              "    .dataframe thead th {\n",
              "        text-align: right;\n",
              "    }\n",
              "</style>\n",
              "<table border=\"1\" class=\"dataframe\">\n",
              "  <thead>\n",
              "    <tr style=\"text-align: right;\">\n",
              "      <th></th>\n",
              "      <th>genome_sequence</th>\n",
              "      <th>species</th>\n",
              "      <th>length</th>\n",
              "    </tr>\n",
              "  </thead>\n",
              "  <tbody>\n",
              "    <tr>\n",
              "      <th>0</th>\n",
              "      <td>ccacatcccctccagcacctgttgtttcctgactttttaatgattg...</td>\n",
              "      <td>Gorilla_gorilla</td>\n",
              "      <td>80</td>\n",
              "    </tr>\n",
              "    <tr>\n",
              "      <th>1</th>\n",
              "      <td>tgtttacttgccaatctttgtttagctgtcagagtggcttgctaaa...</td>\n",
              "      <td>Gorilla_gorilla</td>\n",
              "      <td>80</td>\n",
              "    </tr>\n",
              "    <tr>\n",
              "      <th>2</th>\n",
              "      <td>tctgtgaagaaagacattggtagcttgatggggatgacattgaatc...</td>\n",
              "      <td>Homo_sapiens</td>\n",
              "      <td>80</td>\n",
              "    </tr>\n",
              "    <tr>\n",
              "      <th>3</th>\n",
              "      <td>ttgtgagaattacgtgagatgatagatttagggactatagaatagt...</td>\n",
              "      <td>Gorilla_gorilla</td>\n",
              "      <td>80</td>\n",
              "    </tr>\n",
              "    <tr>\n",
              "      <th>4</th>\n",
              "      <td>gcaaaaaataagttgataagttgattgatatgttattagcttaatt...</td>\n",
              "      <td>Gorilla_gorilla</td>\n",
              "      <td>80</td>\n",
              "    </tr>\n",
              "    <tr>\n",
              "      <th>...</th>\n",
              "      <td>...</td>\n",
              "      <td>...</td>\n",
              "      <td>...</td>\n",
              "    </tr>\n",
              "    <tr>\n",
              "      <th>19799995</th>\n",
              "      <td>agaggtgaagcacttaaattgtgccaggcacataatatatattaaa...</td>\n",
              "      <td>Homo_sapiens</td>\n",
              "      <td>80</td>\n",
              "    </tr>\n",
              "    <tr>\n",
              "      <th>19799996</th>\n",
              "      <td>tctaaagttctggaatttcaggcatagagccaccacatccagccga...</td>\n",
              "      <td>Homo_sapiens</td>\n",
              "      <td>80</td>\n",
              "    </tr>\n",
              "    <tr>\n",
              "      <th>19799997</th>\n",
              "      <td>tttttgttaaagtgaagaaataactttctttttttgttttttttga...</td>\n",
              "      <td>Gorilla_gorilla</td>\n",
              "      <td>80</td>\n",
              "    </tr>\n",
              "    <tr>\n",
              "      <th>19799998</th>\n",
              "      <td>gagccatgtgttatgaagagcagggcctccattggctgtgtccctg...</td>\n",
              "      <td>Gorilla_gorilla</td>\n",
              "      <td>80</td>\n",
              "    </tr>\n",
              "    <tr>\n",
              "      <th>19799999</th>\n",
              "      <td>tttttatcacaaactttaatgccataaattaatatgtaacacatat...</td>\n",
              "      <td>Gorilla_gorilla</td>\n",
              "      <td>80</td>\n",
              "    </tr>\n",
              "  </tbody>\n",
              "</table>\n",
              "<p>19800000 rows × 3 columns</p>\n",
              "</div>\n",
              "      <button class=\"colab-df-convert\" onclick=\"convertToInteractive('df-9e2baa13-1ab8-4de6-9afd-97a90a898395')\"\n",
              "              title=\"Convert this dataframe to an interactive table.\"\n",
              "              style=\"display:none;\">\n",
              "        \n",
              "  <svg xmlns=\"http://www.w3.org/2000/svg\" height=\"24px\"viewBox=\"0 0 24 24\"\n",
              "       width=\"24px\">\n",
              "    <path d=\"M0 0h24v24H0V0z\" fill=\"none\"/>\n",
              "    <path d=\"M18.56 5.44l.94 2.06.94-2.06 2.06-.94-2.06-.94-.94-2.06-.94 2.06-2.06.94zm-11 1L8.5 8.5l.94-2.06 2.06-.94-2.06-.94L8.5 2.5l-.94 2.06-2.06.94zm10 10l.94 2.06.94-2.06 2.06-.94-2.06-.94-.94-2.06-.94 2.06-2.06.94z\"/><path d=\"M17.41 7.96l-1.37-1.37c-.4-.4-.92-.59-1.43-.59-.52 0-1.04.2-1.43.59L10.3 9.45l-7.72 7.72c-.78.78-.78 2.05 0 2.83L4 21.41c.39.39.9.59 1.41.59.51 0 1.02-.2 1.41-.59l7.78-7.78 2.81-2.81c.8-.78.8-2.07 0-2.86zM5.41 20L4 18.59l7.72-7.72 1.47 1.35L5.41 20z\"/>\n",
              "  </svg>\n",
              "      </button>\n",
              "      \n",
              "  <style>\n",
              "    .colab-df-container {\n",
              "      display:flex;\n",
              "      flex-wrap:wrap;\n",
              "      gap: 12px;\n",
              "    }\n",
              "\n",
              "    .colab-df-convert {\n",
              "      background-color: #E8F0FE;\n",
              "      border: none;\n",
              "      border-radius: 50%;\n",
              "      cursor: pointer;\n",
              "      display: none;\n",
              "      fill: #1967D2;\n",
              "      height: 32px;\n",
              "      padding: 0 0 0 0;\n",
              "      width: 32px;\n",
              "    }\n",
              "\n",
              "    .colab-df-convert:hover {\n",
              "      background-color: #E2EBFA;\n",
              "      box-shadow: 0px 1px 2px rgba(60, 64, 67, 0.3), 0px 1px 3px 1px rgba(60, 64, 67, 0.15);\n",
              "      fill: #174EA6;\n",
              "    }\n",
              "\n",
              "    [theme=dark] .colab-df-convert {\n",
              "      background-color: #3B4455;\n",
              "      fill: #D2E3FC;\n",
              "    }\n",
              "\n",
              "    [theme=dark] .colab-df-convert:hover {\n",
              "      background-color: #434B5C;\n",
              "      box-shadow: 0px 1px 3px 1px rgba(0, 0, 0, 0.15);\n",
              "      filter: drop-shadow(0px 1px 2px rgba(0, 0, 0, 0.3));\n",
              "      fill: #FFFFFF;\n",
              "    }\n",
              "  </style>\n",
              "\n",
              "      <script>\n",
              "        const buttonEl =\n",
              "          document.querySelector('#df-9e2baa13-1ab8-4de6-9afd-97a90a898395 button.colab-df-convert');\n",
              "        buttonEl.style.display =\n",
              "          google.colab.kernel.accessAllowed ? 'block' : 'none';\n",
              "\n",
              "        async function convertToInteractive(key) {\n",
              "          const element = document.querySelector('#df-9e2baa13-1ab8-4de6-9afd-97a90a898395');\n",
              "          const dataTable =\n",
              "            await google.colab.kernel.invokeFunction('convertToInteractive',\n",
              "                                                     [key], {});\n",
              "          if (!dataTable) return;\n",
              "\n",
              "          const docLinkHtml = 'Like what you see? Visit the ' +\n",
              "            '<a target=\"_blank\" href=https://colab.research.google.com/notebooks/data_table.ipynb>data table notebook</a>'\n",
              "            + ' to learn more about interactive tables.';\n",
              "          element.innerHTML = '';\n",
              "          dataTable['output_type'] = 'display_data';\n",
              "          await google.colab.output.renderOutput(dataTable, element);\n",
              "          const docLink = document.createElement('div');\n",
              "          docLink.innerHTML = docLinkHtml;\n",
              "          element.appendChild(docLink);\n",
              "        }\n",
              "      </script>\n",
              "    </div>\n",
              "  </div>\n",
              "  "
            ]
          },
          "metadata": {},
          "execution_count": 16
        }
      ]
    },
    {
      "cell_type": "code",
      "source": [
        "train_ds['length'].unique()"
      ],
      "metadata": {
        "colab": {
          "base_uri": "https://localhost:8080/"
        },
        "id": "8zp7nLGLP0uM",
        "outputId": "ddee71e5-0a88-4645-e09a-33ab688afd72"
      },
      "execution_count": null,
      "outputs": [
        {
          "output_type": "execute_result",
          "data": {
            "text/plain": [
              "array([80, 39, 37,  2, 30, 25, 16,  3, 15, 57, 48, 32, 31, 43, 60, 50])"
            ]
          },
          "metadata": {},
          "execution_count": 17
        }
      ]
    },
    {
      "cell_type": "markdown",
      "source": [
        "✨ 꼭 기억하자 value_counts()\n",
        "\n",
        "https://www.codeit.kr/community/threads/5941"
      ],
      "metadata": {
        "id": "hPAaZ2Cnjomr"
      }
    },
    {
      "cell_type": "code",
      "source": [
        "train_ds['length'].value_counts()"
      ],
      "metadata": {
        "colab": {
          "base_uri": "https://localhost:8080/"
        },
        "id": "t_IKN5rDhiMx",
        "outputId": "d70c9b3a-8943-4b2b-c290-8bb0936ce937"
      },
      "execution_count": null,
      "outputs": [
        {
          "output_type": "execute_result",
          "data": {
            "text/plain": [
              "80    19799984\n",
              "37           2\n",
              "39           1\n",
              "2            1\n",
              "30           1\n",
              "25           1\n",
              "16           1\n",
              "3            1\n",
              "15           1\n",
              "57           1\n",
              "48           1\n",
              "32           1\n",
              "31           1\n",
              "43           1\n",
              "60           1\n",
              "50           1\n",
              "Name: length, dtype: int64"
            ]
          },
          "metadata": {},
          "execution_count": 18
        }
      ]
    },
    {
      "cell_type": "code",
      "source": [
        "train_ds[train_ds['species']=='Gorilla_gorilla']['length'].value_counts()"
      ],
      "metadata": {
        "colab": {
          "base_uri": "https://localhost:8080/"
        },
        "id": "J0YHC4VifaPr",
        "outputId": "8f4c6774-1d33-402b-d5b0-c3aaee62eaf8"
      },
      "execution_count": null,
      "outputs": [
        {
          "output_type": "execute_result",
          "data": {
            "text/plain": [
              "80    9899411\n",
              "30          1\n",
              "3           1\n",
              "57          1\n",
              "48          1\n",
              "Name: length, dtype: int64"
            ]
          },
          "metadata": {},
          "execution_count": 19
        }
      ]
    },
    {
      "cell_type": "code",
      "source": [
        "train_ds[train_ds['species']=='Homo_sapiens']['length'].value_counts()"
      ],
      "metadata": {
        "colab": {
          "base_uri": "https://localhost:8080/"
        },
        "id": "l_DXEsTPhvhz",
        "outputId": "a8875f1f-e4d4-451e-ecc6-32a260f08041"
      },
      "execution_count": null,
      "outputs": [
        {
          "output_type": "execute_result",
          "data": {
            "text/plain": [
              "80    9900573\n",
              "37          2\n",
              "39          1\n",
              "2           1\n",
              "25          1\n",
              "16          1\n",
              "15          1\n",
              "32          1\n",
              "31          1\n",
              "43          1\n",
              "60          1\n",
              "50          1\n",
              "Name: length, dtype: int64"
            ]
          },
          "metadata": {},
          "execution_count": 20
        }
      ]
    },
    {
      "cell_type": "code",
      "source": [
        "train_ds[train_ds['length']==3]"
      ],
      "metadata": {
        "colab": {
          "base_uri": "https://localhost:8080/",
          "height": 81
        },
        "id": "Rc6aOZSiOr83",
        "outputId": "8219f1c1-8648-44dc-807d-8ce143daebe8"
      },
      "execution_count": null,
      "outputs": [
        {
          "output_type": "execute_result",
          "data": {
            "text/plain": [
              "        genome_sequence          species  length\n",
              "5862575             tat  Gorilla_gorilla       3"
            ],
            "text/html": [
              "\n",
              "  <div id=\"df-3e8feb11-468c-490f-9c04-0e3b63317cd8\">\n",
              "    <div class=\"colab-df-container\">\n",
              "      <div>\n",
              "<style scoped>\n",
              "    .dataframe tbody tr th:only-of-type {\n",
              "        vertical-align: middle;\n",
              "    }\n",
              "\n",
              "    .dataframe tbody tr th {\n",
              "        vertical-align: top;\n",
              "    }\n",
              "\n",
              "    .dataframe thead th {\n",
              "        text-align: right;\n",
              "    }\n",
              "</style>\n",
              "<table border=\"1\" class=\"dataframe\">\n",
              "  <thead>\n",
              "    <tr style=\"text-align: right;\">\n",
              "      <th></th>\n",
              "      <th>genome_sequence</th>\n",
              "      <th>species</th>\n",
              "      <th>length</th>\n",
              "    </tr>\n",
              "  </thead>\n",
              "  <tbody>\n",
              "    <tr>\n",
              "      <th>5862575</th>\n",
              "      <td>tat</td>\n",
              "      <td>Gorilla_gorilla</td>\n",
              "      <td>3</td>\n",
              "    </tr>\n",
              "  </tbody>\n",
              "</table>\n",
              "</div>\n",
              "      <button class=\"colab-df-convert\" onclick=\"convertToInteractive('df-3e8feb11-468c-490f-9c04-0e3b63317cd8')\"\n",
              "              title=\"Convert this dataframe to an interactive table.\"\n",
              "              style=\"display:none;\">\n",
              "        \n",
              "  <svg xmlns=\"http://www.w3.org/2000/svg\" height=\"24px\"viewBox=\"0 0 24 24\"\n",
              "       width=\"24px\">\n",
              "    <path d=\"M0 0h24v24H0V0z\" fill=\"none\"/>\n",
              "    <path d=\"M18.56 5.44l.94 2.06.94-2.06 2.06-.94-2.06-.94-.94-2.06-.94 2.06-2.06.94zm-11 1L8.5 8.5l.94-2.06 2.06-.94-2.06-.94L8.5 2.5l-.94 2.06-2.06.94zm10 10l.94 2.06.94-2.06 2.06-.94-2.06-.94-.94-2.06-.94 2.06-2.06.94z\"/><path d=\"M17.41 7.96l-1.37-1.37c-.4-.4-.92-.59-1.43-.59-.52 0-1.04.2-1.43.59L10.3 9.45l-7.72 7.72c-.78.78-.78 2.05 0 2.83L4 21.41c.39.39.9.59 1.41.59.51 0 1.02-.2 1.41-.59l7.78-7.78 2.81-2.81c.8-.78.8-2.07 0-2.86zM5.41 20L4 18.59l7.72-7.72 1.47 1.35L5.41 20z\"/>\n",
              "  </svg>\n",
              "      </button>\n",
              "      \n",
              "  <style>\n",
              "    .colab-df-container {\n",
              "      display:flex;\n",
              "      flex-wrap:wrap;\n",
              "      gap: 12px;\n",
              "    }\n",
              "\n",
              "    .colab-df-convert {\n",
              "      background-color: #E8F0FE;\n",
              "      border: none;\n",
              "      border-radius: 50%;\n",
              "      cursor: pointer;\n",
              "      display: none;\n",
              "      fill: #1967D2;\n",
              "      height: 32px;\n",
              "      padding: 0 0 0 0;\n",
              "      width: 32px;\n",
              "    }\n",
              "\n",
              "    .colab-df-convert:hover {\n",
              "      background-color: #E2EBFA;\n",
              "      box-shadow: 0px 1px 2px rgba(60, 64, 67, 0.3), 0px 1px 3px 1px rgba(60, 64, 67, 0.15);\n",
              "      fill: #174EA6;\n",
              "    }\n",
              "\n",
              "    [theme=dark] .colab-df-convert {\n",
              "      background-color: #3B4455;\n",
              "      fill: #D2E3FC;\n",
              "    }\n",
              "\n",
              "    [theme=dark] .colab-df-convert:hover {\n",
              "      background-color: #434B5C;\n",
              "      box-shadow: 0px 1px 3px 1px rgba(0, 0, 0, 0.15);\n",
              "      filter: drop-shadow(0px 1px 2px rgba(0, 0, 0, 0.3));\n",
              "      fill: #FFFFFF;\n",
              "    }\n",
              "  </style>\n",
              "\n",
              "      <script>\n",
              "        const buttonEl =\n",
              "          document.querySelector('#df-3e8feb11-468c-490f-9c04-0e3b63317cd8 button.colab-df-convert');\n",
              "        buttonEl.style.display =\n",
              "          google.colab.kernel.accessAllowed ? 'block' : 'none';\n",
              "\n",
              "        async function convertToInteractive(key) {\n",
              "          const element = document.querySelector('#df-3e8feb11-468c-490f-9c04-0e3b63317cd8');\n",
              "          const dataTable =\n",
              "            await google.colab.kernel.invokeFunction('convertToInteractive',\n",
              "                                                     [key], {});\n",
              "          if (!dataTable) return;\n",
              "\n",
              "          const docLinkHtml = 'Like what you see? Visit the ' +\n",
              "            '<a target=\"_blank\" href=https://colab.research.google.com/notebooks/data_table.ipynb>data table notebook</a>'\n",
              "            + ' to learn more about interactive tables.';\n",
              "          element.innerHTML = '';\n",
              "          dataTable['output_type'] = 'display_data';\n",
              "          await google.colab.output.renderOutput(dataTable, element);\n",
              "          const docLink = document.createElement('div');\n",
              "          docLink.innerHTML = docLinkHtml;\n",
              "          element.appendChild(docLink);\n",
              "        }\n",
              "      </script>\n",
              "    </div>\n",
              "  </div>\n",
              "  "
            ]
          },
          "metadata": {},
          "execution_count": 21
        }
      ]
    },
    {
      "cell_type": "markdown",
      "source": [
        "model의 정확도를 위해 이런 outlier들은 제거하고 training을 할 계획"
      ],
      "metadata": {
        "id": "FygA7oHYidX6"
      }
    },
    {
      "cell_type": "code",
      "source": [
        "train_final = train_ds[train_ds.length == 80]\n",
        "len(train_final)"
      ],
      "metadata": {
        "colab": {
          "base_uri": "https://localhost:8080/"
        },
        "id": "IooWBmYNi71M",
        "outputId": "211c162d-a7d4-4ac9-be1b-743ac2301a0b"
      },
      "execution_count": null,
      "outputs": [
        {
          "output_type": "execute_result",
          "data": {
            "text/plain": [
              "19799984"
            ]
          },
          "metadata": {},
          "execution_count": 22
        }
      ]
    },
    {
      "cell_type": "code",
      "source": [
        "train_final = train_final.reset_index(drop = True)"
      ],
      "metadata": {
        "id": "sqbDX4_kmuyY"
      },
      "execution_count": null,
      "outputs": []
    },
    {
      "cell_type": "markdown",
      "source": [
        "이제 train_fianl로 학습 돌리면 됨."
      ],
      "metadata": {
        "id": "G8kd8hXvjQw4"
      }
    },
    {
      "cell_type": "code",
      "source": [
        "train_final = train_final[['genome_sequence','species']]"
      ],
      "metadata": {
        "id": "xo5rNUZjjdvS"
      },
      "execution_count": null,
      "outputs": []
    },
    {
      "cell_type": "code",
      "source": [
        "train_final"
      ],
      "metadata": {
        "colab": {
          "base_uri": "https://localhost:8080/",
          "height": 424
        },
        "id": "CJJoF1o2mAWu",
        "outputId": "f0e9cc1d-6588-4354-ab69-feffb38ec8b4"
      },
      "execution_count": null,
      "outputs": [
        {
          "output_type": "execute_result",
          "data": {
            "text/plain": [
              "                                            genome_sequence          species\n",
              "0         ccacatcccctccagcacctgttgtttcctgactttttaatgattg...  Gorilla_gorilla\n",
              "1         tgtttacttgccaatctttgtttagctgtcagagtggcttgctaaa...  Gorilla_gorilla\n",
              "2         tctgtgaagaaagacattggtagcttgatggggatgacattgaatc...     Homo_sapiens\n",
              "3         ttgtgagaattacgtgagatgatagatttagggactatagaatagt...  Gorilla_gorilla\n",
              "4         gcaaaaaataagttgataagttgattgatatgttattagcttaatt...  Gorilla_gorilla\n",
              "...                                                     ...              ...\n",
              "19799979  agaggtgaagcacttaaattgtgccaggcacataatatatattaaa...     Homo_sapiens\n",
              "19799980  tctaaagttctggaatttcaggcatagagccaccacatccagccga...     Homo_sapiens\n",
              "19799981  tttttgttaaagtgaagaaataactttctttttttgttttttttga...  Gorilla_gorilla\n",
              "19799982  gagccatgtgttatgaagagcagggcctccattggctgtgtccctg...  Gorilla_gorilla\n",
              "19799983  tttttatcacaaactttaatgccataaattaatatgtaacacatat...  Gorilla_gorilla\n",
              "\n",
              "[19799984 rows x 2 columns]"
            ],
            "text/html": [
              "\n",
              "  <div id=\"df-d2ddbda8-ee46-4883-abcf-ad6e81f5576a\">\n",
              "    <div class=\"colab-df-container\">\n",
              "      <div>\n",
              "<style scoped>\n",
              "    .dataframe tbody tr th:only-of-type {\n",
              "        vertical-align: middle;\n",
              "    }\n",
              "\n",
              "    .dataframe tbody tr th {\n",
              "        vertical-align: top;\n",
              "    }\n",
              "\n",
              "    .dataframe thead th {\n",
              "        text-align: right;\n",
              "    }\n",
              "</style>\n",
              "<table border=\"1\" class=\"dataframe\">\n",
              "  <thead>\n",
              "    <tr style=\"text-align: right;\">\n",
              "      <th></th>\n",
              "      <th>genome_sequence</th>\n",
              "      <th>species</th>\n",
              "    </tr>\n",
              "  </thead>\n",
              "  <tbody>\n",
              "    <tr>\n",
              "      <th>0</th>\n",
              "      <td>ccacatcccctccagcacctgttgtttcctgactttttaatgattg...</td>\n",
              "      <td>Gorilla_gorilla</td>\n",
              "    </tr>\n",
              "    <tr>\n",
              "      <th>1</th>\n",
              "      <td>tgtttacttgccaatctttgtttagctgtcagagtggcttgctaaa...</td>\n",
              "      <td>Gorilla_gorilla</td>\n",
              "    </tr>\n",
              "    <tr>\n",
              "      <th>2</th>\n",
              "      <td>tctgtgaagaaagacattggtagcttgatggggatgacattgaatc...</td>\n",
              "      <td>Homo_sapiens</td>\n",
              "    </tr>\n",
              "    <tr>\n",
              "      <th>3</th>\n",
              "      <td>ttgtgagaattacgtgagatgatagatttagggactatagaatagt...</td>\n",
              "      <td>Gorilla_gorilla</td>\n",
              "    </tr>\n",
              "    <tr>\n",
              "      <th>4</th>\n",
              "      <td>gcaaaaaataagttgataagttgattgatatgttattagcttaatt...</td>\n",
              "      <td>Gorilla_gorilla</td>\n",
              "    </tr>\n",
              "    <tr>\n",
              "      <th>...</th>\n",
              "      <td>...</td>\n",
              "      <td>...</td>\n",
              "    </tr>\n",
              "    <tr>\n",
              "      <th>19799979</th>\n",
              "      <td>agaggtgaagcacttaaattgtgccaggcacataatatatattaaa...</td>\n",
              "      <td>Homo_sapiens</td>\n",
              "    </tr>\n",
              "    <tr>\n",
              "      <th>19799980</th>\n",
              "      <td>tctaaagttctggaatttcaggcatagagccaccacatccagccga...</td>\n",
              "      <td>Homo_sapiens</td>\n",
              "    </tr>\n",
              "    <tr>\n",
              "      <th>19799981</th>\n",
              "      <td>tttttgttaaagtgaagaaataactttctttttttgttttttttga...</td>\n",
              "      <td>Gorilla_gorilla</td>\n",
              "    </tr>\n",
              "    <tr>\n",
              "      <th>19799982</th>\n",
              "      <td>gagccatgtgttatgaagagcagggcctccattggctgtgtccctg...</td>\n",
              "      <td>Gorilla_gorilla</td>\n",
              "    </tr>\n",
              "    <tr>\n",
              "      <th>19799983</th>\n",
              "      <td>tttttatcacaaactttaatgccataaattaatatgtaacacatat...</td>\n",
              "      <td>Gorilla_gorilla</td>\n",
              "    </tr>\n",
              "  </tbody>\n",
              "</table>\n",
              "<p>19799984 rows × 2 columns</p>\n",
              "</div>\n",
              "      <button class=\"colab-df-convert\" onclick=\"convertToInteractive('df-d2ddbda8-ee46-4883-abcf-ad6e81f5576a')\"\n",
              "              title=\"Convert this dataframe to an interactive table.\"\n",
              "              style=\"display:none;\">\n",
              "        \n",
              "  <svg xmlns=\"http://www.w3.org/2000/svg\" height=\"24px\"viewBox=\"0 0 24 24\"\n",
              "       width=\"24px\">\n",
              "    <path d=\"M0 0h24v24H0V0z\" fill=\"none\"/>\n",
              "    <path d=\"M18.56 5.44l.94 2.06.94-2.06 2.06-.94-2.06-.94-.94-2.06-.94 2.06-2.06.94zm-11 1L8.5 8.5l.94-2.06 2.06-.94-2.06-.94L8.5 2.5l-.94 2.06-2.06.94zm10 10l.94 2.06.94-2.06 2.06-.94-2.06-.94-.94-2.06-.94 2.06-2.06.94z\"/><path d=\"M17.41 7.96l-1.37-1.37c-.4-.4-.92-.59-1.43-.59-.52 0-1.04.2-1.43.59L10.3 9.45l-7.72 7.72c-.78.78-.78 2.05 0 2.83L4 21.41c.39.39.9.59 1.41.59.51 0 1.02-.2 1.41-.59l7.78-7.78 2.81-2.81c.8-.78.8-2.07 0-2.86zM5.41 20L4 18.59l7.72-7.72 1.47 1.35L5.41 20z\"/>\n",
              "  </svg>\n",
              "      </button>\n",
              "      \n",
              "  <style>\n",
              "    .colab-df-container {\n",
              "      display:flex;\n",
              "      flex-wrap:wrap;\n",
              "      gap: 12px;\n",
              "    }\n",
              "\n",
              "    .colab-df-convert {\n",
              "      background-color: #E8F0FE;\n",
              "      border: none;\n",
              "      border-radius: 50%;\n",
              "      cursor: pointer;\n",
              "      display: none;\n",
              "      fill: #1967D2;\n",
              "      height: 32px;\n",
              "      padding: 0 0 0 0;\n",
              "      width: 32px;\n",
              "    }\n",
              "\n",
              "    .colab-df-convert:hover {\n",
              "      background-color: #E2EBFA;\n",
              "      box-shadow: 0px 1px 2px rgba(60, 64, 67, 0.3), 0px 1px 3px 1px rgba(60, 64, 67, 0.15);\n",
              "      fill: #174EA6;\n",
              "    }\n",
              "\n",
              "    [theme=dark] .colab-df-convert {\n",
              "      background-color: #3B4455;\n",
              "      fill: #D2E3FC;\n",
              "    }\n",
              "\n",
              "    [theme=dark] .colab-df-convert:hover {\n",
              "      background-color: #434B5C;\n",
              "      box-shadow: 0px 1px 3px 1px rgba(0, 0, 0, 0.15);\n",
              "      filter: drop-shadow(0px 1px 2px rgba(0, 0, 0, 0.3));\n",
              "      fill: #FFFFFF;\n",
              "    }\n",
              "  </style>\n",
              "\n",
              "      <script>\n",
              "        const buttonEl =\n",
              "          document.querySelector('#df-d2ddbda8-ee46-4883-abcf-ad6e81f5576a button.colab-df-convert');\n",
              "        buttonEl.style.display =\n",
              "          google.colab.kernel.accessAllowed ? 'block' : 'none';\n",
              "\n",
              "        async function convertToInteractive(key) {\n",
              "          const element = document.querySelector('#df-d2ddbda8-ee46-4883-abcf-ad6e81f5576a');\n",
              "          const dataTable =\n",
              "            await google.colab.kernel.invokeFunction('convertToInteractive',\n",
              "                                                     [key], {});\n",
              "          if (!dataTable) return;\n",
              "\n",
              "          const docLinkHtml = 'Like what you see? Visit the ' +\n",
              "            '<a target=\"_blank\" href=https://colab.research.google.com/notebooks/data_table.ipynb>data table notebook</a>'\n",
              "            + ' to learn more about interactive tables.';\n",
              "          element.innerHTML = '';\n",
              "          dataTable['output_type'] = 'display_data';\n",
              "          await google.colab.output.renderOutput(dataTable, element);\n",
              "          const docLink = document.createElement('div');\n",
              "          docLink.innerHTML = docLinkHtml;\n",
              "          element.appendChild(docLink);\n",
              "        }\n",
              "      </script>\n",
              "    </div>\n",
              "  </div>\n",
              "  "
            ]
          },
          "metadata": {},
          "execution_count": 27
        }
      ]
    },
    {
      "cell_type": "markdown",
      "source": [
        "data 양이 너무 많아 1:1의 비율로 data 양 70%로 감소시키기\n",
        "\n",
        "https://leehah0908.tistory.com/10"
      ],
      "metadata": {
        "id": "NGxnfBWWvds7"
      }
    },
    {
      "cell_type": "code",
      "source": [
        "from sklearn.model_selection import train_test_split\n",
        "target = train_final['species']\n",
        "\n",
        "x_train, x_drop, y_train, y_drop = train_test_split(train_final, \n",
        "                                                      target, \n",
        "                                                      test_size = 0.3, #70%만 가져올거 \n",
        "                                                      random_state = 33,\n",
        "                                                      shuffle = True,\n",
        "                                                      stratify = target)"
      ],
      "metadata": {
        "id": "D6WeUkSJsbZy"
      },
      "execution_count": null,
      "outputs": []
    },
    {
      "cell_type": "code",
      "source": [
        "#인덱스 정리.\n",
        "#drop = False로 했으면 전 index가 새로운 column으로 생성됨.\n",
        "x_train = x_train.reset_index(drop = True)\n",
        "x_train.head()"
      ],
      "metadata": {
        "colab": {
          "base_uri": "https://localhost:8080/",
          "height": 206
        },
        "id": "uvfxy35N0a0m",
        "outputId": "116bd6c6-ead2-47f4-b244-fd965aaf56d9"
      },
      "execution_count": null,
      "outputs": [
        {
          "output_type": "execute_result",
          "data": {
            "text/plain": [
              "                                     genome_sequence          species\n",
              "0  atctacatctccccagctatgaagtagatatgtgggaaaggggctg...  Gorilla_gorilla\n",
              "1  tcccagccgcgctcaggatgcagcagagagaaaagcgaagacccct...     Homo_sapiens\n",
              "2  atccatatttgtggtagctatagacttacaaaatgtattttttaaa...  Gorilla_gorilla\n",
              "3  acaataagatggcagaaggccaaaacgtttggaaatcccccttaaa...  Gorilla_gorilla\n",
              "4  caccctacagggcgaccctagagagacgtccatgcatgttatatcc...  Gorilla_gorilla"
            ],
            "text/html": [
              "\n",
              "  <div id=\"df-f73a25f3-9833-4688-9296-c5fcd55275dc\">\n",
              "    <div class=\"colab-df-container\">\n",
              "      <div>\n",
              "<style scoped>\n",
              "    .dataframe tbody tr th:only-of-type {\n",
              "        vertical-align: middle;\n",
              "    }\n",
              "\n",
              "    .dataframe tbody tr th {\n",
              "        vertical-align: top;\n",
              "    }\n",
              "\n",
              "    .dataframe thead th {\n",
              "        text-align: right;\n",
              "    }\n",
              "</style>\n",
              "<table border=\"1\" class=\"dataframe\">\n",
              "  <thead>\n",
              "    <tr style=\"text-align: right;\">\n",
              "      <th></th>\n",
              "      <th>genome_sequence</th>\n",
              "      <th>species</th>\n",
              "    </tr>\n",
              "  </thead>\n",
              "  <tbody>\n",
              "    <tr>\n",
              "      <th>0</th>\n",
              "      <td>atctacatctccccagctatgaagtagatatgtgggaaaggggctg...</td>\n",
              "      <td>Gorilla_gorilla</td>\n",
              "    </tr>\n",
              "    <tr>\n",
              "      <th>1</th>\n",
              "      <td>tcccagccgcgctcaggatgcagcagagagaaaagcgaagacccct...</td>\n",
              "      <td>Homo_sapiens</td>\n",
              "    </tr>\n",
              "    <tr>\n",
              "      <th>2</th>\n",
              "      <td>atccatatttgtggtagctatagacttacaaaatgtattttttaaa...</td>\n",
              "      <td>Gorilla_gorilla</td>\n",
              "    </tr>\n",
              "    <tr>\n",
              "      <th>3</th>\n",
              "      <td>acaataagatggcagaaggccaaaacgtttggaaatcccccttaaa...</td>\n",
              "      <td>Gorilla_gorilla</td>\n",
              "    </tr>\n",
              "    <tr>\n",
              "      <th>4</th>\n",
              "      <td>caccctacagggcgaccctagagagacgtccatgcatgttatatcc...</td>\n",
              "      <td>Gorilla_gorilla</td>\n",
              "    </tr>\n",
              "  </tbody>\n",
              "</table>\n",
              "</div>\n",
              "      <button class=\"colab-df-convert\" onclick=\"convertToInteractive('df-f73a25f3-9833-4688-9296-c5fcd55275dc')\"\n",
              "              title=\"Convert this dataframe to an interactive table.\"\n",
              "              style=\"display:none;\">\n",
              "        \n",
              "  <svg xmlns=\"http://www.w3.org/2000/svg\" height=\"24px\"viewBox=\"0 0 24 24\"\n",
              "       width=\"24px\">\n",
              "    <path d=\"M0 0h24v24H0V0z\" fill=\"none\"/>\n",
              "    <path d=\"M18.56 5.44l.94 2.06.94-2.06 2.06-.94-2.06-.94-.94-2.06-.94 2.06-2.06.94zm-11 1L8.5 8.5l.94-2.06 2.06-.94-2.06-.94L8.5 2.5l-.94 2.06-2.06.94zm10 10l.94 2.06.94-2.06 2.06-.94-2.06-.94-.94-2.06-.94 2.06-2.06.94z\"/><path d=\"M17.41 7.96l-1.37-1.37c-.4-.4-.92-.59-1.43-.59-.52 0-1.04.2-1.43.59L10.3 9.45l-7.72 7.72c-.78.78-.78 2.05 0 2.83L4 21.41c.39.39.9.59 1.41.59.51 0 1.02-.2 1.41-.59l7.78-7.78 2.81-2.81c.8-.78.8-2.07 0-2.86zM5.41 20L4 18.59l7.72-7.72 1.47 1.35L5.41 20z\"/>\n",
              "  </svg>\n",
              "      </button>\n",
              "      \n",
              "  <style>\n",
              "    .colab-df-container {\n",
              "      display:flex;\n",
              "      flex-wrap:wrap;\n",
              "      gap: 12px;\n",
              "    }\n",
              "\n",
              "    .colab-df-convert {\n",
              "      background-color: #E8F0FE;\n",
              "      border: none;\n",
              "      border-radius: 50%;\n",
              "      cursor: pointer;\n",
              "      display: none;\n",
              "      fill: #1967D2;\n",
              "      height: 32px;\n",
              "      padding: 0 0 0 0;\n",
              "      width: 32px;\n",
              "    }\n",
              "\n",
              "    .colab-df-convert:hover {\n",
              "      background-color: #E2EBFA;\n",
              "      box-shadow: 0px 1px 2px rgba(60, 64, 67, 0.3), 0px 1px 3px 1px rgba(60, 64, 67, 0.15);\n",
              "      fill: #174EA6;\n",
              "    }\n",
              "\n",
              "    [theme=dark] .colab-df-convert {\n",
              "      background-color: #3B4455;\n",
              "      fill: #D2E3FC;\n",
              "    }\n",
              "\n",
              "    [theme=dark] .colab-df-convert:hover {\n",
              "      background-color: #434B5C;\n",
              "      box-shadow: 0px 1px 3px 1px rgba(0, 0, 0, 0.15);\n",
              "      filter: drop-shadow(0px 1px 2px rgba(0, 0, 0, 0.3));\n",
              "      fill: #FFFFFF;\n",
              "    }\n",
              "  </style>\n",
              "\n",
              "      <script>\n",
              "        const buttonEl =\n",
              "          document.querySelector('#df-f73a25f3-9833-4688-9296-c5fcd55275dc button.colab-df-convert');\n",
              "        buttonEl.style.display =\n",
              "          google.colab.kernel.accessAllowed ? 'block' : 'none';\n",
              "\n",
              "        async function convertToInteractive(key) {\n",
              "          const element = document.querySelector('#df-f73a25f3-9833-4688-9296-c5fcd55275dc');\n",
              "          const dataTable =\n",
              "            await google.colab.kernel.invokeFunction('convertToInteractive',\n",
              "                                                     [key], {});\n",
              "          if (!dataTable) return;\n",
              "\n",
              "          const docLinkHtml = 'Like what you see? Visit the ' +\n",
              "            '<a target=\"_blank\" href=https://colab.research.google.com/notebooks/data_table.ipynb>data table notebook</a>'\n",
              "            + ' to learn more about interactive tables.';\n",
              "          element.innerHTML = '';\n",
              "          dataTable['output_type'] = 'display_data';\n",
              "          await google.colab.output.renderOutput(dataTable, element);\n",
              "          const docLink = document.createElement('div');\n",
              "          docLink.innerHTML = docLinkHtml;\n",
              "          element.appendChild(docLink);\n",
              "        }\n",
              "      </script>\n",
              "    </div>\n",
              "  </div>\n",
              "  "
            ]
          },
          "metadata": {},
          "execution_count": 30
        }
      ]
    },
    {
      "cell_type": "code",
      "source": [
        "y_train"
      ],
      "metadata": {
        "colab": {
          "base_uri": "https://localhost:8080/"
        },
        "id": "f3vz_IIc08cP",
        "outputId": "ed4c85f2-37da-4d15-b494-0501571018d4"
      },
      "execution_count": null,
      "outputs": [
        {
          "output_type": "execute_result",
          "data": {
            "text/plain": [
              "16625193    Gorilla_gorilla\n",
              "13413364       Homo_sapiens\n",
              "19780698    Gorilla_gorilla\n",
              "9362780     Gorilla_gorilla\n",
              "5944413     Gorilla_gorilla\n",
              "                 ...       \n",
              "9944315     Gorilla_gorilla\n",
              "9154471        Homo_sapiens\n",
              "16698879       Homo_sapiens\n",
              "6096644     Gorilla_gorilla\n",
              "13445141    Gorilla_gorilla\n",
              "Name: species, Length: 13859988, dtype: object"
            ]
          },
          "metadata": {},
          "execution_count": 31
        }
      ]
    },
    {
      "cell_type": "code",
      "source": [
        "len(x_train)"
      ],
      "metadata": {
        "colab": {
          "base_uri": "https://localhost:8080/"
        },
        "id": "6FU-7JBs3Ssz",
        "outputId": "01f0a6a0-92d3-4374-827d-33f374a45c4a"
      },
      "execution_count": null,
      "outputs": [
        {
          "output_type": "execute_result",
          "data": {
            "text/plain": [
              "13859988"
            ]
          },
          "metadata": {},
          "execution_count": 32
        }
      ]
    },
    {
      "cell_type": "code",
      "source": [
        "len(x_train[x_train['species']=='Homo_sapiens'])"
      ],
      "metadata": {
        "colab": {
          "base_uri": "https://localhost:8080/"
        },
        "id": "iwIWEg302_ds",
        "outputId": "ff556970-8ddc-40e4-f9f4-03aae6f7b07b"
      },
      "execution_count": null,
      "outputs": [
        {
          "output_type": "execute_result",
          "data": {
            "text/plain": [
              "6930401"
            ]
          },
          "metadata": {},
          "execution_count": 33
        }
      ]
    },
    {
      "cell_type": "code",
      "source": [
        "len(x_train[x_train['species']=='Gorilla_gorilla'])"
      ],
      "metadata": {
        "colab": {
          "base_uri": "https://localhost:8080/"
        },
        "id": "oFlfHT2z3ME3",
        "outputId": "e957bfc3-12de-4e18-aa3c-52b91bcdd3bd"
      },
      "execution_count": null,
      "outputs": [
        {
          "output_type": "execute_result",
          "data": {
            "text/plain": [
              "6929587"
            ]
          },
          "metadata": {},
          "execution_count": 34
        }
      ]
    },
    {
      "cell_type": "markdown",
      "source": [
        "띄어쓰기 안한 상태"
      ],
      "metadata": {
        "id": "D4s7_ug2iA2K"
      }
    },
    {
      "cell_type": "code",
      "source": [
        "from sklearn import preprocessing\n",
        "label_encoder = preprocessing.LabelEncoder()\n",
        "x_train['species'] = label_encoder.fit_transform(x_train['species'])"
      ],
      "metadata": {
        "id": "emdgCTiDmAKN"
      },
      "execution_count": null,
      "outputs": []
    },
    {
      "cell_type": "code",
      "source": [
        "vocab_size = 4\n",
        "embedding_dim = 128\n",
        "max_length = 81\n",
        "trunc_type='post'\n",
        "padding_type='post'\n",
        "oov_tok = \"-\"\n",
        "training_size = 10000"
      ],
      "metadata": {
        "id": "Yk9SBGLro0UF"
      },
      "execution_count": null,
      "outputs": []
    },
    {
      "cell_type": "code",
      "source": [],
      "metadata": {
        "id": "0hlvp0Pv3qX0"
      },
      "execution_count": null,
      "outputs": []
    },
    {
      "cell_type": "code",
      "source": [
        "from tqdm import tqdm"
      ],
      "metadata": {
        "id": "a1YjQD7vqCul"
      },
      "execution_count": null,
      "outputs": []
    },
    {
      "cell_type": "code",
      "source": [
        "sentences = []\n",
        "labels = []\n",
        "\n",
        "training_sequences = []\n",
        "training_species = []\n",
        "\n",
        "for index, item in tqdm(x_train.iterrows()):\n",
        "  sequence, specie = item[\"genome_sequence\"], item[\"species\"]\n",
        "  training_sequences.append(str(sequence))\n",
        "  training_species.append(specie)"
      ],
      "metadata": {
        "colab": {
          "base_uri": "https://localhost:8080/"
        },
        "id": "p_q4eZHPo0Mv",
        "outputId": "f161c49c-2a2a-448b-a2c6-6c3cfe4cf901"
      },
      "execution_count": null,
      "outputs": [
        {
          "output_type": "stream",
          "name": "stderr",
          "text": [
            "13859988it [16:46, 13774.28it/s]\n"
          ]
        }
      ]
    },
    {
      "cell_type": "markdown",
      "source": [
        "pickle파일로 만들기"
      ],
      "metadata": {
        "id": "d8x7I_HHiOhY"
      }
    },
    {
      "cell_type": "code",
      "source": [
        "import pickle\n",
        "with open('seq_pickle','wb') as file:\n",
        "  pickle.dump(training_sequences, file)"
      ],
      "metadata": {
        "id": "-b5ba-SqxJqf"
      },
      "execution_count": null,
      "outputs": []
    },
    {
      "cell_type": "code",
      "source": [
        "import pickle\n",
        "with open('spe_pickle','wb') as file:\n",
        "  pickle.dump(training_species, file)"
      ],
      "metadata": {
        "id": "c8vaDgbdxm3Q"
      },
      "execution_count": null,
      "outputs": []
    },
    {
      "cell_type": "code",
      "source": [
        "!mv *_pickle /content/drive/MyDrive/KDT/offline/project3"
      ],
      "metadata": {
        "id": "tE23blYFxmsd"
      },
      "execution_count": null,
      "outputs": []
    },
    {
      "cell_type": "code",
      "source": [
        "len(sequence)"
      ],
      "metadata": {
        "colab": {
          "base_uri": "https://localhost:8080/"
        },
        "id": "EI9AucBCrgIz",
        "outputId": "11a74941-3788-4cfa-a0d1-f771c0361dde"
      },
      "execution_count": null,
      "outputs": [
        {
          "output_type": "execute_result",
          "data": {
            "text/plain": [
              "80"
            ]
          },
          "metadata": {},
          "execution_count": 48
        }
      ]
    },
    {
      "cell_type": "code",
      "source": [
        "len(training_sequences)"
      ],
      "metadata": {
        "colab": {
          "base_uri": "https://localhost:8080/"
        },
        "id": "EwO1EZwutMrq",
        "outputId": "06e9d5b9-29d0-4576-a70d-a4e7257b0785"
      },
      "execution_count": null,
      "outputs": [
        {
          "output_type": "execute_result",
          "data": {
            "text/plain": [
              "7919993"
            ]
          },
          "metadata": {},
          "execution_count": 43
        }
      ]
    },
    {
      "cell_type": "code",
      "source": [],
      "metadata": {
        "id": "cKFs2X9BiSjJ"
      },
      "execution_count": null,
      "outputs": []
    },
    {
      "cell_type": "markdown",
      "source": [
        "pickle파일 불러오기"
      ],
      "metadata": {
        "id": "EQLO0BQSiToA"
      }
    },
    {
      "cell_type": "markdown",
      "source": [
        "\n",
        "```\n",
        ">>> with open('data_dict.pkl','rb') as f:\n",
        "...    mydict = pickle.load(f)\n",
        "   \n",
        ">>> mydict\n",
        "{'A': [0, 1, 2], 'B': [3, 4, 5], 'C': [6, 7, 8]}\n",
        "출처: https://seong6496.tistory.com/92 [파이프마임:티스토리]\n",
        "\n",
        "\n",
        "```\n",
        "\n"
      ],
      "metadata": {
        "id": "1LkV75_vyK-0"
      }
    },
    {
      "cell_type": "code",
      "source": [
        "import pickle\n",
        "with open('/content/drive/MyDrive/KDT/offline/project3/seq_pickle', 'rb') as f:\n",
        "  training_sequences = pickle.load(f)"
      ],
      "metadata": {
        "id": "4zCwaSmXyIDk"
      },
      "execution_count": null,
      "outputs": []
    },
    {
      "cell_type": "code",
      "source": [
        "len(training_sequences)"
      ],
      "metadata": {
        "colab": {
          "base_uri": "https://localhost:8080/"
        },
        "id": "TgHTW0qIkNez",
        "outputId": "98fffc27-7d53-43d9-81a1-9df0966cf140"
      },
      "execution_count": null,
      "outputs": [
        {
          "output_type": "execute_result",
          "data": {
            "text/plain": [
              "19799984"
            ]
          },
          "metadata": {},
          "execution_count": 39
        }
      ]
    },
    {
      "cell_type": "code",
      "source": [
        "with open('/content/drive/MyDrive/KDT/offline/project3/spe_pickle', 'rb') as f:\n",
        "  training_species = pickle.load(f)\n",
        "\n",
        "len(training_species)"
      ],
      "metadata": {
        "colab": {
          "base_uri": "https://localhost:8080/"
        },
        "id": "I7GWUKbuyHmv",
        "outputId": "0e67dfc0-5522-45b1-884a-5dc3e52d526f"
      },
      "execution_count": null,
      "outputs": [
        {
          "output_type": "execute_result",
          "data": {
            "text/plain": [
              "19799984"
            ]
          },
          "metadata": {},
          "execution_count": 40
        }
      ]
    },
    {
      "cell_type": "code",
      "source": [
        "training_species[:10]"
      ],
      "metadata": {
        "colab": {
          "base_uri": "https://localhost:8080/"
        },
        "id": "yadydvdWln8O",
        "outputId": "59332ea1-5fbe-4cee-e367-bb0848027b71"
      },
      "execution_count": null,
      "outputs": [
        {
          "output_type": "execute_result",
          "data": {
            "text/plain": [
              "[1, 0, 1, 0, 1, 0, 1, 1, 0, 0]"
            ]
          },
          "metadata": {},
          "execution_count": 44
        }
      ]
    },
    {
      "cell_type": "code",
      "source": [
        "# train_ds['species'][:10]\n",
        "min(training_species) #0과 1로 구성"
      ],
      "metadata": {
        "colab": {
          "base_uri": "https://localhost:8080/"
        },
        "id": "KquvemcWo7Rq",
        "outputId": "c607e246-27e9-492a-9bd4-97f18ea638cf"
      },
      "execution_count": null,
      "outputs": [
        {
          "output_type": "execute_result",
          "data": {
            "text/plain": [
              "0"
            ]
          },
          "metadata": {},
          "execution_count": 45
        }
      ]
    },
    {
      "cell_type": "code",
      "source": [],
      "metadata": {
        "id": "j9vcLIkp3vVB"
      },
      "execution_count": null,
      "outputs": []
    },
    {
      "cell_type": "code",
      "source": [
        "tokenizer = Tokenizer(num_words = vocab_size, oov_token=oov_tok)\n",
        "tokenizer.fit_on_texts(training_sequences)\n",
        "word_index = tokenizer.word_index\n",
        "training_sequences = tokenizer.texts_to_sequences(training_sequences)\n",
        "training_padded = pad_sequences(training_sequences,maxlen=max_length, \n",
        "                            truncating=trunc_type, padding=padding_type)\n",
        "training_labels_final = np.array(training_species)"
      ],
      "metadata": {
        "id": "EfPqe6P3o4pW"
      },
      "execution_count": null,
      "outputs": []
    },
    {
      "cell_type": "code",
      "source": [
        "training_labels_final.shape"
      ],
      "metadata": {
        "colab": {
          "base_uri": "https://localhost:8080/"
        },
        "id": "DN9D64U39QFS",
        "outputId": "cc82f8b8-41ac-4bb8-b65e-b389fcdccd8a"
      },
      "execution_count": null,
      "outputs": [
        {
          "output_type": "execute_result",
          "data": {
            "text/plain": [
              "(7919993,)"
            ]
          },
          "metadata": {},
          "execution_count": 47
        }
      ]
    },
    {
      "cell_type": "code",
      "source": [
        "len(training_labels_final)"
      ],
      "metadata": {
        "colab": {
          "base_uri": "https://localhost:8080/"
        },
        "id": "eOuOvuM5o4Y5",
        "outputId": "4e4951c7-3052-4c95-a6df-5cf053ce9ac5"
      },
      "execution_count": null,
      "outputs": [
        {
          "output_type": "execute_result",
          "data": {
            "text/plain": [
              "13859988"
            ]
          },
          "metadata": {},
          "execution_count": 40
        }
      ]
    },
    {
      "cell_type": "code",
      "source": [
        "!python --version"
      ],
      "metadata": {
        "colab": {
          "base_uri": "https://localhost:8080/"
        },
        "id": "wkaD7EskNsz6",
        "outputId": "d151a1b0-1379-4554-d229-5b14558b0b4e"
      },
      "execution_count": null,
      "outputs": [
        {
          "output_type": "stream",
          "name": "stdout",
          "text": [
            "Python 3.7.13\n"
          ]
        }
      ]
    },
    {
      "cell_type": "code",
      "source": [
        "es = tf.keras.callbacks.EarlyStopping(\n",
        "monitor='loss', patience=50, verbose=1, mode='min',\n",
        ")\n",
        "model_checkpoint = tf.keras.callbacks.ModelCheckpoint(\n",
        "    \"my_checkpoint.h5\", save_best_only=True)\n",
        "\n",
        "\n",
        "model = tf.keras.Sequential([\n",
        "    tf.keras.layers.Embedding(vocab_size, embedding_dim, input_length=max_length),\n",
        "#     tf.keras.layers.Flatten(),\n",
        "    tf.keras.layers.Bidirectional(tf.keras.layers.LSTM(128, return_sequences=True)),\n",
        "    tf.keras.layers.Bidirectional(tf.keras.layers.LSTM(128)),\n",
        "#     tf.keras.layers.Dropout(0.1),\n",
        "#     tf.keras.layers.Dense(512, activation = 'relu'),\n",
        "#     tf.keras.layers.Dense(5120, activation = 'selu'),\n",
        "#     tf.keras.layers.Dense(5120, activation = 'selu'),\n",
        "#     tf.keras.layers.Dropout(0.8),\n",
        "#     tf.keras.layers.Dense(64, activation = 'selu'),\n",
        "#     tf.keras.layers.Dense(32, activation = 'selu'),\n",
        "    tf.keras.layers.Dense(1, activation = 'sigmoid')\n",
        "])\n",
        "model.compile(loss='binary_crossentropy',optimizer='Adamax',metrics=['accuracy'])\n",
        "model.summary()"
      ],
      "metadata": {
        "colab": {
          "base_uri": "https://localhost:8080/"
        },
        "id": "VNlHHyvo1iWO",
        "outputId": "d44ef689-98a7-4a4a-c178-f0618f281164"
      },
      "execution_count": null,
      "outputs": [
        {
          "output_type": "stream",
          "name": "stdout",
          "text": [
            "Model: \"sequential\"\n",
            "_________________________________________________________________\n",
            " Layer (type)                Output Shape              Param #   \n",
            "=================================================================\n",
            " embedding (Embedding)       (None, 81, 128)           512       \n",
            "                                                                 \n",
            " bidirectional (Bidirectiona  (None, 81, 256)          263168    \n",
            " l)                                                              \n",
            "                                                                 \n",
            " bidirectional_1 (Bidirectio  (None, 256)              394240    \n",
            " nal)                                                            \n",
            "                                                                 \n",
            " dense (Dense)               (None, 1)                 257       \n",
            "                                                                 \n",
            "=================================================================\n",
            "Total params: 658,177\n",
            "Trainable params: 658,177\n",
            "Non-trainable params: 0\n",
            "_________________________________________________________________\n"
          ]
        }
      ]
    },
    {
      "cell_type": "code",
      "source": [
        "num_epochs = 50\n",
        "batch_size= 50\n",
        "history = model.fit(training_padded, training_labels_final, epochs = num_epochs, batch_size = batch_size, callbacks=[es, model_checkpoint], validation_split=0.3)"
      ],
      "metadata": {
        "colab": {
          "base_uri": "https://localhost:8080/",
          "height": 490
        },
        "id": "Ttu54N0E1iN6",
        "outputId": "b550b03d-c38b-4840-8da3-53d59ad9545c"
      },
      "execution_count": null,
      "outputs": [
        {
          "output_type": "stream",
          "name": "stdout",
          "text": [
            "Epoch 1/50\n",
            "126720/126720 [==============================] - 3251s 26ms/step - loss: 0.6936 - accuracy: 0.4997 - val_loss: 0.6932 - val_accuracy: 0.4995\n",
            "Epoch 2/50\n",
            " 27153/126720 [=====>........................] - ETA: 38:18 - loss: 0.6932 - accuracy: 0.5001"
          ]
        },
        {
          "output_type": "error",
          "ename": "KeyboardInterrupt",
          "evalue": "ignored",
          "traceback": [
            "\u001b[0;31m---------------------------------------------------------------------------\u001b[0m",
            "\u001b[0;31mKeyboardInterrupt\u001b[0m                         Traceback (most recent call last)",
            "\u001b[0;32m<ipython-input-50-f51f76e06c74>\u001b[0m in \u001b[0;36m<module>\u001b[0;34m\u001b[0m\n\u001b[1;32m      1\u001b[0m \u001b[0mnum_epochs\u001b[0m \u001b[0;34m=\u001b[0m \u001b[0;36m50\u001b[0m\u001b[0;34m\u001b[0m\u001b[0;34m\u001b[0m\u001b[0m\n\u001b[1;32m      2\u001b[0m \u001b[0mbatch_size\u001b[0m\u001b[0;34m=\u001b[0m \u001b[0;36m50\u001b[0m\u001b[0;34m\u001b[0m\u001b[0;34m\u001b[0m\u001b[0m\n\u001b[0;32m----> 3\u001b[0;31m \u001b[0mhistory\u001b[0m \u001b[0;34m=\u001b[0m \u001b[0mmodel\u001b[0m\u001b[0;34m.\u001b[0m\u001b[0mfit\u001b[0m\u001b[0;34m(\u001b[0m\u001b[0mtraining_padded\u001b[0m\u001b[0;34m,\u001b[0m \u001b[0mtraining_labels_final\u001b[0m\u001b[0;34m,\u001b[0m \u001b[0mepochs\u001b[0m \u001b[0;34m=\u001b[0m \u001b[0mnum_epochs\u001b[0m\u001b[0;34m,\u001b[0m \u001b[0mbatch_size\u001b[0m \u001b[0;34m=\u001b[0m \u001b[0mbatch_size\u001b[0m\u001b[0;34m,\u001b[0m \u001b[0mcallbacks\u001b[0m\u001b[0;34m=\u001b[0m\u001b[0;34m[\u001b[0m\u001b[0mes\u001b[0m\u001b[0;34m,\u001b[0m \u001b[0mmodel_checkpoint\u001b[0m\u001b[0;34m]\u001b[0m\u001b[0;34m,\u001b[0m \u001b[0mvalidation_split\u001b[0m\u001b[0;34m=\u001b[0m\u001b[0;36m0.2\u001b[0m\u001b[0;34m)\u001b[0m\u001b[0;34m\u001b[0m\u001b[0;34m\u001b[0m\u001b[0m\n\u001b[0m",
            "\u001b[0;32m/usr/local/lib/python3.7/dist-packages/keras/utils/traceback_utils.py\u001b[0m in \u001b[0;36merror_handler\u001b[0;34m(*args, **kwargs)\u001b[0m\n\u001b[1;32m     62\u001b[0m     \u001b[0mfiltered_tb\u001b[0m \u001b[0;34m=\u001b[0m \u001b[0;32mNone\u001b[0m\u001b[0;34m\u001b[0m\u001b[0;34m\u001b[0m\u001b[0m\n\u001b[1;32m     63\u001b[0m     \u001b[0;32mtry\u001b[0m\u001b[0;34m:\u001b[0m\u001b[0;34m\u001b[0m\u001b[0;34m\u001b[0m\u001b[0m\n\u001b[0;32m---> 64\u001b[0;31m       \u001b[0;32mreturn\u001b[0m \u001b[0mfn\u001b[0m\u001b[0;34m(\u001b[0m\u001b[0;34m*\u001b[0m\u001b[0margs\u001b[0m\u001b[0;34m,\u001b[0m \u001b[0;34m**\u001b[0m\u001b[0mkwargs\u001b[0m\u001b[0;34m)\u001b[0m\u001b[0;34m\u001b[0m\u001b[0;34m\u001b[0m\u001b[0m\n\u001b[0m\u001b[1;32m     65\u001b[0m     \u001b[0;32mexcept\u001b[0m \u001b[0mException\u001b[0m \u001b[0;32mas\u001b[0m \u001b[0me\u001b[0m\u001b[0;34m:\u001b[0m  \u001b[0;31m# pylint: disable=broad-except\u001b[0m\u001b[0;34m\u001b[0m\u001b[0;34m\u001b[0m\u001b[0m\n\u001b[1;32m     66\u001b[0m       \u001b[0mfiltered_tb\u001b[0m \u001b[0;34m=\u001b[0m \u001b[0m_process_traceback_frames\u001b[0m\u001b[0;34m(\u001b[0m\u001b[0me\u001b[0m\u001b[0;34m.\u001b[0m\u001b[0m__traceback__\u001b[0m\u001b[0;34m)\u001b[0m\u001b[0;34m\u001b[0m\u001b[0;34m\u001b[0m\u001b[0m\n",
            "\u001b[0;32m/usr/local/lib/python3.7/dist-packages/keras/engine/training.py\u001b[0m in \u001b[0;36mfit\u001b[0;34m(self, x, y, batch_size, epochs, verbose, callbacks, validation_split, validation_data, shuffle, class_weight, sample_weight, initial_epoch, steps_per_epoch, validation_steps, validation_batch_size, validation_freq, max_queue_size, workers, use_multiprocessing)\u001b[0m\n\u001b[1;32m   1382\u001b[0m                 _r=1):\n\u001b[1;32m   1383\u001b[0m               \u001b[0mcallbacks\u001b[0m\u001b[0;34m.\u001b[0m\u001b[0mon_train_batch_begin\u001b[0m\u001b[0;34m(\u001b[0m\u001b[0mstep\u001b[0m\u001b[0;34m)\u001b[0m\u001b[0;34m\u001b[0m\u001b[0;34m\u001b[0m\u001b[0m\n\u001b[0;32m-> 1384\u001b[0;31m               \u001b[0mtmp_logs\u001b[0m \u001b[0;34m=\u001b[0m \u001b[0mself\u001b[0m\u001b[0;34m.\u001b[0m\u001b[0mtrain_function\u001b[0m\u001b[0;34m(\u001b[0m\u001b[0miterator\u001b[0m\u001b[0;34m)\u001b[0m\u001b[0;34m\u001b[0m\u001b[0;34m\u001b[0m\u001b[0m\n\u001b[0m\u001b[1;32m   1385\u001b[0m               \u001b[0;32mif\u001b[0m \u001b[0mdata_handler\u001b[0m\u001b[0;34m.\u001b[0m\u001b[0mshould_sync\u001b[0m\u001b[0;34m:\u001b[0m\u001b[0;34m\u001b[0m\u001b[0;34m\u001b[0m\u001b[0m\n\u001b[1;32m   1386\u001b[0m                 \u001b[0mcontext\u001b[0m\u001b[0;34m.\u001b[0m\u001b[0masync_wait\u001b[0m\u001b[0;34m(\u001b[0m\u001b[0;34m)\u001b[0m\u001b[0;34m\u001b[0m\u001b[0;34m\u001b[0m\u001b[0m\n",
            "\u001b[0;32m/usr/local/lib/python3.7/dist-packages/tensorflow/python/util/traceback_utils.py\u001b[0m in \u001b[0;36merror_handler\u001b[0;34m(*args, **kwargs)\u001b[0m\n\u001b[1;32m    148\u001b[0m     \u001b[0mfiltered_tb\u001b[0m \u001b[0;34m=\u001b[0m \u001b[0;32mNone\u001b[0m\u001b[0;34m\u001b[0m\u001b[0;34m\u001b[0m\u001b[0m\n\u001b[1;32m    149\u001b[0m     \u001b[0;32mtry\u001b[0m\u001b[0;34m:\u001b[0m\u001b[0;34m\u001b[0m\u001b[0;34m\u001b[0m\u001b[0m\n\u001b[0;32m--> 150\u001b[0;31m       \u001b[0;32mreturn\u001b[0m \u001b[0mfn\u001b[0m\u001b[0;34m(\u001b[0m\u001b[0;34m*\u001b[0m\u001b[0margs\u001b[0m\u001b[0;34m,\u001b[0m \u001b[0;34m**\u001b[0m\u001b[0mkwargs\u001b[0m\u001b[0;34m)\u001b[0m\u001b[0;34m\u001b[0m\u001b[0;34m\u001b[0m\u001b[0m\n\u001b[0m\u001b[1;32m    151\u001b[0m     \u001b[0;32mexcept\u001b[0m \u001b[0mException\u001b[0m \u001b[0;32mas\u001b[0m \u001b[0me\u001b[0m\u001b[0;34m:\u001b[0m\u001b[0;34m\u001b[0m\u001b[0;34m\u001b[0m\u001b[0m\n\u001b[1;32m    152\u001b[0m       \u001b[0mfiltered_tb\u001b[0m \u001b[0;34m=\u001b[0m \u001b[0m_process_traceback_frames\u001b[0m\u001b[0;34m(\u001b[0m\u001b[0me\u001b[0m\u001b[0;34m.\u001b[0m\u001b[0m__traceback__\u001b[0m\u001b[0;34m)\u001b[0m\u001b[0;34m\u001b[0m\u001b[0;34m\u001b[0m\u001b[0m\n",
            "\u001b[0;32m/usr/local/lib/python3.7/dist-packages/tensorflow/python/eager/def_function.py\u001b[0m in \u001b[0;36m__call__\u001b[0;34m(self, *args, **kwds)\u001b[0m\n\u001b[1;32m    913\u001b[0m \u001b[0;34m\u001b[0m\u001b[0m\n\u001b[1;32m    914\u001b[0m       \u001b[0;32mwith\u001b[0m \u001b[0mOptionalXlaContext\u001b[0m\u001b[0;34m(\u001b[0m\u001b[0mself\u001b[0m\u001b[0;34m.\u001b[0m\u001b[0m_jit_compile\u001b[0m\u001b[0;34m)\u001b[0m\u001b[0;34m:\u001b[0m\u001b[0;34m\u001b[0m\u001b[0;34m\u001b[0m\u001b[0m\n\u001b[0;32m--> 915\u001b[0;31m         \u001b[0mresult\u001b[0m \u001b[0;34m=\u001b[0m \u001b[0mself\u001b[0m\u001b[0;34m.\u001b[0m\u001b[0m_call\u001b[0m\u001b[0;34m(\u001b[0m\u001b[0;34m*\u001b[0m\u001b[0margs\u001b[0m\u001b[0;34m,\u001b[0m \u001b[0;34m**\u001b[0m\u001b[0mkwds\u001b[0m\u001b[0;34m)\u001b[0m\u001b[0;34m\u001b[0m\u001b[0;34m\u001b[0m\u001b[0m\n\u001b[0m\u001b[1;32m    916\u001b[0m \u001b[0;34m\u001b[0m\u001b[0m\n\u001b[1;32m    917\u001b[0m       \u001b[0mnew_tracing_count\u001b[0m \u001b[0;34m=\u001b[0m \u001b[0mself\u001b[0m\u001b[0;34m.\u001b[0m\u001b[0mexperimental_get_tracing_count\u001b[0m\u001b[0;34m(\u001b[0m\u001b[0;34m)\u001b[0m\u001b[0;34m\u001b[0m\u001b[0;34m\u001b[0m\u001b[0m\n",
            "\u001b[0;32m/usr/local/lib/python3.7/dist-packages/tensorflow/python/eager/def_function.py\u001b[0m in \u001b[0;36m_call\u001b[0;34m(self, *args, **kwds)\u001b[0m\n\u001b[1;32m    945\u001b[0m       \u001b[0;31m# In this case we have created variables on the first call, so we run the\u001b[0m\u001b[0;34m\u001b[0m\u001b[0;34m\u001b[0m\u001b[0;34m\u001b[0m\u001b[0m\n\u001b[1;32m    946\u001b[0m       \u001b[0;31m# defunned version which is guaranteed to never create variables.\u001b[0m\u001b[0;34m\u001b[0m\u001b[0;34m\u001b[0m\u001b[0;34m\u001b[0m\u001b[0m\n\u001b[0;32m--> 947\u001b[0;31m       \u001b[0;32mreturn\u001b[0m \u001b[0mself\u001b[0m\u001b[0;34m.\u001b[0m\u001b[0m_stateless_fn\u001b[0m\u001b[0;34m(\u001b[0m\u001b[0;34m*\u001b[0m\u001b[0margs\u001b[0m\u001b[0;34m,\u001b[0m \u001b[0;34m**\u001b[0m\u001b[0mkwds\u001b[0m\u001b[0;34m)\u001b[0m  \u001b[0;31m# pylint: disable=not-callable\u001b[0m\u001b[0;34m\u001b[0m\u001b[0;34m\u001b[0m\u001b[0m\n\u001b[0m\u001b[1;32m    948\u001b[0m     \u001b[0;32melif\u001b[0m \u001b[0mself\u001b[0m\u001b[0;34m.\u001b[0m\u001b[0m_stateful_fn\u001b[0m \u001b[0;32mis\u001b[0m \u001b[0;32mnot\u001b[0m \u001b[0;32mNone\u001b[0m\u001b[0;34m:\u001b[0m\u001b[0;34m\u001b[0m\u001b[0;34m\u001b[0m\u001b[0m\n\u001b[1;32m    949\u001b[0m       \u001b[0;31m# Release the lock early so that multiple threads can perform the call\u001b[0m\u001b[0;34m\u001b[0m\u001b[0;34m\u001b[0m\u001b[0;34m\u001b[0m\u001b[0m\n",
            "\u001b[0;32m/usr/local/lib/python3.7/dist-packages/tensorflow/python/eager/function.py\u001b[0m in \u001b[0;36m__call__\u001b[0;34m(self, *args, **kwargs)\u001b[0m\n\u001b[1;32m   2955\u001b[0m        filtered_flat_args) = self._maybe_define_function(args, kwargs)\n\u001b[1;32m   2956\u001b[0m     return graph_function._call_flat(\n\u001b[0;32m-> 2957\u001b[0;31m         filtered_flat_args, captured_inputs=graph_function.captured_inputs)  # pylint: disable=protected-access\n\u001b[0m\u001b[1;32m   2958\u001b[0m \u001b[0;34m\u001b[0m\u001b[0m\n\u001b[1;32m   2959\u001b[0m   \u001b[0;34m@\u001b[0m\u001b[0mproperty\u001b[0m\u001b[0;34m\u001b[0m\u001b[0;34m\u001b[0m\u001b[0m\n",
            "\u001b[0;32m/usr/local/lib/python3.7/dist-packages/tensorflow/python/eager/function.py\u001b[0m in \u001b[0;36m_call_flat\u001b[0;34m(self, args, captured_inputs, cancellation_manager)\u001b[0m\n\u001b[1;32m   1852\u001b[0m       \u001b[0;31m# No tape is watching; skip to running the function.\u001b[0m\u001b[0;34m\u001b[0m\u001b[0;34m\u001b[0m\u001b[0;34m\u001b[0m\u001b[0m\n\u001b[1;32m   1853\u001b[0m       return self._build_call_outputs(self._inference_function.call(\n\u001b[0;32m-> 1854\u001b[0;31m           ctx, args, cancellation_manager=cancellation_manager))\n\u001b[0m\u001b[1;32m   1855\u001b[0m     forward_backward = self._select_forward_and_backward_functions(\n\u001b[1;32m   1856\u001b[0m         \u001b[0margs\u001b[0m\u001b[0;34m,\u001b[0m\u001b[0;34m\u001b[0m\u001b[0;34m\u001b[0m\u001b[0m\n",
            "\u001b[0;32m/usr/local/lib/python3.7/dist-packages/tensorflow/python/eager/function.py\u001b[0m in \u001b[0;36mcall\u001b[0;34m(self, ctx, args, cancellation_manager)\u001b[0m\n\u001b[1;32m    502\u001b[0m               \u001b[0minputs\u001b[0m\u001b[0;34m=\u001b[0m\u001b[0margs\u001b[0m\u001b[0;34m,\u001b[0m\u001b[0;34m\u001b[0m\u001b[0;34m\u001b[0m\u001b[0m\n\u001b[1;32m    503\u001b[0m               \u001b[0mattrs\u001b[0m\u001b[0;34m=\u001b[0m\u001b[0mattrs\u001b[0m\u001b[0;34m,\u001b[0m\u001b[0;34m\u001b[0m\u001b[0;34m\u001b[0m\u001b[0m\n\u001b[0;32m--> 504\u001b[0;31m               ctx=ctx)\n\u001b[0m\u001b[1;32m    505\u001b[0m         \u001b[0;32melse\u001b[0m\u001b[0;34m:\u001b[0m\u001b[0;34m\u001b[0m\u001b[0;34m\u001b[0m\u001b[0m\n\u001b[1;32m    506\u001b[0m           outputs = execute.execute_with_cancellation(\n",
            "\u001b[0;32m/usr/local/lib/python3.7/dist-packages/tensorflow/python/eager/execute.py\u001b[0m in \u001b[0;36mquick_execute\u001b[0;34m(op_name, num_outputs, inputs, attrs, ctx, name)\u001b[0m\n\u001b[1;32m     53\u001b[0m     \u001b[0mctx\u001b[0m\u001b[0;34m.\u001b[0m\u001b[0mensure_initialized\u001b[0m\u001b[0;34m(\u001b[0m\u001b[0;34m)\u001b[0m\u001b[0;34m\u001b[0m\u001b[0;34m\u001b[0m\u001b[0m\n\u001b[1;32m     54\u001b[0m     tensors = pywrap_tfe.TFE_Py_Execute(ctx._handle, device_name, op_name,\n\u001b[0;32m---> 55\u001b[0;31m                                         inputs, attrs, num_outputs)\n\u001b[0m\u001b[1;32m     56\u001b[0m   \u001b[0;32mexcept\u001b[0m \u001b[0mcore\u001b[0m\u001b[0;34m.\u001b[0m\u001b[0m_NotOkStatusException\u001b[0m \u001b[0;32mas\u001b[0m \u001b[0me\u001b[0m\u001b[0;34m:\u001b[0m\u001b[0;34m\u001b[0m\u001b[0;34m\u001b[0m\u001b[0m\n\u001b[1;32m     57\u001b[0m     \u001b[0;32mif\u001b[0m \u001b[0mname\u001b[0m \u001b[0;32mis\u001b[0m \u001b[0;32mnot\u001b[0m \u001b[0;32mNone\u001b[0m\u001b[0;34m:\u001b[0m\u001b[0;34m\u001b[0m\u001b[0;34m\u001b[0m\u001b[0m\n",
            "\u001b[0;31mKeyboardInterrupt\u001b[0m: "
          ]
        }
      ]
    },
    {
      "cell_type": "code",
      "source": [
        "for i in range(len(length)):\n",
        "  print(len(train_copy[(train_copy['species']=='Gorilla_gorilla') & (train_copy['length'] == length[i])]))"
      ],
      "metadata": {
        "colab": {
          "base_uri": "https://localhost:8080/"
        },
        "id": "usVOPNaMddKR",
        "outputId": "70e28b3c-0d60-46d4-d075-01e78f2abe03"
      },
      "execution_count": null,
      "outputs": [
        {
          "output_type": "stream",
          "name": "stdout",
          "text": [
            "9899411\n",
            "0\n",
            "0\n"
          ]
        }
      ]
    },
    {
      "cell_type": "code",
      "source": [
        "for i in range(1,17):\n",
        "  print(len(gorilla_gorilla+i))"
      ],
      "metadata": {
        "colab": {
          "base_uri": "https://localhost:8080/",
          "height": 192
        },
        "id": "buXmuXSObguP",
        "outputId": "4e0833f1-6869-40c4-eda9-b78001e8931d"
      },
      "execution_count": null,
      "outputs": [
        {
          "output_type": "error",
          "ename": "NameError",
          "evalue": "ignored",
          "traceback": [
            "\u001b[0;31m---------------------------------------------------------------------------\u001b[0m",
            "\u001b[0;31mNameError\u001b[0m                                 Traceback (most recent call last)",
            "\u001b[0;32m<ipython-input-26-6a874823efed>\u001b[0m in \u001b[0;36m<module>\u001b[0;34m\u001b[0m\n\u001b[1;32m      1\u001b[0m \u001b[0;32mfor\u001b[0m \u001b[0mi\u001b[0m \u001b[0;32min\u001b[0m \u001b[0mrange\u001b[0m\u001b[0;34m(\u001b[0m\u001b[0;36m1\u001b[0m\u001b[0;34m,\u001b[0m\u001b[0;36m17\u001b[0m\u001b[0;34m)\u001b[0m\u001b[0;34m:\u001b[0m\u001b[0;34m\u001b[0m\u001b[0;34m\u001b[0m\u001b[0m\n\u001b[0;32m----> 2\u001b[0;31m   \u001b[0mprint\u001b[0m\u001b[0;34m(\u001b[0m\u001b[0mlen\u001b[0m\u001b[0;34m(\u001b[0m\u001b[0mgorilla_gorilla\u001b[0m \u001b[0;34m+\u001b[0m \u001b[0mi\u001b[0m\u001b[0;34m)\u001b[0m\u001b[0;34m)\u001b[0m\u001b[0;34m\u001b[0m\u001b[0;34m\u001b[0m\u001b[0m\n\u001b[0m",
            "\u001b[0;31mNameError\u001b[0m: name 'gorilla_gorilla' is not defined"
          ]
        }
      ]
    },
    {
      "cell_type": "code",
      "source": [
        "train_copy.groupby('length').sum()"
      ],
      "metadata": {
        "id": "5xqM_7GQeKmU"
      },
      "execution_count": null,
      "outputs": []
    }
  ]
}