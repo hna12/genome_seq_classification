{
  "cells": [
    {
      "cell_type": "markdown",
      "metadata": {
        "id": "WG4FOpmImNoP"
      },
      "source": [
        "## Download dataset"
      ]
    },
    {
      "cell_type": "markdown",
      "metadata": {
        "id": "gKwt0II00Y0k"
      },
      "source": [
        "kaggle.json 파일 업로드하기"
      ]
    },
    {
      "cell_type": "code",
      "execution_count": null,
      "metadata": {
        "id": "CPxBjHpG-hen"
      },
      "outputs": [],
      "source": [
        "!cp /content/drive/MyDrive/KDT/offline/kaggle.json ."
      ]
    },
    {
      "cell_type": "code",
      "execution_count": null,
      "metadata": {
        "id": "JbJa-NQgYFTO"
      },
      "outputs": [],
      "source": [
        "!pip install -q kaggle"
      ]
    },
    {
      "cell_type": "code",
      "execution_count": null,
      "metadata": {
        "colab": {
          "base_uri": "https://localhost:8080/"
        },
        "id": "nx9dt3WJYI9L",
        "outputId": "181d7289-989e-4b94-c459-d55645e435c0"
      },
      "outputs": [
        {
          "name": "stdout",
          "output_type": "stream",
          "text": [
            "Looking in indexes: https://pypi.org/simple, https://us-python.pkg.dev/colab-wheels/public/simple/\n",
            "Collecting split-folders\n",
            "  Downloading split_folders-0.5.1-py3-none-any.whl (8.4 kB)\n",
            "Installing collected packages: split-folders\n",
            "Successfully installed split-folders-0.5.1\n"
          ]
        }
      ],
      "source": [
        "!pip install split-folders"
      ]
    },
    {
      "cell_type": "code",
      "execution_count": null,
      "metadata": {
        "id": "PZJdsNsxvoft"
      },
      "outputs": [],
      "source": [
        "!mkdir -p ~/.kaggle/\n",
        "!cp kaggle.json ~/.kaggle/\n",
        "!chmod 600 ~/.kaggle/kaggle.json"
      ]
    },
    {
      "cell_type": "code",
      "execution_count": null,
      "metadata": {
        "colab": {
          "base_uri": "https://localhost:8080/"
        },
        "id": "G1jpmBsnXOPm",
        "outputId": "12d5f916-62ca-41e9-d290-b9bce928b48b"
      },
      "outputs": [
        {
          "name": "stdout",
          "output_type": "stream",
          "text": [
            "kaggle.json\n"
          ]
        }
      ],
      "source": [
        "!ls ~/.kaggle"
      ]
    },
    {
      "cell_type": "code",
      "execution_count": null,
      "metadata": {
        "colab": {
          "base_uri": "https://localhost:8080/"
        },
        "id": "IqaOrS279-Yb",
        "outputId": "a08e546b-9c94-4c19-8d09-0cff71f8ad98"
      },
      "outputs": [
        {
          "name": "stdout",
          "output_type": "stream",
          "text": [
            "Downloading ml-olympiad-gdscuiz-and-tfugagadir.zip to /content\n",
            "100% 672M/675M [00:07<00:00, 51.1MB/s]\n",
            "100% 675M/675M [00:07<00:00, 94.1MB/s]\n"
          ]
        }
      ],
      "source": [
        "!kaggle competitions download -c ml-olympiad-gdscuiz-and-tfugagadir"
      ]
    },
    {
      "cell_type": "code",
      "execution_count": null,
      "metadata": {
        "id": "WmrnESwL--6r"
      },
      "outputs": [],
      "source": [
        "!unzip -qq ml-olympiad-gdscuiz-and-tfugagadir.zip"
      ]
    },
    {
      "cell_type": "code",
      "execution_count": null,
      "metadata": {
        "id": "uyeem5Zk_G9j"
      },
      "outputs": [],
      "source": [
        "!rm ml-olympiad-gdscuiz-and-tfugagadir.zip"
      ]
    }
  ],
  "metadata": {
    "accelerator": "GPU",
    "colab": {
      "collapsed_sections": [],
      "machine_shape": "hm",
      "name": "seq_classification.ipynb",
      "provenance": []
    },
    "gpuClass": "standard",
    "kernelspec": {
      "display_name": "Python 3",
      "name": "python3"
    },
    "language_info": {
      "name": "python"
    }
  },
  "nbformat": 4,
  "nbformat_minor": 0
}
